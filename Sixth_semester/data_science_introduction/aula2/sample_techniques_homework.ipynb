{
  "cells": [
    {
      "cell_type": "markdown",
      "metadata": {
        "id": "bnzPmx8P52UF"
      },
      "source": [
        "# Amostragem\n",
        "\n",
        "**Amostragem é uma contagem ou medição de parte da população e é usada em estudos estatísticos**\n",
        "\n",
        "Observação: Para coletar dados não tendenciosos, você\n",
        "deve ter certeza de que a amostra represente a população"
      ]
    },
    {
      "cell_type": "markdown",
      "metadata": {
        "id": "DTxzWPl_Vel4"
      },
      "source": [
        "## Carregamento da base de dados"
      ]
    },
    {
      "cell_type": "code",
      "execution_count": 1,
      "metadata": {
        "id": "rLSrGHxI52uB"
      },
      "outputs": [],
      "source": [
        "import pandas as pd\n",
        "import random\n",
        "import numpy as np"
      ]
    },
    {
      "cell_type": "code",
      "execution_count": 2,
      "metadata": {
        "id": "MQX_JYAH6T58"
      },
      "outputs": [],
      "source": [
        "dataset = pd.read_csv('credit_data.csv')"
      ]
    },
    {
      "cell_type": "code",
      "execution_count": 3,
      "metadata": {
        "id": "GKW5CXUU6amv"
      },
      "outputs": [
        {
          "data": {
            "text/plain": [
              "(2000, 5)"
            ]
          },
          "execution_count": 3,
          "metadata": {},
          "output_type": "execute_result"
        }
      ],
      "source": [
        "dataset.shape"
      ]
    },
    {
      "cell_type": "code",
      "execution_count": 4,
      "metadata": {
        "id": "d9HaTD8Y6gGK"
      },
      "outputs": [
        {
          "data": {
            "text/html": [
              "<div>\n",
              "<style scoped>\n",
              "    .dataframe tbody tr th:only-of-type {\n",
              "        vertical-align: middle;\n",
              "    }\n",
              "\n",
              "    .dataframe tbody tr th {\n",
              "        vertical-align: top;\n",
              "    }\n",
              "\n",
              "    .dataframe thead th {\n",
              "        text-align: right;\n",
              "    }\n",
              "</style>\n",
              "<table border=\"1\" class=\"dataframe\">\n",
              "  <thead>\n",
              "    <tr style=\"text-align: right;\">\n",
              "      <th></th>\n",
              "      <th>i#clientid</th>\n",
              "      <th>income</th>\n",
              "      <th>age</th>\n",
              "      <th>loan</th>\n",
              "      <th>c#default</th>\n",
              "    </tr>\n",
              "  </thead>\n",
              "  <tbody>\n",
              "    <tr>\n",
              "      <th>0</th>\n",
              "      <td>1</td>\n",
              "      <td>66155.925095</td>\n",
              "      <td>59.017015</td>\n",
              "      <td>8106.532131</td>\n",
              "      <td>0</td>\n",
              "    </tr>\n",
              "    <tr>\n",
              "      <th>1</th>\n",
              "      <td>2</td>\n",
              "      <td>34415.153966</td>\n",
              "      <td>48.117153</td>\n",
              "      <td>6564.745018</td>\n",
              "      <td>0</td>\n",
              "    </tr>\n",
              "    <tr>\n",
              "      <th>2</th>\n",
              "      <td>3</td>\n",
              "      <td>57317.170063</td>\n",
              "      <td>63.108049</td>\n",
              "      <td>8020.953296</td>\n",
              "      <td>0</td>\n",
              "    </tr>\n",
              "    <tr>\n",
              "      <th>3</th>\n",
              "      <td>4</td>\n",
              "      <td>42709.534201</td>\n",
              "      <td>45.751972</td>\n",
              "      <td>6103.642260</td>\n",
              "      <td>0</td>\n",
              "    </tr>\n",
              "    <tr>\n",
              "      <th>4</th>\n",
              "      <td>5</td>\n",
              "      <td>66952.688845</td>\n",
              "      <td>18.584336</td>\n",
              "      <td>8770.099235</td>\n",
              "      <td>1</td>\n",
              "    </tr>\n",
              "  </tbody>\n",
              "</table>\n",
              "</div>"
            ],
            "text/plain": [
              "   i#clientid        income        age         loan  c#default\n",
              "0           1  66155.925095  59.017015  8106.532131          0\n",
              "1           2  34415.153966  48.117153  6564.745018          0\n",
              "2           3  57317.170063  63.108049  8020.953296          0\n",
              "3           4  42709.534201  45.751972  6103.642260          0\n",
              "4           5  66952.688845  18.584336  8770.099235          1"
            ]
          },
          "execution_count": 4,
          "metadata": {},
          "output_type": "execute_result"
        }
      ],
      "source": [
        "dataset.head()"
      ]
    },
    {
      "cell_type": "code",
      "execution_count": 5,
      "metadata": {
        "id": "3X7iatIf61Xf"
      },
      "outputs": [
        {
          "data": {
            "text/html": [
              "<div>\n",
              "<style scoped>\n",
              "    .dataframe tbody tr th:only-of-type {\n",
              "        vertical-align: middle;\n",
              "    }\n",
              "\n",
              "    .dataframe tbody tr th {\n",
              "        vertical-align: top;\n",
              "    }\n",
              "\n",
              "    .dataframe thead th {\n",
              "        text-align: right;\n",
              "    }\n",
              "</style>\n",
              "<table border=\"1\" class=\"dataframe\">\n",
              "  <thead>\n",
              "    <tr style=\"text-align: right;\">\n",
              "      <th></th>\n",
              "      <th>i#clientid</th>\n",
              "      <th>income</th>\n",
              "      <th>age</th>\n",
              "      <th>loan</th>\n",
              "      <th>c#default</th>\n",
              "    </tr>\n",
              "  </thead>\n",
              "  <tbody>\n",
              "    <tr>\n",
              "      <th>1995</th>\n",
              "      <td>1996</td>\n",
              "      <td>59221.044874</td>\n",
              "      <td>48.518179</td>\n",
              "      <td>1926.729397</td>\n",
              "      <td>0</td>\n",
              "    </tr>\n",
              "    <tr>\n",
              "      <th>1996</th>\n",
              "      <td>1997</td>\n",
              "      <td>69516.127573</td>\n",
              "      <td>23.162104</td>\n",
              "      <td>3503.176156</td>\n",
              "      <td>0</td>\n",
              "    </tr>\n",
              "    <tr>\n",
              "      <th>1997</th>\n",
              "      <td>1998</td>\n",
              "      <td>44311.449262</td>\n",
              "      <td>28.017167</td>\n",
              "      <td>5522.786693</td>\n",
              "      <td>1</td>\n",
              "    </tr>\n",
              "    <tr>\n",
              "      <th>1998</th>\n",
              "      <td>1999</td>\n",
              "      <td>43756.056605</td>\n",
              "      <td>63.971796</td>\n",
              "      <td>1622.722598</td>\n",
              "      <td>0</td>\n",
              "    </tr>\n",
              "    <tr>\n",
              "      <th>1999</th>\n",
              "      <td>2000</td>\n",
              "      <td>69436.579552</td>\n",
              "      <td>56.152617</td>\n",
              "      <td>7378.833599</td>\n",
              "      <td>0</td>\n",
              "    </tr>\n",
              "  </tbody>\n",
              "</table>\n",
              "</div>"
            ],
            "text/plain": [
              "      i#clientid        income        age         loan  c#default\n",
              "1995        1996  59221.044874  48.518179  1926.729397          0\n",
              "1996        1997  69516.127573  23.162104  3503.176156          0\n",
              "1997        1998  44311.449262  28.017167  5522.786693          1\n",
              "1998        1999  43756.056605  63.971796  1622.722598          0\n",
              "1999        2000  69436.579552  56.152617  7378.833599          0"
            ]
          },
          "execution_count": 5,
          "metadata": {},
          "output_type": "execute_result"
        }
      ],
      "source": [
        "dataset.tail()"
      ]
    },
    {
      "cell_type": "markdown",
      "metadata": {
        "id": "RrDiirdZ9_m5"
      },
      "source": [
        "## Amostragem aleatória simples"
      ]
    },
    {
      "cell_type": "code",
      "execution_count": 6,
      "metadata": {
        "id": "lk7eAB_R8IiT"
      },
      "outputs": [],
      "source": [
        "def amostragem_aleatoria_simples(dataset, amostras):\n",
        "  return dataset.sample(n = amostras, random_state=1)"
      ]
    },
    {
      "cell_type": "code",
      "execution_count": 7,
      "metadata": {
        "colab": {
          "base_uri": "https://localhost:8080/"
        },
        "id": "08X9Bov_8TBP",
        "outputId": "40b99b23-9162-4ea0-9c52-0c3af8b75bb9"
      },
      "outputs": [
        {
          "data": {
            "text/plain": [
              "(1000, 5)"
            ]
          },
          "execution_count": 7,
          "metadata": {},
          "output_type": "execute_result"
        }
      ],
      "source": [
        "df_amostra_aleatoria_simples = amostragem_aleatoria_simples(dataset, 1000)\n",
        "df_amostra_aleatoria_simples.shape"
      ]
    },
    {
      "cell_type": "markdown",
      "metadata": {
        "id": "LuNZ29C3A8nc"
      },
      "source": [
        "## Amostragem sistemática"
      ]
    },
    {
      "cell_type": "code",
      "execution_count": 8,
      "metadata": {
        "id": "pJe3yAXhAGti"
      },
      "outputs": [],
      "source": [
        "def amostragem_sistematica(dataset, amostras):\n",
        "  intervalo = len(dataset) // amostras\n",
        "  random.seed(1)\n",
        "  inicio = random.randint(0, intervalo)\n",
        "  indices = np.arange(inicio, len(dataset), step = intervalo)\n",
        "  amostra_sistematica = dataset.iloc[indices]\n",
        "  return amostra_sistematica"
      ]
    },
    {
      "cell_type": "code",
      "execution_count": 9,
      "metadata": {
        "colab": {
          "base_uri": "https://localhost:8080/"
        },
        "id": "F4m8_IGIAtVu",
        "outputId": "032fb75b-fe51-4bfe-87de-96fbaafd1831"
      },
      "outputs": [
        {
          "data": {
            "text/plain": [
              "(1000, 5)"
            ]
          },
          "execution_count": 9,
          "metadata": {},
          "output_type": "execute_result"
        }
      ],
      "source": [
        "df_amostra_sistematica = amostragem_sistematica(dataset, 1000)\n",
        "df_amostra_sistematica.shape"
      ]
    },
    {
      "cell_type": "markdown",
      "metadata": {
        "id": "gc3aea8QHqz9"
      },
      "source": [
        "## Amostragem por grupos"
      ]
    },
    {
      "cell_type": "code",
      "execution_count": 10,
      "metadata": {
        "id": "d8PhN_47Eyp3"
      },
      "outputs": [],
      "source": [
        "def amostragem_agrupamento(dataset, numero_grupos):\n",
        "  intervalo = len(dataset) / numero_grupos\n",
        "\n",
        "  grupos = []\n",
        "  id_grupo = 0\n",
        "  contagem = 0\n",
        "  for _ in dataset.iterrows():\n",
        "    grupos.append(id_grupo)\n",
        "    contagem += 1\n",
        "    if contagem > intervalo:\n",
        "      contagem = 0\n",
        "      id_grupo += 1\n",
        "\n",
        "  dataset['grupo'] = grupos\n",
        "  random.seed(1)\n",
        "  grupo_selecionado = random.randint(0, numero_grupos)\n",
        "  return dataset[dataset['grupo'] == grupo_selecionado]"
      ]
    },
    {
      "cell_type": "code",
      "execution_count": 11,
      "metadata": {
        "colab": {
          "base_uri": "https://localhost:8080/"
        },
        "id": "A2Qk3HP5F-W-",
        "outputId": "2f619dc2-03fa-45e2-fbf2-deb982d2cbcc"
      },
      "outputs": [
        {
          "data": {
            "text/plain": [
              "1000.0"
            ]
          },
          "execution_count": 11,
          "metadata": {},
          "output_type": "execute_result"
        }
      ],
      "source": [
        "len(dataset) / 2"
      ]
    },
    {
      "cell_type": "code",
      "execution_count": 12,
      "metadata": {
        "colab": {
          "base_uri": "https://localhost:8080/"
        },
        "id": "tELlhSEZFP9u",
        "outputId": "bf88b29c-0c78-434f-b717-c22f246dc920"
      },
      "outputs": [
        {
          "data": {
            "text/plain": [
              "((1001, 6),\n",
              " grupo\n",
              " 0    1001\n",
              " Name: count, dtype: int64)"
            ]
          },
          "execution_count": 12,
          "metadata": {},
          "output_type": "execute_result"
        }
      ],
      "source": [
        "df_amostra_agrupamento = amostragem_agrupamento(dataset, 2)\n",
        "df_amostra_agrupamento.shape, df_amostra_agrupamento['grupo'].value_counts()"
      ]
    },
    {
      "cell_type": "markdown",
      "metadata": {
        "id": "PNtASp3qI4mL"
      },
      "source": [
        "## Amostra estratificada"
      ]
    },
    {
      "cell_type": "code",
      "execution_count": 13,
      "metadata": {
        "id": "FbVBHWkJIZqq"
      },
      "outputs": [],
      "source": [
        "from sklearn.model_selection import StratifiedShuffleSplit"
      ]
    },
    {
      "cell_type": "code",
      "execution_count": 14,
      "metadata": {
        "colab": {
          "base_uri": "https://localhost:8080/"
        },
        "id": "SOTB_dzMIxFO",
        "outputId": "84eb9db3-6d0b-49c6-b11e-9e69e409af44"
      },
      "outputs": [
        {
          "data": {
            "text/plain": [
              "c#default\n",
              "0    1717\n",
              "1     283\n",
              "Name: count, dtype: int64"
            ]
          },
          "execution_count": 14,
          "metadata": {},
          "output_type": "execute_result"
        }
      ],
      "source": [
        "dataset['c#default'].value_counts()"
      ]
    },
    {
      "cell_type": "code",
      "execution_count": 15,
      "metadata": {
        "id": "W5jDYrBt7itv"
      },
      "outputs": [],
      "source": [
        "def amostragem_estratificada(dataset, percentual, campo):\n",
        "  split = StratifiedShuffleSplit(test_size=percentual, random_state=1)\n",
        "  for _, y in split.split(dataset, dataset[campo]):\n",
        "    df_y = dataset.iloc[y]\n",
        "  return df_y"
      ]
    },
    {
      "cell_type": "code",
      "execution_count": 16,
      "metadata": {
        "colab": {
          "base_uri": "https://localhost:8080/"
        },
        "id": "YrWqVax077Ca",
        "outputId": "8af622e0-2ba0-476c-ddbf-067dc008b4cb"
      },
      "outputs": [
        {
          "data": {
            "text/plain": [
              "(1000, 6)"
            ]
          },
          "execution_count": 16,
          "metadata": {},
          "output_type": "execute_result"
        }
      ],
      "source": [
        "df_amostra_estratificada = amostragem_estratificada(dataset, 0.5, 'c#default')\n",
        "df_amostra_estratificada.shape"
      ]
    },
    {
      "cell_type": "markdown",
      "metadata": {
        "id": "5CKJPA5L7S9q"
      },
      "source": [
        "## Comparativo dos resultados"
      ]
    },
    {
      "cell_type": "code",
      "execution_count": 17,
      "metadata": {
        "colab": {
          "base_uri": "https://localhost:8080/"
        },
        "id": "NTIZlSOQ7Usc",
        "outputId": "4eb5a2b1-1261-4d91-f938-4470dc34250b"
      },
      "outputs": [],
      "source": [
        "media_idade = dataset['age'].mean(); media_renda = dataset['income'].mean(); media_emprestimo = dataset['loan'].mean()"
      ]
    },
    {
      "cell_type": "code",
      "execution_count": 18,
      "metadata": {
        "colab": {
          "base_uri": "https://localhost:8080/"
        },
        "id": "ygori0T_8VD1",
        "outputId": "7f939ab4-67f4-402a-8cb7-2d7302d5bb7f"
      },
      "outputs": [],
      "source": [
        "media_idade_aleatoria = df_amostra_aleatoria_simples['age'].mean(); media_renda_aleatoria = df_amostra_aleatoria_simples['income'].mean();  media_emprestimo_aleatoria = df_amostra_aleatoria_simples['loan'].mean()"
      ]
    },
    {
      "cell_type": "code",
      "execution_count": 19,
      "metadata": {
        "colab": {
          "base_uri": "https://localhost:8080/"
        },
        "id": "3UF_48Rb8cRZ",
        "outputId": "fd72255d-08f1-4b75-97a1-76c647766ebf"
      },
      "outputs": [],
      "source": [
        "media_idade_sistemica = df_amostra_sistematica['age'].mean(); media_renda_sistemica = df_amostra_sistematica['income'].mean(); media_emprestimo_sistemica = df_amostra_sistematica['loan'].mean()"
      ]
    },
    {
      "cell_type": "code",
      "execution_count": 20,
      "metadata": {
        "colab": {
          "base_uri": "https://localhost:8080/"
        },
        "id": "qA6-4Ltt8i6G",
        "outputId": "fedf6c63-b49e-4823-ad62-0f5062276040"
      },
      "outputs": [],
      "source": [
        "media_idade_agrupamento = df_amostra_agrupamento['age'].mean(); media_renda_agrupamento = df_amostra_agrupamento['income'].mean(); media_emprestimo_agrupamento = df_amostra_agrupamento['loan'].mean()"
      ]
    },
    {
      "cell_type": "code",
      "execution_count": 21,
      "metadata": {
        "colab": {
          "base_uri": "https://localhost:8080/"
        },
        "id": "-2p78djJ8vM6",
        "outputId": "1c644a28-f541-4c62-b8fe-119bc15f566d"
      },
      "outputs": [],
      "source": [
        "media_idade_estratificada = df_amostra_estratificada['age'].mean(); media_renda_estratificada = df_amostra_estratificada['income'].mean(); media_emprestimo_estratificada = df_amostra_estratificada['loan'].mean()"
      ]
    },
    {
      "cell_type": "markdown",
      "metadata": {
        "id": "MesJ5MuNxta8"
      },
      "source": [
        "**Dica: faça a subtração dos valores dos atributos (\"age\", \"income\", \"loan\") do dataset original com os dos atributos de cada tipo de amostragem. A técnica a ser utilizada por você é aquela que tiver as menores diferenças.**"
      ]
    },
    {
      "cell_type": "code",
      "execution_count": 22,
      "metadata": {},
      "outputs": [
        {
          "data": {
            "text/plain": [
              "(0.31203376716028686, 231.66863597580232, 5.077205754107126)"
            ]
          },
          "execution_count": 22,
          "metadata": {},
          "output_type": "execute_result"
        }
      ],
      "source": [
        "# usando amostragem aleatória simples\n",
        "\n",
        "abs(media_idade - media_idade_aleatoria), abs(media_renda - media_renda_aleatoria), abs(media_emprestimo - media_emprestimo_aleatoria)"
      ]
    },
    {
      "cell_type": "code",
      "execution_count": 23,
      "metadata": {},
      "outputs": [
        {
          "data": {
            "text/plain": [
              "(0.10361443301296447, 359.89873287617957, 62.41828173807153)"
            ]
          },
          "execution_count": 23,
          "metadata": {},
          "output_type": "execute_result"
        }
      ],
      "source": [
        "# usando amostragem sistemica\n",
        "\n",
        "abs(media_idade - media_idade_sistemica), abs(media_renda - media_renda_sistemica), abs(media_emprestimo - media_emprestimo_sistemica)"
      ]
    },
    {
      "cell_type": "code",
      "execution_count": 24,
      "metadata": {},
      "outputs": [
        {
          "data": {
            "text/plain": [
              "(0.23566373364572257, 484.85075793183205, 54.208200944053715)"
            ]
          },
          "execution_count": 24,
          "metadata": {},
          "output_type": "execute_result"
        }
      ],
      "source": [
        "# usando amostragem agrupamento\n",
        "\n",
        "abs(media_idade - media_idade_agrupamento), abs(media_renda - media_renda_agrupamento), abs(media_emprestimo - media_emprestimo_agrupamento)"
      ]
    },
    {
      "cell_type": "code",
      "execution_count": 25,
      "metadata": {},
      "outputs": [
        {
          "data": {
            "text/plain": [
              "(0.27392230666538353, 230.23326752590947, 20.625043594063754)"
            ]
          },
          "execution_count": 25,
          "metadata": {},
          "output_type": "execute_result"
        }
      ],
      "source": [
        "# usando amostragem estratificada\n",
        "\n",
        "abs(media_idade - media_idade_estratificada), abs(media_renda - media_renda_estratificada), abs(media_emprestimo - media_emprestimo_estratificada)"
      ]
    },
    {
      "cell_type": "code",
      "execution_count": 26,
      "metadata": {},
      "outputs": [],
      "source": [
        "data = [[media_idade, media_idade_aleatoria, media_idade_sistemica, media_idade_agrupamento, media_idade_estratificada],\n",
        "        [media_renda, media_renda_aleatoria, media_renda_sistemica, media_renda_agrupamento, media_renda_estratificada],\n",
        "        [media_emprestimo, media_emprestimo_aleatoria, media_emprestimo_sistemica, media_emprestimo_agrupamento, media_emprestimo_estratificada]\n",
        "        ]\n",
        "\n",
        "# Médias do dataset original e dos diferentes tipos de amostragens\n",
        "columns = [\"Original\", \"Aleatória\", \"Sistêmica\", \"Agrupamento\", \"Estratificada\"]\n",
        "indexes = [\"idade\", \"renda\", \"emprestimo\"]\n",
        "\n",
        "df_medias = pd.DataFrame(data, columns=columns, index=indexes, dtype=float)"
      ]
    },
    {
      "cell_type": "code",
      "execution_count": 27,
      "metadata": {},
      "outputs": [
        {
          "data": {
            "text/html": [
              "<div>\n",
              "<style scoped>\n",
              "    .dataframe tbody tr th:only-of-type {\n",
              "        vertical-align: middle;\n",
              "    }\n",
              "\n",
              "    .dataframe tbody tr th {\n",
              "        vertical-align: top;\n",
              "    }\n",
              "\n",
              "    .dataframe thead th {\n",
              "        text-align: right;\n",
              "    }\n",
              "</style>\n",
              "<table border=\"1\" class=\"dataframe\">\n",
              "  <thead>\n",
              "    <tr style=\"text-align: right;\">\n",
              "      <th></th>\n",
              "      <th>Original</th>\n",
              "      <th>Aleatória</th>\n",
              "      <th>Sistêmica</th>\n",
              "      <th>Agrupamento</th>\n",
              "      <th>Estratificada</th>\n",
              "    </tr>\n",
              "  </thead>\n",
              "  <tbody>\n",
              "    <tr>\n",
              "      <th>idade</th>\n",
              "      <td>40.807559</td>\n",
              "      <td>40.495526</td>\n",
              "      <td>40.911174</td>\n",
              "      <td>41.043223</td>\n",
              "      <td>40.533637</td>\n",
              "    </tr>\n",
              "    <tr>\n",
              "      <th>renda</th>\n",
              "      <td>45331.600018</td>\n",
              "      <td>45563.268654</td>\n",
              "      <td>45691.498751</td>\n",
              "      <td>44846.749260</td>\n",
              "      <td>45101.366750</td>\n",
              "    </tr>\n",
              "    <tr>\n",
              "      <th>emprestimo</th>\n",
              "      <td>4444.369695</td>\n",
              "      <td>4449.446900</td>\n",
              "      <td>4506.787976</td>\n",
              "      <td>4390.161494</td>\n",
              "      <td>4423.744651</td>\n",
              "    </tr>\n",
              "  </tbody>\n",
              "</table>\n",
              "</div>"
            ],
            "text/plain": [
              "                Original     Aleatória     Sistêmica   Agrupamento  \\\n",
              "idade          40.807559     40.495526     40.911174     41.043223   \n",
              "renda       45331.600018  45563.268654  45691.498751  44846.749260   \n",
              "emprestimo   4444.369695   4449.446900   4506.787976   4390.161494   \n",
              "\n",
              "            Estratificada  \n",
              "idade           40.533637  \n",
              "renda        45101.366750  \n",
              "emprestimo    4423.744651  "
            ]
          },
          "execution_count": 27,
          "metadata": {},
          "output_type": "execute_result"
        }
      ],
      "source": [
        "df_medias"
      ]
    },
    {
      "cell_type": "markdown",
      "metadata": {},
      "source": [
        "Melhor tipo de amostragem:\n",
        "\n",
        "Age (Idade): Amostra sistêmica\n",
        "Income (Renda): Amostragem estratificada\n",
        "Loan (Empréstimo): Amostragem aleatória simples"
      ]
    }
  ],
  "metadata": {
    "colab": {
      "collapsed_sections": [
        "DTxzWPl_Vel4",
        "RrDiirdZ9_m5",
        "LuNZ29C3A8nc",
        "gc3aea8QHqz9",
        "PNtASp3qI4mL",
        "5CKJPA5L7S9q"
      ],
      "name": "Tecnicas_Amostragem_Tarefa.ipynb",
      "provenance": []
    },
    "kernelspec": {
      "display_name": "venv",
      "language": "python",
      "name": "python3"
    },
    "language_info": {
      "codemirror_mode": {
        "name": "ipython",
        "version": 3
      },
      "file_extension": ".py",
      "mimetype": "text/x-python",
      "name": "python",
      "nbconvert_exporter": "python",
      "pygments_lexer": "ipython3",
      "version": "3.11.4"
    },
    "vscode": {
      "interpreter": {
        "hash": "c1a26e4798df79bab4c1581e793196fb30f4b2e9cf9442b9f5fe33c78e5da427"
      }
    }
  },
  "nbformat": 4,
  "nbformat_minor": 0
}
