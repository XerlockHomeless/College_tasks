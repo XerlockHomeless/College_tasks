{
  "cells": [
    {
      "cell_type": "code",
      "execution_count": 1,
      "metadata": {
        "id": "Gz9HmUouZzUL"
      },
      "outputs": [],
      "source": [
        "import pandas as pd\n",
        "import matplotlib.pyplot as plt\n",
        "\n",
        "df = pd.read_csv(\"company_sales_data.csv\")\n"
      ]
    },
    {
      "cell_type": "markdown",
      "metadata": {},
      "source": [
        "# **Exercício 1: Leia o lucro total (total_profit) de todos os meses e mostre-o usando um gráfico de linhas**\n",
        "\n",
        "Dados de lucro total fornecidos para cada mês. O gráfico de linha gerado deve incluir as seguintes propriedades:\n",
        "\n",
        "*   **Label X = Número do mês**\n",
        "*   **Label Y = lucro total**"
      ]
    },
    {
      "cell_type": "code",
      "execution_count": 2,
      "metadata": {},
      "outputs": [
        {
          "data": {
            "text/html": [
              "<div>\n",
              "<style scoped>\n",
              "    .dataframe tbody tr th:only-of-type {\n",
              "        vertical-align: middle;\n",
              "    }\n",
              "\n",
              "    .dataframe tbody tr th {\n",
              "        vertical-align: top;\n",
              "    }\n",
              "\n",
              "    .dataframe thead th {\n",
              "        text-align: right;\n",
              "    }\n",
              "</style>\n",
              "<table border=\"1\" class=\"dataframe\">\n",
              "  <thead>\n",
              "    <tr style=\"text-align: right;\">\n",
              "      <th></th>\n",
              "      <th>month_number</th>\n",
              "      <th>facecream</th>\n",
              "      <th>facewash</th>\n",
              "      <th>toothpaste</th>\n",
              "      <th>bathingsoap</th>\n",
              "      <th>shampoo</th>\n",
              "      <th>moisturizer</th>\n",
              "      <th>total_units</th>\n",
              "      <th>total_profit</th>\n",
              "    </tr>\n",
              "  </thead>\n",
              "  <tbody>\n",
              "    <tr>\n",
              "      <th>0</th>\n",
              "      <td>1</td>\n",
              "      <td>2500</td>\n",
              "      <td>1500</td>\n",
              "      <td>5200</td>\n",
              "      <td>9200</td>\n",
              "      <td>1200</td>\n",
              "      <td>1500</td>\n",
              "      <td>21100</td>\n",
              "      <td>211000</td>\n",
              "    </tr>\n",
              "    <tr>\n",
              "      <th>1</th>\n",
              "      <td>2</td>\n",
              "      <td>2630</td>\n",
              "      <td>1200</td>\n",
              "      <td>5100</td>\n",
              "      <td>6100</td>\n",
              "      <td>2100</td>\n",
              "      <td>1200</td>\n",
              "      <td>18330</td>\n",
              "      <td>183300</td>\n",
              "    </tr>\n",
              "    <tr>\n",
              "      <th>2</th>\n",
              "      <td>3</td>\n",
              "      <td>2140</td>\n",
              "      <td>1340</td>\n",
              "      <td>4550</td>\n",
              "      <td>9550</td>\n",
              "      <td>3550</td>\n",
              "      <td>1340</td>\n",
              "      <td>22470</td>\n",
              "      <td>224700</td>\n",
              "    </tr>\n",
              "    <tr>\n",
              "      <th>3</th>\n",
              "      <td>4</td>\n",
              "      <td>3400</td>\n",
              "      <td>1130</td>\n",
              "      <td>5870</td>\n",
              "      <td>8870</td>\n",
              "      <td>1870</td>\n",
              "      <td>1130</td>\n",
              "      <td>22270</td>\n",
              "      <td>222700</td>\n",
              "    </tr>\n",
              "    <tr>\n",
              "      <th>4</th>\n",
              "      <td>5</td>\n",
              "      <td>3600</td>\n",
              "      <td>1740</td>\n",
              "      <td>4560</td>\n",
              "      <td>7760</td>\n",
              "      <td>1560</td>\n",
              "      <td>1740</td>\n",
              "      <td>20960</td>\n",
              "      <td>209600</td>\n",
              "    </tr>\n",
              "    <tr>\n",
              "      <th>5</th>\n",
              "      <td>6</td>\n",
              "      <td>2760</td>\n",
              "      <td>1555</td>\n",
              "      <td>4890</td>\n",
              "      <td>7490</td>\n",
              "      <td>1890</td>\n",
              "      <td>1555</td>\n",
              "      <td>20140</td>\n",
              "      <td>201400</td>\n",
              "    </tr>\n",
              "    <tr>\n",
              "      <th>6</th>\n",
              "      <td>7</td>\n",
              "      <td>2980</td>\n",
              "      <td>1120</td>\n",
              "      <td>4780</td>\n",
              "      <td>8980</td>\n",
              "      <td>1780</td>\n",
              "      <td>1120</td>\n",
              "      <td>29550</td>\n",
              "      <td>295500</td>\n",
              "    </tr>\n",
              "    <tr>\n",
              "      <th>7</th>\n",
              "      <td>8</td>\n",
              "      <td>3700</td>\n",
              "      <td>1400</td>\n",
              "      <td>5860</td>\n",
              "      <td>9960</td>\n",
              "      <td>2860</td>\n",
              "      <td>1400</td>\n",
              "      <td>36140</td>\n",
              "      <td>361400</td>\n",
              "    </tr>\n",
              "    <tr>\n",
              "      <th>8</th>\n",
              "      <td>9</td>\n",
              "      <td>3540</td>\n",
              "      <td>1780</td>\n",
              "      <td>6100</td>\n",
              "      <td>8100</td>\n",
              "      <td>2100</td>\n",
              "      <td>1780</td>\n",
              "      <td>23400</td>\n",
              "      <td>234000</td>\n",
              "    </tr>\n",
              "    <tr>\n",
              "      <th>9</th>\n",
              "      <td>10</td>\n",
              "      <td>1990</td>\n",
              "      <td>1890</td>\n",
              "      <td>8300</td>\n",
              "      <td>10300</td>\n",
              "      <td>2300</td>\n",
              "      <td>1890</td>\n",
              "      <td>26670</td>\n",
              "      <td>266700</td>\n",
              "    </tr>\n",
              "    <tr>\n",
              "      <th>10</th>\n",
              "      <td>11</td>\n",
              "      <td>2340</td>\n",
              "      <td>2100</td>\n",
              "      <td>7300</td>\n",
              "      <td>13300</td>\n",
              "      <td>2400</td>\n",
              "      <td>2100</td>\n",
              "      <td>41280</td>\n",
              "      <td>412800</td>\n",
              "    </tr>\n",
              "    <tr>\n",
              "      <th>11</th>\n",
              "      <td>12</td>\n",
              "      <td>2900</td>\n",
              "      <td>1760</td>\n",
              "      <td>7400</td>\n",
              "      <td>14400</td>\n",
              "      <td>1800</td>\n",
              "      <td>1760</td>\n",
              "      <td>30020</td>\n",
              "      <td>300200</td>\n",
              "    </tr>\n",
              "  </tbody>\n",
              "</table>\n",
              "</div>"
            ],
            "text/plain": [
              "    month_number  facecream  facewash  toothpaste  bathingsoap  shampoo  \\\n",
              "0              1       2500      1500        5200         9200     1200   \n",
              "1              2       2630      1200        5100         6100     2100   \n",
              "2              3       2140      1340        4550         9550     3550   \n",
              "3              4       3400      1130        5870         8870     1870   \n",
              "4              5       3600      1740        4560         7760     1560   \n",
              "5              6       2760      1555        4890         7490     1890   \n",
              "6              7       2980      1120        4780         8980     1780   \n",
              "7              8       3700      1400        5860         9960     2860   \n",
              "8              9       3540      1780        6100         8100     2100   \n",
              "9             10       1990      1890        8300        10300     2300   \n",
              "10            11       2340      2100        7300        13300     2400   \n",
              "11            12       2900      1760        7400        14400     1800   \n",
              "\n",
              "    moisturizer  total_units  total_profit  \n",
              "0          1500        21100        211000  \n",
              "1          1200        18330        183300  \n",
              "2          1340        22470        224700  \n",
              "3          1130        22270        222700  \n",
              "4          1740        20960        209600  \n",
              "5          1555        20140        201400  \n",
              "6          1120        29550        295500  \n",
              "7          1400        36140        361400  \n",
              "8          1780        23400        234000  \n",
              "9          1890        26670        266700  \n",
              "10         2100        41280        412800  \n",
              "11         1760        30020        300200  "
            ]
          },
          "execution_count": 2,
          "metadata": {},
          "output_type": "execute_result"
        }
      ],
      "source": [
        "df"
      ]
    },
    {
      "cell_type": "code",
      "execution_count": 3,
      "metadata": {},
      "outputs": [
        {
          "data": {
            "text/plain": [
              "[<matplotlib.lines.Line2D at 0x7fc8a9c31960>]"
            ]
          },
          "execution_count": 3,
          "metadata": {},
          "output_type": "execute_result"
        },
        {
          "data": {
            "image/png": "[encoded data removed]",
            "text/plain": [
              "<Figure size 640x480 with 1 Axes>"
            ]
          },
          "metadata": {},
          "output_type": "display_data"
        }
      ],
      "source": [
        "plt.title('Exercício 1')\n",
        "plt.xlabel('Número do mês')\n",
        "plt.ylabel('Lucro total')\n",
        "plt.xticks(range(1,13))\n",
        "\n",
        "plt.plot(df['month_number'],df['total_profit'], color='k')"
      ]
    },
    {
      "cell_type": "markdown",
      "metadata": {
        "id": "bCHf2U7scT25"
      },
      "source": [
        "# **Exercício 2: Obtenha o lucro total de todos os meses e mostre o gráfico de linhas com as seguintes propriedades de estilo**\n",
        "\n",
        "O gráfico de linha gerado deve incluir as seguintes propriedades de estilo:\n",
        "\n",
        "*   O estilo da linha deve ser pontilhado e a cor da linha deve ser vermelha\n",
        "*   Mostrar legenda no canto inferior direito\n",
        "*   Label X = Número do mês\n",
        "*   Label Y = Número de unidades vendidas\n",
        "*   Adicione um marcador de círculo\n",
        "*   Cor do marcador de linha: preta\n",
        "*   A largura da linha deve ser 3\n",
        "\n",
        "\n"
      ]
    },
    {
      "cell_type": "code",
      "execution_count": 5,
      "metadata": {
        "id": "TDF7EdiUd3Z5"
      },
      "outputs": [
        {
          "data": {
            "text/plain": [
              "<matplotlib.legend.Legend at 0x7fc8a9c6fa90>"
            ]
          },
          "execution_count": 5,
          "metadata": {},
          "output_type": "execute_result"
        },
        {
          "data": {
            "image/png": "[encoded data removed]",
            "text/plain": [
              "<Figure size 640x480 with 1 Axes>"
            ]
          },
          "metadata": {},
          "output_type": "display_data"
        }
      ],
      "source": [
        "plt.title('Exercício 2')\n",
        "plt.xlabel('Número do mês')\n",
        "plt.ylabel('Número de unidades vendidas')\n",
        "plt.xticks(range(1,13))\n",
        "\n",
        "plt.plot(df['month_number'],df['total_units'], 'r:', marker='o', markerfacecolor='k', linewidth=3)\n",
        "plt.legend(['Unidades vendidas'], loc='lower right', title='Legenda')\n"
      ]
    },
    {
      "cell_type": "markdown",
      "metadata": {
        "id": "3WzTAIRDC0lk"
      },
      "source": [
        "# **Exercício 3: Leia todos os dados de vendas dos produtos e mostre-os usando um gráfico de várias linhas**\n",
        "\n",
        "**Exiba o número de unidades vendidas por mês para cada produto usando gráficos de várias linhas. Isto é, PlotLine separada para cada produto.**\n",
        "\n",
        "\n"
      ]
    },
    {
      "cell_type": "code",
      "execution_count": null,
      "metadata": {
        "id": "52tXZaTsDXBX"
      },
      "outputs": [],
      "source": [
        "df = pd.read_csv(\"/content/company_sales_data.csv\")\n"
      ]
    },
    {
      "cell_type": "markdown",
      "metadata": {
        "id": "ksioIQfKEnSk"
      },
      "source": [
        "# **Exercício 4: Leia os dados de vendas de creme dental de cada mês e mostre-os usando um gráfico de dispersão (scatter plot)**\n",
        "\n",
        "**Além disso, adicione uma grade no gráfico. O estilo da linha de grade deve ser “–“.**\n",
        "\n",
        "\n"
      ]
    },
    {
      "cell_type": "code",
      "execution_count": null,
      "metadata": {
        "id": "ItmQns1BFfJq"
      },
      "outputs": [],
      "source": [
        "df = pd.read_csv(\"/content/company_sales_data.csv\")\n"
      ]
    },
    {
      "cell_type": "markdown",
      "metadata": {
        "id": "UP2c1FguGV0U"
      },
      "source": [
        "# **Exercício 5:  Leia os dados de vendas dos cremes faciais e produtos de lavagem facial e mostre-os usando o gráfico de barras**\n",
        "\n",
        "**O gráfico de barras deve exibir o número de unidades vendidas por mês para cada produto. Adicione uma barra separada para cada produto no mesmo gráfico.**\n",
        "\n",
        "\n"
      ]
    },
    {
      "cell_type": "code",
      "execution_count": null,
      "metadata": {
        "id": "yR0yGwb_Gq5x"
      },
      "outputs": [],
      "source": [
        "df = pd.read_csv(\"/content/company_sales_data.csv\")\n"
      ]
    },
    {
      "cell_type": "markdown",
      "metadata": {
        "id": "PdEHMoXmHmvq"
      },
      "source": [
        "# **Exercício 6: Leia os dados de vendas dos sabonetes de todos os meses e mostre-os usando um gráfico de barras. Salve este gráfico em seu HD**\n",
        "\n",
        "\n",
        "\n"
      ]
    },
    {
      "cell_type": "code",
      "execution_count": null,
      "metadata": {
        "id": "ISPcbV3-IBwY"
      },
      "outputs": [],
      "source": [
        "import pandas as pd\n",
        "import matplotlib.pyplot as plt\n",
        "\n",
        "df = pd.read_csv(\"/content/company_sales_data.csv\")\n",
        "monthList  = df ['month_number'].tolist()\n"
      ]
    },
    {
      "cell_type": "markdown",
      "metadata": {
        "id": "zxijqs_wI61p"
      },
      "source": [
        "# **Exercício 7: Leia o lucro total de cada mês e mostre-o usando o histograma para ver as faixas de lucro mais comuns**\n",
        "\n",
        "\n",
        "\n"
      ]
    },
    {
      "cell_type": "code",
      "execution_count": null,
      "metadata": {
        "id": "D_9Wn9ndJA_9"
      },
      "outputs": [],
      "source": [
        "import pandas as pd\n",
        "import matplotlib.pyplot as plt\n",
        "\n",
        "df = pd.read_csv(\"/content/company_sales_data.csv\")\n"
      ]
    },
    {
      "cell_type": "markdown",
      "metadata": {
        "id": "4ADtqCJBJ36f"
      },
      "source": [
        "# **Exercício 8: Calcule os dados de vendas totais do ano passado para cada produto e mostre-os usando um gráfico de pizza**\n",
        "\n",
        "\n",
        "\n"
      ]
    },
    {
      "cell_type": "code",
      "execution_count": null,
      "metadata": {
        "id": "drql60lCJ_1H"
      },
      "outputs": [],
      "source": [
        "import pandas as pd\n",
        "import matplotlib.pyplot as plt\n",
        "\n",
        "df = pd.read_csv(\"/content/company_sales_data.csv\")\n"
      ]
    },
    {
      "cell_type": "markdown",
      "metadata": {
        "id": "Co8eVcV5KXcQ"
      },
      "source": [
        "# **Exercício 9: Leia os dados da Lavagem Facial e do Sabonete de todos os meses e exiba-o usando o SubPlot**\n",
        "\n",
        "\n",
        "\n"
      ]
    },
    {
      "cell_type": "code",
      "execution_count": null,
      "metadata": {
        "id": "CVydxnLFKtlW"
      },
      "outputs": [],
      "source": [
        "import pandas as pd\n",
        "import matplotlib.pyplot as plt\n",
        "\n",
        "df = pd.read_csv(\"/content/company_sales_data.csv\")\n"
      ]
    },
    {
      "cell_type": "markdown",
      "metadata": {
        "id": "XoOEP3EJLoYx"
      },
      "source": [
        "# **Exercício 10: Leia todos os dados de vendas de produtos e mostre-os usando o gráfico de pilha (stack plot)**\n",
        "\n",
        "\n",
        "\n"
      ]
    },
    {
      "cell_type": "code",
      "execution_count": null,
      "metadata": {
        "id": "z_2GKV-dLweB"
      },
      "outputs": [],
      "source": [
        "import pandas as pd\n",
        "import matplotlib.pyplot as plt\n",
        "\n",
        "df = pd.read_csv(\"/content/company_sales_data.csv\")\n",
        "monthList  = df ['month_number'].tolist()\n",
        "\n",
        "faceCremSalesData   = df ['facecream'].tolist()\n",
        "faceWashSalesData   = df ['facewash'].tolist()\n",
        "toothPasteSalesData = df ['toothpaste'].tolist()\n",
        "bathingsoapSalesData   = df ['bathingsoap'].tolist()\n",
        "shampooSalesData   = df ['shampoo'].tolist()\n",
        "moisturizerSalesData = df ['moisturizer'].tolist()\n",
        "\n",
        "plt.plot([],[],color='m', label='Creme Facial', linewidth=5)\n",
        "plt.plot([],[],color='c', label='Lavagem Facial', linewidth=5)\n",
        "plt.plot([],[],color='r', label='Creme Dental', linewidth=5)\n",
        "plt.plot([],[],color='k', label='Sabonete', linewidth=5)\n",
        "plt.plot([],[],color='g', label='Shampoo', linewidth=5)\n",
        "plt.plot([],[],color='y', label='Hidratante', linewidth=5)\n",
        "\n",
        "plt.stackplot(monthList, faceCremSalesData, faceWashSalesData, toothPasteSalesData,\n",
        "              bathingsoapSalesData, shampooSalesData, moisturizerSalesData,\n",
        "              colors=['m','c','r','k','g','y'])\n",
        "\n",
        "plt.xlabel('Número do Mês')\n",
        "plt.ylabel('Número de Unidades Vendidas')\n",
        "plt.title('Todos os dados de venda usando stack plot')\n",
        "plt.legend(loc='upper left')\n",
        "plt.show()"
      ]
    }
  ],
  "metadata": {
    "colab": {
      "provenance": []
    },
    "kernelspec": {
      "display_name": "Python 3",
      "name": "python3"
    },
    "language_info": {
      "codemirror_mode": {
        "name": "ipython",
        "version": 3
      },
      "file_extension": ".py",
      "mimetype": "text/x-python",
      "name": "python",
      "nbconvert_exporter": "python",
      "pygments_lexer": "ipython3",
      "version": "3.10.12"
    }
  },
  "nbformat": 4,
  "nbformat_minor": 0
}
