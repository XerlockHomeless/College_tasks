{
  "cells": [
    {
      "cell_type": "code",
      "execution_count": null,
      "metadata": {
        "id": "Gz9HmUouZzUL"
      },
      "outputs": [],
      "source": [
        "import pandas as pd\n",
        "import matplotlib.pyplot as plt\n",
        "\n",
        "df = pd.read_csv(\"company_sales_data.csv\")\n"
      ]
    },
    {
      "cell_type": "markdown",
      "metadata": {},
      "source": [
        "# **Exercício 1: Leia o lucro total (total_profit) de todos os meses e mostre-o usando um gráfico de linhas**\n",
        "\n",
        "Dados de lucro total fornecidos para cada mês. O gráfico de linha gerado deve incluir as seguintes propriedades:\n",
        "\n",
        "*   **Label X = Número do mês**\n",
        "*   **Label Y = lucro total**"
      ]
    },
    {
      "cell_type": "code",
      "execution_count": null,
      "metadata": {},
      "outputs": [],
      "source": [
        "df"
      ]
    },
    {
      "cell_type": "code",
      "execution_count": null,
      "metadata": {},
      "outputs": [],
      "source": [
        "plt.title('Exercício 1')\n",
        "plt.xlabel('Número do mês')\n",
        "plt.ylabel('Lucro total')\n",
        "plt.xticks(range(1,13))\n",
        "\n",
        "plt.plot(df['month_number'],df['total_profit'], color='k')"
      ]
    },
    {
      "cell_type": "markdown",
      "metadata": {
        "id": "bCHf2U7scT25"
      },
      "source": [
        "# **Exercício 2: Obtenha o lucro total de todos os meses e mostre o gráfico de linhas com as seguintes propriedades de estilo**\n",
        "\n",
        "O gráfico de linha gerado deve incluir as seguintes propriedades de estilo:\n",
        "\n",
        "*   O estilo da linha deve ser pontilhado e a cor da linha deve ser vermelha\n",
        "*   Mostrar legenda no canto inferior direito\n",
        "*   Label X = Número do mês\n",
        "*   Label Y = Número de unidades vendidas\n",
        "*   Adicione um marcador de círculo\n",
        "*   Cor do marcador de linha: preta\n",
        "*   A largura da linha deve ser 3\n",
        "\n",
        "\n"
      ]
    },
    {
      "cell_type": "code",
      "execution_count": null,
      "metadata": {
        "id": "TDF7EdiUd3Z5"
      },
      "outputs": [],
      "source": [
        "plt.title('Exercício 2')\n",
        "plt.xlabel('Número do mês')\n",
        "plt.ylabel('Número de unidades vendidas')\n",
        "plt.xticks(range(1,13))\n",
        "\n",
        "plt.plot(df['month_number'],df['total_units'], 'r--', marker='o', markerfacecolor='k', linewidth=3)\n",
        "plt.legend(['Unidades vendidas'], loc='lower right', title='Legenda')\n"
      ]
    },
    {
      "cell_type": "markdown",
      "metadata": {
        "id": "3WzTAIRDC0lk"
      },
      "source": [
        "# **Exercício 3: Leia todos os dados de vendas dos produtos e mostre-os usando um gráfico de várias linhas**\n",
        "\n",
        "**Exiba o número de unidades vendidas por mês para cada produto usando gráficos de várias linhas. Isto é, PlotLine separada para cada produto.**\n",
        "\n",
        "\n"
      ]
    },
    {
      "cell_type": "code",
      "execution_count": null,
      "metadata": {
        "id": "52tXZaTsDXBX"
      },
      "outputs": [],
      "source": [
        "df = pd.read_csv(\"/content/company_sales_data.csv\")\n"
      ]
    },
    {
      "cell_type": "markdown",
      "metadata": {
        "id": "ksioIQfKEnSk"
      },
      "source": [
        "# **Exercício 4: Leia os dados de vendas de creme dental de cada mês e mostre-os usando um gráfico de dispersão (scatter plot)**\n",
        "\n",
        "**Além disso, adicione uma grade no gráfico. O estilo da linha de grade deve ser “–“.**\n",
        "\n",
        "\n"
      ]
    },
    {
      "cell_type": "code",
      "execution_count": null,
      "metadata": {
        "id": "ItmQns1BFfJq"
      },
      "outputs": [],
      "source": [
        "df = pd.read_csv(\"/content/company_sales_data.csv\")\n"
      ]
    },
    {
      "cell_type": "markdown",
      "metadata": {
        "id": "UP2c1FguGV0U"
      },
      "source": [
        "# **Exercício 5:  Leia os dados de vendas dos cremes faciais e produtos de lavagem facial e mostre-os usando o gráfico de barras**\n",
        "\n",
        "**O gráfico de barras deve exibir o número de unidades vendidas por mês para cada produto. Adicione uma barra separada para cada produto no mesmo gráfico.**\n",
        "\n",
        "\n"
      ]
    },
    {
      "cell_type": "code",
      "execution_count": null,
      "metadata": {
        "id": "yR0yGwb_Gq5x"
      },
      "outputs": [],
      "source": [
        "df = pd.read_csv(\"/content/company_sales_data.csv\")\n"
      ]
    },
    {
      "cell_type": "markdown",
      "metadata": {
        "id": "PdEHMoXmHmvq"
      },
      "source": [
        "# **Exercício 6: Leia os dados de vendas dos sabonetes de todos os meses e mostre-os usando um gráfico de barras. Salve este gráfico em seu HD**\n",
        "\n",
        "\n",
        "\n"
      ]
    },
    {
      "cell_type": "code",
      "execution_count": null,
      "metadata": {
        "id": "ISPcbV3-IBwY"
      },
      "outputs": [],
      "source": [
        "import pandas as pd\n",
        "import matplotlib.pyplot as plt\n",
        "\n",
        "df = pd.read_csv(\"/content/company_sales_data.csv\")\n",
        "monthList  = df ['month_number'].tolist()\n"
      ]
    },
    {
      "cell_type": "markdown",
      "metadata": {
        "id": "zxijqs_wI61p"
      },
      "source": [
        "# **Exercício 7: Leia o lucro total de cada mês e mostre-o usando o histograma para ver as faixas de lucro mais comuns**\n",
        "\n",
        "\n",
        "\n"
      ]
    },
    {
      "cell_type": "code",
      "execution_count": null,
      "metadata": {
        "id": "D_9Wn9ndJA_9"
      },
      "outputs": [],
      "source": [
        "import pandas as pd\n",
        "import matplotlib.pyplot as plt\n",
        "\n",
        "df = pd.read_csv(\"/content/company_sales_data.csv\")\n"
      ]
    },
    {
      "cell_type": "markdown",
      "metadata": {
        "id": "4ADtqCJBJ36f"
      },
      "source": [
        "# **Exercício 8: Calcule os dados de vendas totais do ano passado para cada produto e mostre-os usando um gráfico de pizza**\n",
        "\n",
        "\n",
        "\n"
      ]
    },
    {
      "cell_type": "code",
      "execution_count": null,
      "metadata": {
        "id": "drql60lCJ_1H"
      },
      "outputs": [],
      "source": [
        "import pandas as pd\n",
        "import matplotlib.pyplot as plt\n",
        "\n",
        "df = pd.read_csv(\"/content/company_sales_data.csv\")\n"
      ]
    },
    {
      "cell_type": "markdown",
      "metadata": {
        "id": "Co8eVcV5KXcQ"
      },
      "source": [
        "# **Exercício 9: Leia os dados da Lavagem Facial e do Sabonete de todos os meses e exiba-o usando o SubPlot**\n",
        "\n",
        "\n",
        "\n"
      ]
    },
    {
      "cell_type": "code",
      "execution_count": null,
      "metadata": {
        "id": "CVydxnLFKtlW"
      },
      "outputs": [],
      "source": [
        "import pandas as pd\n",
        "import matplotlib.pyplot as plt\n",
        "\n",
        "df = pd.read_csv(\"/content/company_sales_data.csv\")\n"
      ]
    },
    {
      "cell_type": "markdown",
      "metadata": {
        "id": "XoOEP3EJLoYx"
      },
      "source": [
        "# **Exercício 10: Leia todos os dados de vendas de produtos e mostre-os usando o gráfico de pilha (stack plot)**\n",
        "\n",
        "\n",
        "\n"
      ]
    },
    {
      "cell_type": "code",
      "execution_count": null,
      "metadata": {
        "id": "z_2GKV-dLweB"
      },
      "outputs": [],
      "source": [
        "import pandas as pd\n",
        "import matplotlib.pyplot as plt\n",
        "\n",
        "df = pd.read_csv(\"/content/company_sales_data.csv\")\n",
        "monthList  = df ['month_number'].tolist()\n",
        "\n",
        "faceCremSalesData   = df ['facecream'].tolist()\n",
        "faceWashSalesData   = df ['facewash'].tolist()\n",
        "toothPasteSalesData = df ['toothpaste'].tolist()\n",
        "bathingsoapSalesData   = df ['bathingsoap'].tolist()\n",
        "shampooSalesData   = df ['shampoo'].tolist()\n",
        "moisturizerSalesData = df ['moisturizer'].tolist()\n",
        "\n",
        "plt.plot([],[],color='m', label='Creme Facial', linewidth=5)\n",
        "plt.plot([],[],color='c', label='Lavagem Facial', linewidth=5)\n",
        "plt.plot([],[],color='r', label='Creme Dental', linewidth=5)\n",
        "plt.plot([],[],color='k', label='Sabonete', linewidth=5)\n",
        "plt.plot([],[],color='g', label='Shampoo', linewidth=5)\n",
        "plt.plot([],[],color='y', label='Hidratante', linewidth=5)\n",
        "\n",
        "plt.stackplot(monthList, faceCremSalesData, faceWashSalesData, toothPasteSalesData,\n",
        "              bathingsoapSalesData, shampooSalesData, moisturizerSalesData,\n",
        "              colors=['m','c','r','k','g','y'])\n",
        "\n",
        "plt.xlabel('Número do Mês')\n",
        "plt.ylabel('Número de Unidades Vendidas')\n",
        "plt.title('Todos os dados de venda usando stack plot')\n",
        "plt.legend(loc='upper left')\n",
        "plt.show()"
      ]
    }
  ],
  "metadata": {
    "colab": {
      "provenance": []
    },
    "kernelspec": {
      "display_name": "Python 3",
      "name": "python3"
    },
    "language_info": {
      "codemirror_mode": {
        "name": "ipython",
        "version": 3
      },
      "file_extension": ".py",
      "mimetype": "text/x-python",
      "name": "python",
      "nbconvert_exporter": "python",
      "pygments_lexer": "ipython3",
      "version": "3.10.12"
    }
  },
  "nbformat": 4,
  "nbformat_minor": 0
}
