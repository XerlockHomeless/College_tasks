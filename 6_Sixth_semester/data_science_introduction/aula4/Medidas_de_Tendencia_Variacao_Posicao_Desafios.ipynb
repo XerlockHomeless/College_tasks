{
  "nbformat": 4,
  "nbformat_minor": 0,
  "metadata": {
    "colab": {
      "provenance": []
    },
    "kernelspec": {
      "name": "python3",
      "display_name": "Python 3"
    }
  },
  "cells": [
    {
      "cell_type": "markdown",
      "metadata": {
        "id": "b-sJV-8TppJh"
      },
      "source": [
        "## **Importa bibliotecas**"
      ]
    },
    {
      "cell_type": "code",
      "metadata": {
        "id": "jk9u4BJ1Wqpa"
      },
      "source": [
        "import numpy as np\n",
        "import statistics\n",
        "from scipy import stats\n",
        "import math"
      ],
      "execution_count": null,
      "outputs": []
    },
    {
      "cell_type": "markdown",
      "metadata": {
        "id": "P5AnSs-VNcJa"
      },
      "source": [
        "## **Carrega o Conjunto de Dados (dataset)**\n"
      ]
    },
    {
      "cell_type": "code",
      "metadata": {
        "id": "-iizD18Hpe8P"
      },
      "source": [
        "dados = np.array([150, 151, 152, 152, 153, 154, 155, 155, 155, 155, 156, 156, 156,\n",
        "                  157, 158, 158, 160, 160, 160, 160, 160, 161, 161, 161, 161, 162,\n",
        "                  163, 163, 164, 164, 164, 165, 166, 167, 168, 168, 169, 170, 172,\n",
        "                  173])"
      ],
      "execution_count": null,
      "outputs": []
    },
    {
      "cell_type": "markdown",
      "metadata": {
        "id": "A2a4Ps-RpmCv"
      },
      "source": [
        "# **Medidas de Tendência Central**\n",
        "Valor de um conjunto de dados (dataset) que representa uma entrada típica ou central"
      ]
    },
    {
      "cell_type": "markdown",
      "metadata": {
        "id": "04mBFjDuptL7"
      },
      "source": [
        "## **Média Aritmética Simples**"
      ]
    },
    {
      "cell_type": "code",
      "metadata": {
        "id": "C-39PNeqXMhx"
      },
      "source": [
        "#calculando média manualmente\n",
        "dados.sum() / len(dados)"
      ],
      "execution_count": null,
      "outputs": []
    },
    {
      "cell_type": "code",
      "metadata": {
        "id": "IJnw7O4FXYnC"
      },
      "source": [
        "#calculando a média usando função do NumPy\n",
        "dados.mean()"
      ],
      "execution_count": null,
      "outputs": []
    },
    {
      "cell_type": "code",
      "metadata": {
        "id": "0ertqHN1Xc2H"
      },
      "source": [
        "#calculando a média usando pacote \"statistics\" do Python\n",
        "statistics.mean(dados)"
      ],
      "execution_count": null,
      "outputs": []
    },
    {
      "cell_type": "markdown",
      "metadata": {
        "id": "hkq_zae75joP"
      },
      "source": [
        "## **Moda**"
      ]
    },
    {
      "cell_type": "code",
      "metadata": {
        "id": "iCdM7KSjX1DD"
      },
      "source": [
        "#calculando a moda usando pacote \"statistics\" do Python\n",
        "statistics.mode(dados)"
      ],
      "execution_count": null,
      "outputs": []
    },
    {
      "cell_type": "code",
      "metadata": {
        "id": "xEs8kq2GX7k_"
      },
      "source": [
        "#calculando a moda usando pacote \"stats\" do ScyPy\n",
        "stats.mode(dados)"
      ],
      "execution_count": null,
      "outputs": []
    },
    {
      "cell_type": "markdown",
      "metadata": {
        "id": "BNb_PbIM5kk-"
      },
      "source": [
        "## **Mediana**"
      ]
    },
    {
      "cell_type": "code",
      "metadata": {
        "id": "WYauSw6b8HQs"
      },
      "source": [
        "#número de elementos no dataset é ímpar\n",
        "#os dados devem estar ordenados\n",
        "dados_impar = [150, 151, 152, 152, 153, 154, 155, 155, 155]"
      ],
      "execution_count": null,
      "outputs": []
    },
    {
      "cell_type": "markdown",
      "metadata": {
        "id": "yPHpvq0W-ABs"
      },
      "source": [
        "***Mediana - Cálculo manual (número ímpar de elementos)***"
      ]
    },
    {
      "cell_type": "code",
      "metadata": {
        "id": "WugwDKtCYS0Y"
      },
      "source": [
        "posicao = len(dados_impar) / 2\n",
        "posicao"
      ],
      "execution_count": null,
      "outputs": []
    },
    {
      "cell_type": "code",
      "metadata": {
        "id": "EXZTOH_EYhtM"
      },
      "source": [
        "#arredonda para cima\n",
        "posicao = math.ceil(posicao)\n",
        "posicao"
      ],
      "execution_count": null,
      "outputs": []
    },
    {
      "cell_type": "code",
      "metadata": {
        "id": "938Gx7-vYm1s"
      },
      "source": [
        "#subtrai 1 de posicao porque o índice inicia em zero (0)\n",
        "dados_impar[posicao - 1]"
      ],
      "execution_count": null,
      "outputs": []
    },
    {
      "cell_type": "markdown",
      "metadata": {
        "id": "Y5WBJckZ-jlW"
      },
      "source": [
        "***Mediana - Cálculo manual (número par de elementos)***"
      ]
    },
    {
      "cell_type": "code",
      "metadata": {
        "id": "sSN8Nf0fY4Zy"
      },
      "source": [
        "#calcula número de elementos do dataset\n",
        "len(dados)"
      ],
      "execution_count": null,
      "outputs": []
    },
    {
      "cell_type": "code",
      "metadata": {
        "id": "avs6ihXMQt-u"
      },
      "source": [
        "#calcula a divisão inteira (//)\n",
        "posicao = len(dados) // 2\n",
        "posicao"
      ],
      "execution_count": null,
      "outputs": []
    },
    {
      "cell_type": "code",
      "metadata": {
        "id": "wnGc44QuY8zP"
      },
      "source": [
        "#índice inicia em 0, por isto subtrai\n",
        "#com isto se obtém os dois elmentos centrais do dataset\n",
        "dados[posicao - 1], dados[posicao]"
      ],
      "execution_count": null,
      "outputs": []
    },
    {
      "cell_type": "code",
      "metadata": {
        "id": "e1jeHsuRZKqh"
      },
      "source": [
        "#mediana é a média aritmética dos dois elementos centrais\n",
        "mediana = (dados[posicao - 1] + dados[posicao]) / 2\n",
        "mediana"
      ],
      "execution_count": null,
      "outputs": []
    },
    {
      "cell_type": "markdown",
      "metadata": {
        "id": "K0JHhy5p_Lc4"
      },
      "source": [
        "**Mediana - cálculo com as bibliotecas**"
      ]
    },
    {
      "cell_type": "code",
      "metadata": {
        "id": "jHHIhQCaZXjA"
      },
      "source": [
        "np.median(dados_impar)"
      ],
      "execution_count": null,
      "outputs": []
    },
    {
      "cell_type": "code",
      "metadata": {
        "id": "9ds6VVYVZdDX"
      },
      "source": [
        "np.median(dados)"
      ],
      "execution_count": null,
      "outputs": []
    },
    {
      "cell_type": "code",
      "metadata": {
        "id": "dhV9QtgTZhDS"
      },
      "source": [
        "statistics.median(dados_impar)"
      ],
      "execution_count": null,
      "outputs": []
    },
    {
      "cell_type": "code",
      "metadata": {
        "id": "mwvGW0Z-Zl2p"
      },
      "source": [
        "statistics.median(dados)"
      ],
      "execution_count": null,
      "outputs": []
    },
    {
      "cell_type": "markdown",
      "metadata": {
        "id": "sHVY0OeLEhk5"
      },
      "source": [
        "## **Média aritmética ponderada**"
      ]
    },
    {
      "cell_type": "code",
      "metadata": {
        "id": "KdRONYgwbdSy"
      },
      "source": [
        "notas = np.array([9, 8, 7, 3])\n",
        "pesos = np.array([1, 2, 3, 4])"
      ],
      "execution_count": null,
      "outputs": []
    },
    {
      "cell_type": "code",
      "metadata": {
        "id": "uVZvT4PQbm_F"
      },
      "source": [
        "(9 * 1 + 8 * 2 + 7 * 3 + 3 * 4) / (1 + 2 + 3 + 4)"
      ],
      "execution_count": null,
      "outputs": []
    },
    {
      "cell_type": "code",
      "metadata": {
        "id": "t0PCioI9b0J7"
      },
      "source": [
        "media_ponderada = (notas * pesos).sum() / pesos.sum()\n",
        "media_ponderada"
      ],
      "execution_count": null,
      "outputs": []
    },
    {
      "cell_type": "code",
      "metadata": {
        "id": "gimBCIWFcEcy"
      },
      "source": [
        "np.average(notas, weights=pesos)"
      ],
      "execution_count": null,
      "outputs": []
    },
    {
      "cell_type": "markdown",
      "metadata": {
        "id": "7EZ602jEqI8o"
      },
      "source": [
        "## **Média aritmética, moda e mediana de uma distribuição de frequência (DF)**"
      ]
    },
    {
      "cell_type": "code",
      "metadata": {
        "id": "u6NbLnwdqQSw"
      },
      "source": [
        "#dicionário com intervalos inferior e superior (i.e. classes)\n",
        "#fi = frequência absoluta\n",
        "dados = {'inferior': [150, 154, 158, 162, 166, 170],\n",
        "         'superior': [154, 158, 162, 166, 170, 174],\n",
        "         'fi': [5, 9, 11, 7, 5, 3]}"
      ],
      "execution_count": null,
      "outputs": []
    },
    {
      "cell_type": "code",
      "metadata": {
        "id": "k28o28rEq_iU"
      },
      "source": [
        "#importa biblioteca Pandas\n",
        "#converte o dataset em um DataFrame do Pandas\n",
        "import pandas as pd\n",
        "dataset = pd.DataFrame(dados)\n",
        "dataset"
      ],
      "execution_count": null,
      "outputs": []
    },
    {
      "cell_type": "code",
      "metadata": {
        "id": "DGKVKzR-rHLS"
      },
      "source": [
        "#calcula \"xi\" que é o Ponto Médio dos intervalos\n",
        "#e acrescenta esta coluna no DataFrame\n",
        "dataset['xi'] = (dataset['superior'] + dataset['inferior']) / 2\n",
        "dataset"
      ],
      "execution_count": null,
      "outputs": []
    },
    {
      "cell_type": "code",
      "metadata": {
        "id": "zq7Ok3L3rXGh"
      },
      "source": [
        "#calcula \"fi.xi\" que é o produto da frequência absoluta com o ponto médio\n",
        "#e acrescenta este produto como uma coluna no DataFrame\n",
        "dataset['fi.xi'] = dataset['fi'] * dataset['xi']\n",
        "dataset"
      ],
      "execution_count": null,
      "outputs": []
    },
    {
      "cell_type": "code",
      "metadata": {
        "id": "5rhDlMw6p1R4"
      },
      "source": [
        "#cria uma coluna para frequência acumulada ('Fi')\n",
        "# e inicializa os valores dela com zero (0)\n",
        "dataset['Fi'] = 0\n",
        "dataset"
      ],
      "execution_count": null,
      "outputs": []
    },
    {
      "cell_type": "code",
      "metadata": {
        "id": "rF-G3dOMqKCM"
      },
      "source": [
        "#calcula a frequência acumulada\n",
        "frequencia_acumulada = []\n",
        "somatorio = 0\n",
        "for linha in dataset.iterrows():\n",
        "  #print(linha[1])  #imprime a linha do DataFrame\n",
        "  #print(linha[1][2])  #imprime a coluna \"fi\" do Data Frame\n",
        "  #acumula o valor da \"fi\"\n",
        "  somatorio += linha[1][2]\n",
        "  frequencia_acumulada.append(somatorio)"
      ],
      "execution_count": null,
      "outputs": []
    },
    {
      "cell_type": "code",
      "metadata": {
        "id": "SAywi7ezrWg_"
      },
      "source": [
        "frequencia_acumulada"
      ],
      "execution_count": null,
      "outputs": []
    },
    {
      "cell_type": "code",
      "metadata": {
        "id": "GADYIRu2rf_D"
      },
      "source": [
        "#acrescenta a lista acima como uma coluna (\"Fi\") no DataFrame\n",
        "dataset['Fi'] = frequencia_acumulada\n",
        "dataset"
      ],
      "execution_count": null,
      "outputs": []
    },
    {
      "cell_type": "markdown",
      "metadata": {
        "id": "tdRnWXaKs5VH"
      },
      "source": [
        "**Média da Distribuição de Frequência**"
      ]
    },
    {
      "cell_type": "code",
      "metadata": {
        "id": "V1FXRYTStA5V"
      },
      "source": [
        "#calcula os totais das colunas \"fi\" e \"fi.xi\"\n",
        "dataset['fi'].sum(), dataset['fi.xi'].sum()"
      ],
      "execution_count": null,
      "outputs": []
    },
    {
      "cell_type": "code",
      "metadata": {
        "id": "W47Mr5cPtPGr"
      },
      "source": [
        "#calcula a média da distribuição de frequência\n",
        "dataset['fi.xi'].sum() / dataset['fi'].sum()"
      ],
      "execution_count": null,
      "outputs": []
    },
    {
      "cell_type": "markdown",
      "metadata": {
        "id": "Qbel3_ais65D"
      },
      "source": [
        "**Moda da Distribuição de Frequência**"
      ]
    },
    {
      "cell_type": "code",
      "metadata": {
        "id": "hEVZdbrytUgH"
      },
      "source": [
        "#calcula a moda da DF\n",
        "#é o valor da frequência (\"fi\"\") que mais se repete\n",
        "dataset['fi'].max()"
      ],
      "execution_count": null,
      "outputs": []
    },
    {
      "cell_type": "code",
      "metadata": {
        "id": "Yz3s-hsdtf2U"
      },
      "source": [
        "#usa um filtro para obter a linha da \"fi\" que mais se repete\n",
        "dataset[dataset['fi'] == dataset['fi'].max()]"
      ],
      "execution_count": null,
      "outputs": []
    },
    {
      "cell_type": "code",
      "metadata": {
        "id": "dIvxTcg_tuNc"
      },
      "source": [
        "#usa um filtro para obter o valor de \"xi\"\n",
        "dataset[dataset['fi'] == dataset['fi'].max()]['xi'].values[0]"
      ],
      "execution_count": null,
      "outputs": []
    },
    {
      "cell_type": "markdown",
      "metadata": {
        "id": "VVh_EdZVs8A4"
      },
      "source": [
        "**Mediana da Distribuição de Frequência**"
      ]
    },
    {
      "cell_type": "code",
      "metadata": {
        "id": "7XAc0k9ft9st"
      },
      "source": [
        "dataset"
      ],
      "execution_count": null,
      "outputs": []
    },
    {
      "cell_type": "code",
      "metadata": {
        "id": "0wzJiSOBuFtQ"
      },
      "source": [
        "fi_2 = dataset['fi'].sum() / 2\n",
        "fi_2"
      ],
      "execution_count": null,
      "outputs": []
    },
    {
      "cell_type": "code",
      "metadata": {
        "id": "tMoZdwCwuhGh"
      },
      "source": [
        "limite_inferior, frequencia_classe, id_frequencia_anterior = 0, 0, 0\n",
        "for linha in dataset.iterrows():\n",
        "  #print(linha)\n",
        "  limite_inferior = linha[1][0]\n",
        "  frequencia_classe = linha[1][2]\n",
        "  id_frequencia_anterior = linha[0]\n",
        "  if linha[1][5] >= fi_2:\n",
        "    id_frequencia_anterior -= 1\n",
        "    break"
      ],
      "execution_count": null,
      "outputs": []
    },
    {
      "cell_type": "code",
      "metadata": {
        "id": "epjTjW9mvgFB"
      },
      "source": [
        "limite_inferior, frequencia_classe, id_frequencia_anterior"
      ],
      "execution_count": null,
      "outputs": []
    },
    {
      "cell_type": "code",
      "metadata": {
        "id": "IVEonk5uvpWJ"
      },
      "source": [
        "Fi_anterior = dataset.iloc[[id_frequencia_anterior]]['Fi'].values[0]\n",
        "Fi_anterior"
      ],
      "execution_count": null,
      "outputs": []
    },
    {
      "cell_type": "code",
      "metadata": {
        "id": "sHR6I53lv2e1"
      },
      "source": [
        "#md = li + ((∑fi/2 - Fiant) * LC) / fi\n",
        "#md = mediana\n",
        "#li = limite inferior do intervalo\n",
        "#∑fi/2 = ponto médio de uma classe (intervalo)\n",
        "#Fiant = frequência acumulada da classe anterior\n",
        "#LC = largura da classe (no caso = 4)\n",
        "#fi = frequência absoluta da classe\n",
        "mediana = limite_inferior + ((fi_2 - Fi_anterior) * 4) / frequencia_classe\n",
        "mediana"
      ],
      "execution_count": null,
      "outputs": []
    },
    {
      "cell_type": "markdown",
      "metadata": {
        "id": "uh7NCu1iwIPa"
      },
      "source": [
        "**Função completa**"
      ]
    },
    {
      "cell_type": "code",
      "metadata": {
        "id": "hNMHtdsXwH5s"
      },
      "source": [
        "#função para calcular todos os passos manuais acima\n",
        "def get_estatisticas(dataframe):\n",
        "  media = dataset['fi.xi'].sum() / dataset['fi'].sum()\n",
        "  moda = dataset[dataset['fi'] == dataset['fi'].max()]['xi'].values[0]\n",
        "\n",
        "  fi_2 = dataset['fi'].sum() / 2\n",
        "  limite_inferior, frequencia_classe, id_frequencia_anterior = 0, 0, 0\n",
        "  for i, linha in enumerate(dataset.iterrows()):\n",
        "    limite_inferior = linha[1][0]\n",
        "    frequencia_classe = linha[1][2]\n",
        "    id_frequencia_anterior = linha[0]\n",
        "    if linha[1][5] >= fi_2:\n",
        "      id_frequencia_anterior -= 1\n",
        "      break\n",
        "  Fi_anterior = dataset.iloc[[id_frequencia_anterior]]['Fi'].values[0]\n",
        "  mediana = limite_inferior + ((fi_2 - Fi_anterior) * 4) / frequencia_classe\n",
        "\n",
        "  #retorna a média, a moda e a mediana\n",
        "  return media, moda, mediana"
      ],
      "execution_count": null,
      "outputs": []
    },
    {
      "cell_type": "code",
      "metadata": {
        "id": "A1KzRLFDwMJq"
      },
      "source": [
        "#chama a função passando o dataset para efetuar os cálculos\n",
        "get_estatisticas(dataset)"
      ],
      "execution_count": null,
      "outputs": []
    },
    {
      "cell_type": "markdown",
      "metadata": {
        "id": "-dopP1kEKPLp"
      },
      "source": [
        "# **Medidas de Variação**\n",
        "Indicam o quanto os dados se apresentam dispersos (espalhados) em torno da região central. Elas mostram o grau de variação existente no dataset. Mais usadas: Amplitude Total, Desvio Padrão e Variância"
      ]
    },
    {
      "cell_type": "markdown",
      "metadata": {
        "id": "A0Jb0lxfvX8V"
      },
      "source": [
        "## **Amplitude Total**"
      ]
    },
    {
      "cell_type": "code",
      "metadata": {
        "id": "rZaTx4xKvUlb"
      },
      "source": [
        "dados = np.array([150, 151, 152, 152, 153, 154, 155, 155, 155, 155, 156, 156, 156,\n",
        "                  157, 158, 158, 160, 160, 160, 160, 160, 161, 161, 161, 161, 162,\n",
        "                  163, 163, 164, 164, 164, 165, 166, 167, 168, 168, 169, 170, 172,\n",
        "                  173])\n",
        "dados"
      ],
      "execution_count": null,
      "outputs": []
    },
    {
      "cell_type": "code",
      "metadata": {
        "id": "hy3fiaAtvUld"
      },
      "source": [
        "#calcula a Amplitude Total\n",
        "dados.max() - dados.min()"
      ],
      "execution_count": null,
      "outputs": []
    },
    {
      "cell_type": "markdown",
      "metadata": {
        "id": "C2TRnsP6PINq"
      },
      "source": [
        "## **Desvio, Variância, Desvio Padrão e Coeficiente de Variação**"
      ]
    },
    {
      "cell_type": "code",
      "metadata": {
        "id": "XtvrTH_KPVrj"
      },
      "source": [
        "#vamos usar um dataset menor\n",
        "dados_impar = np.array([150, 151, 152, 152, 153, 154, 155, 155, 155])"
      ],
      "execution_count": null,
      "outputs": []
    },
    {
      "cell_type": "markdown",
      "metadata": {
        "id": "w_PKhpBFPMpe"
      },
      "source": [
        "**Cálculo manual**"
      ]
    },
    {
      "cell_type": "code",
      "metadata": {
        "id": "CghU9wNFPgZd"
      },
      "source": [
        "#calcula a média da população\n",
        "media = dados_impar.sum() / len(dados_impar)\n",
        "media"
      ],
      "execution_count": null,
      "outputs": []
    },
    {
      "cell_type": "code",
      "metadata": {
        "id": "rIEceGDNQERu"
      },
      "source": [
        "#calcula o desvio (xi - média)\n",
        "#é a diferença entre a entrada (xi) e a média do dataset\n",
        "desvio = dados_impar - media\n",
        "desvio"
      ],
      "execution_count": null,
      "outputs": []
    },
    {
      "cell_type": "code",
      "metadata": {
        "id": "zZvtvDIUQWq6"
      },
      "source": [
        "#calcula os quadrados ((xi - média)**2) ou desvio**2\n",
        "quadrados = desvio ** 2\n",
        "quadrados"
      ],
      "execution_count": null,
      "outputs": []
    },
    {
      "cell_type": "code",
      "metadata": {
        "id": "YkfDmtQeQgD1"
      },
      "source": [
        "#calcula a soma total dos quadrados (SSx)\n",
        "soma_quadrados = quadrados.sum()\n",
        "soma_quadrados"
      ],
      "execution_count": null,
      "outputs": []
    },
    {
      "cell_type": "code",
      "metadata": {
        "id": "kzpWXvrMQk--"
      },
      "source": [
        "#calcula a variância populacional\n",
        "v = soma_quadrados / len(dados_impar)\n",
        "v"
      ],
      "execution_count": null,
      "outputs": []
    },
    {
      "cell_type": "code",
      "metadata": {
        "id": "xTVUeK9wTKMs"
      },
      "source": [
        "#calcula o desvio padrão populacional\n",
        "#em inglês desvio padrão é chamado de \"standard deviation\"\n",
        "dp = math.sqrt(v)\n",
        "dp"
      ],
      "execution_count": null,
      "outputs": []
    },
    {
      "cell_type": "code",
      "metadata": {
        "id": "qk1ByuaoVdFs"
      },
      "source": [
        "#calcula o coeficiente de variação (cv)\n",
        "#CV de um conjunto de dados descreve o desvio padrão como uma porcentagem da média\n",
        "cv = (dp / media) * 100\n",
        "cv"
      ],
      "execution_count": null,
      "outputs": []
    },
    {
      "cell_type": "code",
      "metadata": {
        "id": "vdCkODt5QzoD"
      },
      "source": [
        "#função para efetuar todos os cálculos\n",
        "def get_variancia_desvio_padrao_coeficiente(dataset):\n",
        "  media = dataset.sum() / len(dataset)\n",
        "  desvio = dados_impar - media\n",
        "  quadrados = desvio ** 2\n",
        "  soma_quadrados = quadrados.sum()\n",
        "  variancia = soma_quadrados / len(dados_impar)\n",
        "  dp = math.sqrt(variancia)\n",
        "  return variancia, dp, (dp / media) * 100"
      ],
      "execution_count": null,
      "outputs": []
    },
    {
      "cell_type": "code",
      "metadata": {
        "id": "Mx8qt1epRDdc"
      },
      "source": [
        "#chama a função passando o dataset para efetuar os cálcuos\n",
        "get_variancia_desvio_padrao_coeficiente(dados_impar)"
      ],
      "execution_count": null,
      "outputs": []
    },
    {
      "cell_type": "markdown",
      "metadata": {
        "id": "VxDOYNX3POJN"
      },
      "source": [
        "**Usando as Bibliotecas**"
      ]
    },
    {
      "cell_type": "code",
      "metadata": {
        "id": "hAe47WyIQwvW"
      },
      "source": [
        "np.var(dados_impar)"
      ],
      "execution_count": null,
      "outputs": []
    },
    {
      "cell_type": "code",
      "metadata": {
        "id": "1yYefrfsTfes"
      },
      "source": [
        "np.std(dados_impar)"
      ],
      "execution_count": null,
      "outputs": []
    },
    {
      "cell_type": "code",
      "metadata": {
        "id": "4Ilo1yOlRWjG"
      },
      "source": [
        "np.var(dados)"
      ],
      "execution_count": null,
      "outputs": []
    },
    {
      "cell_type": "code",
      "metadata": {
        "id": "3RG-BmxCTjmc"
      },
      "source": [
        "np.std(dados)"
      ],
      "execution_count": null,
      "outputs": []
    },
    {
      "cell_type": "code",
      "metadata": {
        "id": "TuJ8ZCHaRiv3"
      },
      "source": [
        "statistics.variance(dados)"
      ],
      "execution_count": null,
      "outputs": []
    },
    {
      "cell_type": "code",
      "metadata": {
        "id": "4nJ9mXjET_Ap"
      },
      "source": [
        "statistics.stdev(dados)"
      ],
      "execution_count": null,
      "outputs": []
    },
    {
      "cell_type": "code",
      "metadata": {
        "id": "RevDXM8qRm-Q"
      },
      "source": [
        "from scipy import ndimage\n",
        "ndimage.variance(dados)"
      ],
      "execution_count": null,
      "outputs": []
    },
    {
      "cell_type": "code",
      "metadata": {
        "id": "q3roW8SmUEG-"
      },
      "source": [
        "stats.tstd(dados, ddof = 0)"
      ],
      "execution_count": null,
      "outputs": []
    },
    {
      "cell_type": "code",
      "metadata": {
        "id": "e9pyRHARV5oW"
      },
      "source": [
        "stats.variation(dados_impar) * 100"
      ],
      "execution_count": null,
      "outputs": []
    },
    {
      "cell_type": "code",
      "metadata": {
        "id": "a3ha8ug4WD0r"
      },
      "source": [
        "stats.variation(dados) * 100"
      ],
      "execution_count": null,
      "outputs": []
    },
    {
      "cell_type": "markdown",
      "metadata": {
        "id": "Eeu0nG1TuENl"
      },
      "source": [
        "# **Medidas de Posição**\n",
        "Descrevem a posição que um valor de dados específico possui em relação ao resto dos outros dados. Mais usadas: Quartis, Percentis e Decis\n",
        "\n"
      ]
    },
    {
      "cell_type": "markdown",
      "metadata": {
        "id": "VyF_516h54sn"
      },
      "source": [
        "**Quartis**\n",
        "\n",
        "São números que dividem um conjunto de dados ordenado em 4 partes iguais\n",
        "\n",
        "\n",
        "*   Primeiro Quartil (Q1)\n",
        "*   Segundo Quartil (Q2) (é a mediana do dataset)\n",
        "*   Terceiro Quartil (Q3)\n",
        "\n",
        "\n"
      ]
    },
    {
      "cell_type": "code",
      "metadata": {
        "id": "4cYJ4s3856Wg"
      },
      "source": [
        "dados_impar = [150, 151, 152, 152, 153, 154, 155, 155, 155]"
      ],
      "execution_count": null,
      "outputs": []
    },
    {
      "cell_type": "markdown",
      "metadata": {
        "id": "9BZwV9mY5-u1"
      },
      "source": [
        "### Cálculo manual"
      ]
    },
    {
      "cell_type": "code",
      "metadata": {
        "id": "RyvlO0Y66cbq"
      },
      "source": [
        "#calcula a mediana do dataset que é o Q2\n",
        "#Q2 divide o conjunto de dados em 2 metades\n",
        "#Q1 e Q3 também são as medianas destas 2 metades, respectivamente\n",
        "np.median(dados_impar)"
      ],
      "execution_count": null,
      "outputs": []
    },
    {
      "cell_type": "code",
      "metadata": {
        "id": "9onAwzrU6qSL"
      },
      "source": [
        "#calcula a posição da mediana (Q2)\n",
        "#arredonda o valor para baixo (math.floor)\n",
        "posicao_mediana = math.floor(len(dados_impar) / 2)\n",
        "posicao_mediana"
      ],
      "execution_count": null,
      "outputs": []
    },
    {
      "cell_type": "code",
      "metadata": {
        "id": "5OXuJgwx62EM"
      },
      "source": [
        "esquerda = dados_impar[0:posicao_mediana]\n",
        "esquerda"
      ],
      "execution_count": null,
      "outputs": []
    },
    {
      "cell_type": "code",
      "metadata": {
        "id": "8uaADedN7END"
      },
      "source": [
        "#calcula o Q1\n",
        "np.median(esquerda)"
      ],
      "execution_count": null,
      "outputs": []
    },
    {
      "cell_type": "code",
      "metadata": {
        "id": "rku5WV_v7KJO"
      },
      "source": [
        "direita = dados_impar[posicao_mediana + 1:]\n",
        "direita"
      ],
      "execution_count": null,
      "outputs": []
    },
    {
      "cell_type": "code",
      "metadata": {
        "id": "FUgD6WvY7Vvk"
      },
      "source": [
        "#calcula o Q3\n",
        "np.median(direita)"
      ],
      "execution_count": null,
      "outputs": []
    },
    {
      "cell_type": "markdown",
      "metadata": {
        "id": "13w9k3dl6Bqc"
      },
      "source": [
        "**Calculando Q1, Q2 e Q3 usando as Bibliotecas**"
      ]
    },
    {
      "cell_type": "markdown",
      "metadata": {
        "id": "-Kt4Xxvf6DHv"
      },
      "source": [
        "#### numpy"
      ]
    },
    {
      "cell_type": "code",
      "metadata": {
        "id": "e0O7axSm7eHc"
      },
      "source": [
        "#calcula Q2\n",
        "np.quantile(dados_impar, 0.5)"
      ],
      "execution_count": null,
      "outputs": []
    },
    {
      "cell_type": "code",
      "metadata": {
        "id": "hAdVsrD_7khd"
      },
      "source": [
        "#calcula Q3\n",
        "np.quantile(dados_impar, 0.75)"
      ],
      "execution_count": null,
      "outputs": []
    },
    {
      "cell_type": "code",
      "metadata": {
        "id": "PsJ_B8na7omh"
      },
      "source": [
        "#calcula Q1\n",
        "#esta função inclui o valor 153, infelizmente\n",
        "np.quantile(dados_impar, 0.25)"
      ],
      "execution_count": null,
      "outputs": []
    },
    {
      "cell_type": "code",
      "metadata": {
        "id": "1zvFaUQn74EQ"
      },
      "source": [
        "#mostrar como o 153 está incluído no cálculo\n",
        "esquerda2 = dados_impar[0:posicao_mediana + 1]\n",
        "esquerda2"
      ],
      "execution_count": null,
      "outputs": []
    },
    {
      "cell_type": "code",
      "metadata": {
        "id": "DWUO2FTb7-A6"
      },
      "source": [
        "np.median(esquerda2)"
      ],
      "execution_count": null,
      "outputs": []
    },
    {
      "cell_type": "code",
      "metadata": {
        "id": "slThBXsj8CA6"
      },
      "source": [
        "#cálculando Q1, Q2 e Q3 sobre o dataset original (maior)\n",
        "np.quantile(dados, 0.25), np.quantile(dados, 0.50), np.quantile(dados, 0.75)"
      ],
      "execution_count": null,
      "outputs": []
    },
    {
      "cell_type": "markdown",
      "metadata": {
        "id": "N9sKA2GP6FNy"
      },
      "source": [
        "#### scipy"
      ]
    },
    {
      "cell_type": "code",
      "metadata": {
        "id": "nhswmwGL8PQ6"
      },
      "source": [
        "stats.scoreatpercentile(dados, 25), stats.scoreatpercentile(dados, 50), stats.scoreatpercentile(dados, 75)"
      ],
      "execution_count": null,
      "outputs": []
    },
    {
      "cell_type": "markdown",
      "metadata": {
        "id": "k3MtyYZl6HBb"
      },
      "source": [
        "#### pandas"
      ]
    },
    {
      "cell_type": "code",
      "metadata": {
        "id": "Ti0Zldxh8b8-"
      },
      "source": [
        "import pandas as pd\n",
        "dataset = pd.DataFrame(dados)\n",
        "dataset.head()"
      ],
      "execution_count": null,
      "outputs": []
    },
    {
      "cell_type": "code",
      "metadata": {
        "id": "UIqDiuW98lOl"
      },
      "source": [
        "#passa os valores em forma de lista\n",
        "dataset.quantile([0.25, 0.5, 0.75])"
      ],
      "execution_count": null,
      "outputs": []
    },
    {
      "cell_type": "code",
      "metadata": {
        "id": "R906LS198tyn"
      },
      "source": [
        "#função do Pandas que efetua o cálculo de todas as medidas\n",
        "dataset.describe()"
      ],
      "execution_count": null,
      "outputs": []
    },
    {
      "cell_type": "markdown",
      "metadata": {
        "id": "bTJuo1fhKabw"
      },
      "source": [
        "## **Amplitude Interquartil (AIQ)**"
      ]
    },
    {
      "cell_type": "code",
      "metadata": {
        "id": "Ev6ZLHJaKfRO"
      },
      "source": [
        "dados"
      ],
      "execution_count": null,
      "outputs": []
    },
    {
      "cell_type": "code",
      "metadata": {
        "id": "Wy_4jziLK0LP"
      },
      "source": [
        "#Calcula a Amplitude Total (AT)\n",
        "dados.max() - dados.min()"
      ],
      "execution_count": null,
      "outputs": []
    },
    {
      "cell_type": "code",
      "metadata": {
        "id": "exbPoyqzK6bQ"
      },
      "source": [
        "Q1 = np.quantile(dados, 0.25)\n",
        "Q3 = np.quantile(dados, 0.75)\n",
        "Q1, Q3"
      ],
      "execution_count": null,
      "outputs": []
    },
    {
      "cell_type": "code",
      "metadata": {
        "id": "NZBb9ENXLGs-"
      },
      "source": [
        "#Significa que os valores do dataset na metade dele variam no máximo em 8.25\n",
        "diferenca_interquartil = Q3 - Q1\n",
        "diferenca_interquartil"
      ],
      "execution_count": null,
      "outputs": []
    },
    {
      "cell_type": "markdown",
      "metadata": {
        "id": "40X2rZ6KA0rW"
      },
      "source": [
        "## **Percentis**\n",
        "\n",
        "Divide o conjunto de dados em 100 partes iguais"
      ]
    },
    {
      "cell_type": "code",
      "metadata": {
        "id": "BNt-XeoiC4tX"
      },
      "source": [
        "np.median(dados)"
      ],
      "execution_count": null,
      "outputs": []
    },
    {
      "cell_type": "code",
      "metadata": {
        "id": "ekvq8XaMDJZX"
      },
      "source": [
        "np.quantile(dados, 0.5)"
      ],
      "execution_count": null,
      "outputs": []
    },
    {
      "cell_type": "code",
      "metadata": {
        "id": "RVZB3gJ8DOhJ"
      },
      "source": [
        "np.percentile(dados, 50)"
      ],
      "execution_count": null,
      "outputs": []
    },
    {
      "cell_type": "code",
      "metadata": {
        "id": "EGZlSML1DTt6"
      },
      "source": [
        "np.percentile(dados, 5), np.percentile(dados, 10), np.percentile(dados, 90)"
      ],
      "execution_count": null,
      "outputs": []
    },
    {
      "cell_type": "code",
      "metadata": {
        "id": "FMs5kbKnDqFQ"
      },
      "source": [
        "stats.scoreatpercentile(dados, 5), stats.scoreatpercentile(dados, 10), stats.scoreatpercentile(dados, 90)"
      ],
      "execution_count": null,
      "outputs": []
    },
    {
      "cell_type": "code",
      "metadata": {
        "id": "QEdIDmpaD4uI"
      },
      "source": [
        "import pandas as pd\n",
        "dataset = pd.DataFrame(dados)\n",
        "dataset.head()"
      ],
      "execution_count": null,
      "outputs": []
    },
    {
      "cell_type": "code",
      "metadata": {
        "id": "5_JpPm-3EAt9"
      },
      "source": [
        "dataset.quantile([0.05, 0.10, 0.90])"
      ],
      "execution_count": null,
      "outputs": []
    },
    {
      "cell_type": "markdown",
      "metadata": {
        "id": "dkvpLKH6EkIF"
      },
      "source": [
        "# **Desafio #1**\n",
        "\n",
        "**Gerar estatísticas para o atributo \"age\" do dataset \"census.csv\"**\n",
        "\n",
        "\n",
        "\n",
        "*   Carregue (\"upload\") o arquivo \"census.csv\"\n",
        "*   Calcule a média, mediana e a moda\n",
        "*   Compare os resultados\n",
        "\n"
      ]
    },
    {
      "cell_type": "markdown",
      "metadata": {
        "id": "KtQhoAiWGcES"
      },
      "source": [
        "# **Desafio #2**\n",
        "\n",
        "Desenhe o gráfico BoxPlot"
      ]
    }
  ]
}