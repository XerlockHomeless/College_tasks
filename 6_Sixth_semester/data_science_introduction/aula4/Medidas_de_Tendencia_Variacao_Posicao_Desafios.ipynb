{
  "cells": [
    {
      "cell_type": "markdown",
      "metadata": {
        "id": "b-sJV-8TppJh"
      },
      "source": [
        "## **Importa bibliotecas**"
      ]
    },
    {
      "cell_type": "code",
      "execution_count": 1,
      "metadata": {
        "id": "jk9u4BJ1Wqpa"
      },
      "outputs": [],
      "source": [
        "import numpy as np\n",
        "import statistics\n",
        "from scipy import stats\n",
        "import math"
      ]
    },
    {
      "cell_type": "markdown",
      "metadata": {
        "id": "P5AnSs-VNcJa"
      },
      "source": [
        "## **Carrega o Conjunto de Dados (dataset)**\n"
      ]
    },
    {
      "cell_type": "code",
      "execution_count": 2,
      "metadata": {
        "id": "-iizD18Hpe8P"
      },
      "outputs": [],
      "source": [
        "dados = np.array([150, 151, 152, 152, 153, 154, 155, 155, 155, 155, 156, 156, 156,\n",
        "                  157, 158, 158, 160, 160, 160, 160, 160, 161, 161, 161, 161, 162,\n",
        "                  163, 163, 164, 164, 164, 165, 166, 167, 168, 168, 169, 170, 172,\n",
        "                  173])"
      ]
    },
    {
      "cell_type": "markdown",
      "metadata": {
        "id": "A2a4Ps-RpmCv"
      },
      "source": [
        "# **Medidas de Tendência Central**\n",
        "Valor de um conjunto de dados (dataset) que representa uma entrada típica ou central"
      ]
    },
    {
      "cell_type": "markdown",
      "metadata": {
        "id": "04mBFjDuptL7"
      },
      "source": [
        "## **Média Aritmética Simples**"
      ]
    },
    {
      "cell_type": "code",
      "execution_count": 3,
      "metadata": {
        "id": "C-39PNeqXMhx"
      },
      "outputs": [
        {
          "data": {
            "text/plain": [
              "160.375"
            ]
          },
          "execution_count": 3,
          "metadata": {},
          "output_type": "execute_result"
        }
      ],
      "source": [
        "#calculando média manualmente\n",
        "dados.sum() / len(dados)"
      ]
    },
    {
      "cell_type": "code",
      "execution_count": 4,
      "metadata": {
        "id": "IJnw7O4FXYnC"
      },
      "outputs": [
        {
          "data": {
            "text/plain": [
              "160.375"
            ]
          },
          "execution_count": 4,
          "metadata": {},
          "output_type": "execute_result"
        }
      ],
      "source": [
        "#calculando a média usando função do NumPy\n",
        "dados.mean()"
      ]
    },
    {
      "cell_type": "code",
      "execution_count": 5,
      "metadata": {
        "id": "0ertqHN1Xc2H"
      },
      "outputs": [
        {
          "data": {
            "text/plain": [
              "160"
            ]
          },
          "execution_count": 5,
          "metadata": {},
          "output_type": "execute_result"
        }
      ],
      "source": [
        "#calculando a média usando pacote \"statistics\" do Python\n",
        "statistics.mean(dados)"
      ]
    },
    {
      "cell_type": "markdown",
      "metadata": {
        "id": "hkq_zae75joP"
      },
      "source": [
        "## **Moda**"
      ]
    },
    {
      "cell_type": "code",
      "execution_count": 6,
      "metadata": {
        "id": "iCdM7KSjX1DD"
      },
      "outputs": [
        {
          "data": {
            "text/plain": [
              "160"
            ]
          },
          "execution_count": 6,
          "metadata": {},
          "output_type": "execute_result"
        }
      ],
      "source": [
        "#calculando a moda usando pacote \"statistics\" do Python\n",
        "statistics.mode(dados)"
      ]
    },
    {
      "cell_type": "code",
      "execution_count": 7,
      "metadata": {
        "id": "xEs8kq2GX7k_"
      },
      "outputs": [
        {
          "data": {
            "text/plain": [
              "ModeResult(mode=160, count=5)"
            ]
          },
          "execution_count": 7,
          "metadata": {},
          "output_type": "execute_result"
        }
      ],
      "source": [
        "#calculando a moda usando pacote \"stats\" do ScyPy\n",
        "stats.mode(dados)"
      ]
    },
    {
      "cell_type": "markdown",
      "metadata": {
        "id": "BNb_PbIM5kk-"
      },
      "source": [
        "## **Mediana**"
      ]
    },
    {
      "cell_type": "code",
      "execution_count": 8,
      "metadata": {
        "id": "WYauSw6b8HQs"
      },
      "outputs": [],
      "source": [
        "#número de elementos no dataset é ímpar\n",
        "#os dados devem estar ordenados\n",
        "dados_impar = [150, 151, 152, 152, 153, 154, 155, 155, 155]"
      ]
    },
    {
      "cell_type": "markdown",
      "metadata": {
        "id": "yPHpvq0W-ABs"
      },
      "source": [
        "***Mediana - Cálculo manual (número ímpar de elementos)***"
      ]
    },
    {
      "cell_type": "code",
      "execution_count": 9,
      "metadata": {
        "id": "WugwDKtCYS0Y"
      },
      "outputs": [
        {
          "data": {
            "text/plain": [
              "4.5"
            ]
          },
          "execution_count": 9,
          "metadata": {},
          "output_type": "execute_result"
        }
      ],
      "source": [
        "posicao = len(dados_impar) / 2\n",
        "posicao"
      ]
    },
    {
      "cell_type": "code",
      "execution_count": 10,
      "metadata": {
        "id": "EXZTOH_EYhtM"
      },
      "outputs": [
        {
          "data": {
            "text/plain": [
              "5"
            ]
          },
          "execution_count": 10,
          "metadata": {},
          "output_type": "execute_result"
        }
      ],
      "source": [
        "#arredonda para cima\n",
        "posicao = math.ceil(posicao)\n",
        "posicao"
      ]
    },
    {
      "cell_type": "code",
      "execution_count": 11,
      "metadata": {
        "id": "938Gx7-vYm1s"
      },
      "outputs": [
        {
          "data": {
            "text/plain": [
              "153"
            ]
          },
          "execution_count": 11,
          "metadata": {},
          "output_type": "execute_result"
        }
      ],
      "source": [
        "#subtrai 1 de posicao porque o índice inicia em zero (0)\n",
        "dados_impar[posicao - 1]"
      ]
    },
    {
      "cell_type": "markdown",
      "metadata": {
        "id": "Y5WBJckZ-jlW"
      },
      "source": [
        "***Mediana - Cálculo manual (número par de elementos)***"
      ]
    },
    {
      "cell_type": "code",
      "execution_count": 12,
      "metadata": {
        "id": "sSN8Nf0fY4Zy"
      },
      "outputs": [
        {
          "data": {
            "text/plain": [
              "40"
            ]
          },
          "execution_count": 12,
          "metadata": {},
          "output_type": "execute_result"
        }
      ],
      "source": [
        "#calcula número de elementos do dataset\n",
        "len(dados)"
      ]
    },
    {
      "cell_type": "code",
      "execution_count": 13,
      "metadata": {
        "id": "avs6ihXMQt-u"
      },
      "outputs": [
        {
          "data": {
            "text/plain": [
              "20"
            ]
          },
          "execution_count": 13,
          "metadata": {},
          "output_type": "execute_result"
        }
      ],
      "source": [
        "#calcula a divisão inteira (//)\n",
        "posicao = len(dados) // 2\n",
        "posicao"
      ]
    },
    {
      "cell_type": "code",
      "execution_count": 14,
      "metadata": {
        "id": "wnGc44QuY8zP"
      },
      "outputs": [
        {
          "data": {
            "text/plain": [
              "(160, 160)"
            ]
          },
          "execution_count": 14,
          "metadata": {},
          "output_type": "execute_result"
        }
      ],
      "source": [
        "#índice inicia em 0, por isto subtrai\n",
        "#com isto se obtém os dois elmentos centrais do dataset\n",
        "dados[posicao - 1], dados[posicao]"
      ]
    },
    {
      "cell_type": "code",
      "execution_count": 15,
      "metadata": {
        "id": "e1jeHsuRZKqh"
      },
      "outputs": [
        {
          "data": {
            "text/plain": [
              "160.0"
            ]
          },
          "execution_count": 15,
          "metadata": {},
          "output_type": "execute_result"
        }
      ],
      "source": [
        "#mediana é a média aritmética dos dois elementos centrais\n",
        "mediana = (dados[posicao - 1] + dados[posicao]) / 2\n",
        "mediana"
      ]
    },
    {
      "cell_type": "markdown",
      "metadata": {
        "id": "K0JHhy5p_Lc4"
      },
      "source": [
        "**Mediana - cálculo com as bibliotecas**"
      ]
    },
    {
      "cell_type": "code",
      "execution_count": 16,
      "metadata": {
        "id": "jHHIhQCaZXjA"
      },
      "outputs": [
        {
          "data": {
            "text/plain": [
              "153.0"
            ]
          },
          "execution_count": 16,
          "metadata": {},
          "output_type": "execute_result"
        }
      ],
      "source": [
        "np.median(dados_impar)"
      ]
    },
    {
      "cell_type": "code",
      "execution_count": 17,
      "metadata": {
        "id": "9ds6VVYVZdDX"
      },
      "outputs": [
        {
          "data": {
            "text/plain": [
              "160.0"
            ]
          },
          "execution_count": 17,
          "metadata": {},
          "output_type": "execute_result"
        }
      ],
      "source": [
        "np.median(dados)"
      ]
    },
    {
      "cell_type": "code",
      "execution_count": 18,
      "metadata": {
        "id": "dhV9QtgTZhDS"
      },
      "outputs": [
        {
          "data": {
            "text/plain": [
              "153"
            ]
          },
          "execution_count": 18,
          "metadata": {},
          "output_type": "execute_result"
        }
      ],
      "source": [
        "statistics.median(dados_impar)"
      ]
    },
    {
      "cell_type": "code",
      "execution_count": 19,
      "metadata": {
        "id": "mwvGW0Z-Zl2p"
      },
      "outputs": [
        {
          "data": {
            "text/plain": [
              "160.0"
            ]
          },
          "execution_count": 19,
          "metadata": {},
          "output_type": "execute_result"
        }
      ],
      "source": [
        "statistics.median(dados)"
      ]
    },
    {
      "cell_type": "markdown",
      "metadata": {
        "id": "sHVY0OeLEhk5"
      },
      "source": [
        "## **Média aritmética ponderada**"
      ]
    },
    {
      "cell_type": "code",
      "execution_count": 20,
      "metadata": {
        "id": "KdRONYgwbdSy"
      },
      "outputs": [],
      "source": [
        "notas = np.array([9, 8, 7, 3])\n",
        "pesos = np.array([1, 2, 3, 4])"
      ]
    },
    {
      "cell_type": "code",
      "execution_count": 21,
      "metadata": {
        "id": "uVZvT4PQbm_F"
      },
      "outputs": [
        {
          "data": {
            "text/plain": [
              "5.8"
            ]
          },
          "execution_count": 21,
          "metadata": {},
          "output_type": "execute_result"
        }
      ],
      "source": [
        "(9 * 1 + 8 * 2 + 7 * 3 + 3 * 4) / (1 + 2 + 3 + 4)"
      ]
    },
    {
      "cell_type": "code",
      "execution_count": 22,
      "metadata": {
        "id": "t0PCioI9b0J7"
      },
      "outputs": [
        {
          "data": {
            "text/plain": [
              "5.8"
            ]
          },
          "execution_count": 22,
          "metadata": {},
          "output_type": "execute_result"
        }
      ],
      "source": [
        "media_ponderada = (notas * pesos).sum() / pesos.sum()\n",
        "media_ponderada"
      ]
    },
    {
      "cell_type": "code",
      "execution_count": 23,
      "metadata": {
        "id": "gimBCIWFcEcy"
      },
      "outputs": [
        {
          "data": {
            "text/plain": [
              "5.8"
            ]
          },
          "execution_count": 23,
          "metadata": {},
          "output_type": "execute_result"
        }
      ],
      "source": [
        "np.average(notas, weights=pesos)"
      ]
    },
    {
      "cell_type": "markdown",
      "metadata": {
        "id": "7EZ602jEqI8o"
      },
      "source": [
        "## **Média aritmética, moda e mediana de uma distribuição de frequência (DF)**"
      ]
    },
    {
      "cell_type": "code",
      "execution_count": 24,
      "metadata": {
        "id": "u6NbLnwdqQSw"
      },
      "outputs": [],
      "source": [
        "#dicionário com intervalos inferior e superior (i.e. classes)\n",
        "#fi = frequência absoluta\n",
        "dados = {'inferior': [150, 154, 158, 162, 166, 170],\n",
        "         'superior': [154, 158, 162, 166, 170, 174],\n",
        "         'fi': [5, 9, 11, 7, 5, 3]}"
      ]
    },
    {
      "cell_type": "code",
      "execution_count": 25,
      "metadata": {
        "id": "k28o28rEq_iU"
      },
      "outputs": [
        {
          "data": {
            "text/html": [
              "<div>\n",
              "<style scoped>\n",
              "    .dataframe tbody tr th:only-of-type {\n",
              "        vertical-align: middle;\n",
              "    }\n",
              "\n",
              "    .dataframe tbody tr th {\n",
              "        vertical-align: top;\n",
              "    }\n",
              "\n",
              "    .dataframe thead th {\n",
              "        text-align: right;\n",
              "    }\n",
              "</style>\n",
              "<table border=\"1\" class=\"dataframe\">\n",
              "  <thead>\n",
              "    <tr style=\"text-align: right;\">\n",
              "      <th></th>\n",
              "      <th>inferior</th>\n",
              "      <th>superior</th>\n",
              "      <th>fi</th>\n",
              "    </tr>\n",
              "  </thead>\n",
              "  <tbody>\n",
              "    <tr>\n",
              "      <th>0</th>\n",
              "      <td>150</td>\n",
              "      <td>154</td>\n",
              "      <td>5</td>\n",
              "    </tr>\n",
              "    <tr>\n",
              "      <th>1</th>\n",
              "      <td>154</td>\n",
              "      <td>158</td>\n",
              "      <td>9</td>\n",
              "    </tr>\n",
              "    <tr>\n",
              "      <th>2</th>\n",
              "      <td>158</td>\n",
              "      <td>162</td>\n",
              "      <td>11</td>\n",
              "    </tr>\n",
              "    <tr>\n",
              "      <th>3</th>\n",
              "      <td>162</td>\n",
              "      <td>166</td>\n",
              "      <td>7</td>\n",
              "    </tr>\n",
              "    <tr>\n",
              "      <th>4</th>\n",
              "      <td>166</td>\n",
              "      <td>170</td>\n",
              "      <td>5</td>\n",
              "    </tr>\n",
              "    <tr>\n",
              "      <th>5</th>\n",
              "      <td>170</td>\n",
              "      <td>174</td>\n",
              "      <td>3</td>\n",
              "    </tr>\n",
              "  </tbody>\n",
              "</table>\n",
              "</div>"
            ],
            "text/plain": [
              "   inferior  superior  fi\n",
              "0       150       154   5\n",
              "1       154       158   9\n",
              "2       158       162  11\n",
              "3       162       166   7\n",
              "4       166       170   5\n",
              "5       170       174   3"
            ]
          },
          "execution_count": 25,
          "metadata": {},
          "output_type": "execute_result"
        }
      ],
      "source": [
        "#importa biblioteca Pandas\n",
        "#converte o dataset em um DataFrame do Pandas\n",
        "import pandas as pd\n",
        "dataset = pd.DataFrame(dados)\n",
        "dataset"
      ]
    },
    {
      "cell_type": "code",
      "execution_count": 26,
      "metadata": {
        "id": "DGKVKzR-rHLS"
      },
      "outputs": [
        {
          "data": {
            "text/html": [
              "<div>\n",
              "<style scoped>\n",
              "    .dataframe tbody tr th:only-of-type {\n",
              "        vertical-align: middle;\n",
              "    }\n",
              "\n",
              "    .dataframe tbody tr th {\n",
              "        vertical-align: top;\n",
              "    }\n",
              "\n",
              "    .dataframe thead th {\n",
              "        text-align: right;\n",
              "    }\n",
              "</style>\n",
              "<table border=\"1\" class=\"dataframe\">\n",
              "  <thead>\n",
              "    <tr style=\"text-align: right;\">\n",
              "      <th></th>\n",
              "      <th>inferior</th>\n",
              "      <th>superior</th>\n",
              "      <th>fi</th>\n",
              "      <th>xi</th>\n",
              "    </tr>\n",
              "  </thead>\n",
              "  <tbody>\n",
              "    <tr>\n",
              "      <th>0</th>\n",
              "      <td>150</td>\n",
              "      <td>154</td>\n",
              "      <td>5</td>\n",
              "      <td>152.0</td>\n",
              "    </tr>\n",
              "    <tr>\n",
              "      <th>1</th>\n",
              "      <td>154</td>\n",
              "      <td>158</td>\n",
              "      <td>9</td>\n",
              "      <td>156.0</td>\n",
              "    </tr>\n",
              "    <tr>\n",
              "      <th>2</th>\n",
              "      <td>158</td>\n",
              "      <td>162</td>\n",
              "      <td>11</td>\n",
              "      <td>160.0</td>\n",
              "    </tr>\n",
              "    <tr>\n",
              "      <th>3</th>\n",
              "      <td>162</td>\n",
              "      <td>166</td>\n",
              "      <td>7</td>\n",
              "      <td>164.0</td>\n",
              "    </tr>\n",
              "    <tr>\n",
              "      <th>4</th>\n",
              "      <td>166</td>\n",
              "      <td>170</td>\n",
              "      <td>5</td>\n",
              "      <td>168.0</td>\n",
              "    </tr>\n",
              "    <tr>\n",
              "      <th>5</th>\n",
              "      <td>170</td>\n",
              "      <td>174</td>\n",
              "      <td>3</td>\n",
              "      <td>172.0</td>\n",
              "    </tr>\n",
              "  </tbody>\n",
              "</table>\n",
              "</div>"
            ],
            "text/plain": [
              "   inferior  superior  fi     xi\n",
              "0       150       154   5  152.0\n",
              "1       154       158   9  156.0\n",
              "2       158       162  11  160.0\n",
              "3       162       166   7  164.0\n",
              "4       166       170   5  168.0\n",
              "5       170       174   3  172.0"
            ]
          },
          "execution_count": 26,
          "metadata": {},
          "output_type": "execute_result"
        }
      ],
      "source": [
        "#calcula \"xi\" que é o Ponto Médio dos intervalos\n",
        "#e acrescenta esta coluna no DataFrame\n",
        "dataset['xi'] = (dataset['superior'] + dataset['inferior']) / 2\n",
        "dataset"
      ]
    },
    {
      "cell_type": "code",
      "execution_count": 27,
      "metadata": {
        "id": "zq7Ok3L3rXGh"
      },
      "outputs": [
        {
          "data": {
            "text/html": [
              "<div>\n",
              "<style scoped>\n",
              "    .dataframe tbody tr th:only-of-type {\n",
              "        vertical-align: middle;\n",
              "    }\n",
              "\n",
              "    .dataframe tbody tr th {\n",
              "        vertical-align: top;\n",
              "    }\n",
              "\n",
              "    .dataframe thead th {\n",
              "        text-align: right;\n",
              "    }\n",
              "</style>\n",
              "<table border=\"1\" class=\"dataframe\">\n",
              "  <thead>\n",
              "    <tr style=\"text-align: right;\">\n",
              "      <th></th>\n",
              "      <th>inferior</th>\n",
              "      <th>superior</th>\n",
              "      <th>fi</th>\n",
              "      <th>xi</th>\n",
              "      <th>fi.xi</th>\n",
              "    </tr>\n",
              "  </thead>\n",
              "  <tbody>\n",
              "    <tr>\n",
              "      <th>0</th>\n",
              "      <td>150</td>\n",
              "      <td>154</td>\n",
              "      <td>5</td>\n",
              "      <td>152.0</td>\n",
              "      <td>760.0</td>\n",
              "    </tr>\n",
              "    <tr>\n",
              "      <th>1</th>\n",
              "      <td>154</td>\n",
              "      <td>158</td>\n",
              "      <td>9</td>\n",
              "      <td>156.0</td>\n",
              "      <td>1404.0</td>\n",
              "    </tr>\n",
              "    <tr>\n",
              "      <th>2</th>\n",
              "      <td>158</td>\n",
              "      <td>162</td>\n",
              "      <td>11</td>\n",
              "      <td>160.0</td>\n",
              "      <td>1760.0</td>\n",
              "    </tr>\n",
              "    <tr>\n",
              "      <th>3</th>\n",
              "      <td>162</td>\n",
              "      <td>166</td>\n",
              "      <td>7</td>\n",
              "      <td>164.0</td>\n",
              "      <td>1148.0</td>\n",
              "    </tr>\n",
              "    <tr>\n",
              "      <th>4</th>\n",
              "      <td>166</td>\n",
              "      <td>170</td>\n",
              "      <td>5</td>\n",
              "      <td>168.0</td>\n",
              "      <td>840.0</td>\n",
              "    </tr>\n",
              "    <tr>\n",
              "      <th>5</th>\n",
              "      <td>170</td>\n",
              "      <td>174</td>\n",
              "      <td>3</td>\n",
              "      <td>172.0</td>\n",
              "      <td>516.0</td>\n",
              "    </tr>\n",
              "  </tbody>\n",
              "</table>\n",
              "</div>"
            ],
            "text/plain": [
              "   inferior  superior  fi     xi   fi.xi\n",
              "0       150       154   5  152.0   760.0\n",
              "1       154       158   9  156.0  1404.0\n",
              "2       158       162  11  160.0  1760.0\n",
              "3       162       166   7  164.0  1148.0\n",
              "4       166       170   5  168.0   840.0\n",
              "5       170       174   3  172.0   516.0"
            ]
          },
          "execution_count": 27,
          "metadata": {},
          "output_type": "execute_result"
        }
      ],
      "source": [
        "#calcula \"fi.xi\" que é o produto da frequência absoluta com o ponto médio\n",
        "#e acrescenta este produto como uma coluna no DataFrame\n",
        "dataset['fi.xi'] = dataset['fi'] * dataset['xi']\n",
        "dataset"
      ]
    },
    {
      "cell_type": "code",
      "execution_count": 28,
      "metadata": {
        "id": "5rhDlMw6p1R4"
      },
      "outputs": [
        {
          "data": {
            "text/html": [
              "<div>\n",
              "<style scoped>\n",
              "    .dataframe tbody tr th:only-of-type {\n",
              "        vertical-align: middle;\n",
              "    }\n",
              "\n",
              "    .dataframe tbody tr th {\n",
              "        vertical-align: top;\n",
              "    }\n",
              "\n",
              "    .dataframe thead th {\n",
              "        text-align: right;\n",
              "    }\n",
              "</style>\n",
              "<table border=\"1\" class=\"dataframe\">\n",
              "  <thead>\n",
              "    <tr style=\"text-align: right;\">\n",
              "      <th></th>\n",
              "      <th>inferior</th>\n",
              "      <th>superior</th>\n",
              "      <th>fi</th>\n",
              "      <th>xi</th>\n",
              "      <th>fi.xi</th>\n",
              "      <th>Fi</th>\n",
              "    </tr>\n",
              "  </thead>\n",
              "  <tbody>\n",
              "    <tr>\n",
              "      <th>0</th>\n",
              "      <td>150</td>\n",
              "      <td>154</td>\n",
              "      <td>5</td>\n",
              "      <td>152.0</td>\n",
              "      <td>760.0</td>\n",
              "      <td>0</td>\n",
              "    </tr>\n",
              "    <tr>\n",
              "      <th>1</th>\n",
              "      <td>154</td>\n",
              "      <td>158</td>\n",
              "      <td>9</td>\n",
              "      <td>156.0</td>\n",
              "      <td>1404.0</td>\n",
              "      <td>0</td>\n",
              "    </tr>\n",
              "    <tr>\n",
              "      <th>2</th>\n",
              "      <td>158</td>\n",
              "      <td>162</td>\n",
              "      <td>11</td>\n",
              "      <td>160.0</td>\n",
              "      <td>1760.0</td>\n",
              "      <td>0</td>\n",
              "    </tr>\n",
              "    <tr>\n",
              "      <th>3</th>\n",
              "      <td>162</td>\n",
              "      <td>166</td>\n",
              "      <td>7</td>\n",
              "      <td>164.0</td>\n",
              "      <td>1148.0</td>\n",
              "      <td>0</td>\n",
              "    </tr>\n",
              "    <tr>\n",
              "      <th>4</th>\n",
              "      <td>166</td>\n",
              "      <td>170</td>\n",
              "      <td>5</td>\n",
              "      <td>168.0</td>\n",
              "      <td>840.0</td>\n",
              "      <td>0</td>\n",
              "    </tr>\n",
              "    <tr>\n",
              "      <th>5</th>\n",
              "      <td>170</td>\n",
              "      <td>174</td>\n",
              "      <td>3</td>\n",
              "      <td>172.0</td>\n",
              "      <td>516.0</td>\n",
              "      <td>0</td>\n",
              "    </tr>\n",
              "  </tbody>\n",
              "</table>\n",
              "</div>"
            ],
            "text/plain": [
              "   inferior  superior  fi     xi   fi.xi  Fi\n",
              "0       150       154   5  152.0   760.0   0\n",
              "1       154       158   9  156.0  1404.0   0\n",
              "2       158       162  11  160.0  1760.0   0\n",
              "3       162       166   7  164.0  1148.0   0\n",
              "4       166       170   5  168.0   840.0   0\n",
              "5       170       174   3  172.0   516.0   0"
            ]
          },
          "execution_count": 28,
          "metadata": {},
          "output_type": "execute_result"
        }
      ],
      "source": [
        "#cria uma coluna para frequência acumulada ('Fi')\n",
        "# e inicializa os valores dela com zero (0)\n",
        "dataset['Fi'] = 0\n",
        "dataset"
      ]
    },
    {
      "cell_type": "code",
      "execution_count": 29,
      "metadata": {
        "id": "rF-G3dOMqKCM"
      },
      "outputs": [
        {
          "name": "stderr",
          "output_type": "stream",
          "text": [
            "/tmp/ipykernel_22386/2769060409.py:8: FutureWarning: Series.__getitem__ treating keys as positions is deprecated. In a future version, integer keys will always be treated as labels (consistent with DataFrame behavior). To access a value by position, use `ser.iloc[pos]`\n",
            "  somatorio += linha[1][2]\n"
          ]
        }
      ],
      "source": [
        "#calcula a frequência acumulada\n",
        "frequencia_acumulada = []\n",
        "somatorio = 0\n",
        "for linha in dataset.iterrows():\n",
        "  #print(linha[1])  #imprime a linha do DataFrame\n",
        "  #print(linha[1][2])  #imprime a coluna \"fi\" do Data Frame\n",
        "  #acumula o valor da \"fi\"\n",
        "  somatorio += linha[1][2]\n",
        "  frequencia_acumulada.append(somatorio)"
      ]
    },
    {
      "cell_type": "code",
      "execution_count": 30,
      "metadata": {
        "id": "SAywi7ezrWg_"
      },
      "outputs": [
        {
          "data": {
            "text/plain": [
              "[5.0, 14.0, 25.0, 32.0, 37.0, 40.0]"
            ]
          },
          "execution_count": 30,
          "metadata": {},
          "output_type": "execute_result"
        }
      ],
      "source": [
        "frequencia_acumulada"
      ]
    },
    {
      "cell_type": "code",
      "execution_count": 31,
      "metadata": {
        "id": "GADYIRu2rf_D"
      },
      "outputs": [
        {
          "data": {
            "text/html": [
              "<div>\n",
              "<style scoped>\n",
              "    .dataframe tbody tr th:only-of-type {\n",
              "        vertical-align: middle;\n",
              "    }\n",
              "\n",
              "    .dataframe tbody tr th {\n",
              "        vertical-align: top;\n",
              "    }\n",
              "\n",
              "    .dataframe thead th {\n",
              "        text-align: right;\n",
              "    }\n",
              "</style>\n",
              "<table border=\"1\" class=\"dataframe\">\n",
              "  <thead>\n",
              "    <tr style=\"text-align: right;\">\n",
              "      <th></th>\n",
              "      <th>inferior</th>\n",
              "      <th>superior</th>\n",
              "      <th>fi</th>\n",
              "      <th>xi</th>\n",
              "      <th>fi.xi</th>\n",
              "      <th>Fi</th>\n",
              "    </tr>\n",
              "  </thead>\n",
              "  <tbody>\n",
              "    <tr>\n",
              "      <th>0</th>\n",
              "      <td>150</td>\n",
              "      <td>154</td>\n",
              "      <td>5</td>\n",
              "      <td>152.0</td>\n",
              "      <td>760.0</td>\n",
              "      <td>5.0</td>\n",
              "    </tr>\n",
              "    <tr>\n",
              "      <th>1</th>\n",
              "      <td>154</td>\n",
              "      <td>158</td>\n",
              "      <td>9</td>\n",
              "      <td>156.0</td>\n",
              "      <td>1404.0</td>\n",
              "      <td>14.0</td>\n",
              "    </tr>\n",
              "    <tr>\n",
              "      <th>2</th>\n",
              "      <td>158</td>\n",
              "      <td>162</td>\n",
              "      <td>11</td>\n",
              "      <td>160.0</td>\n",
              "      <td>1760.0</td>\n",
              "      <td>25.0</td>\n",
              "    </tr>\n",
              "    <tr>\n",
              "      <th>3</th>\n",
              "      <td>162</td>\n",
              "      <td>166</td>\n",
              "      <td>7</td>\n",
              "      <td>164.0</td>\n",
              "      <td>1148.0</td>\n",
              "      <td>32.0</td>\n",
              "    </tr>\n",
              "    <tr>\n",
              "      <th>4</th>\n",
              "      <td>166</td>\n",
              "      <td>170</td>\n",
              "      <td>5</td>\n",
              "      <td>168.0</td>\n",
              "      <td>840.0</td>\n",
              "      <td>37.0</td>\n",
              "    </tr>\n",
              "    <tr>\n",
              "      <th>5</th>\n",
              "      <td>170</td>\n",
              "      <td>174</td>\n",
              "      <td>3</td>\n",
              "      <td>172.0</td>\n",
              "      <td>516.0</td>\n",
              "      <td>40.0</td>\n",
              "    </tr>\n",
              "  </tbody>\n",
              "</table>\n",
              "</div>"
            ],
            "text/plain": [
              "   inferior  superior  fi     xi   fi.xi    Fi\n",
              "0       150       154   5  152.0   760.0   5.0\n",
              "1       154       158   9  156.0  1404.0  14.0\n",
              "2       158       162  11  160.0  1760.0  25.0\n",
              "3       162       166   7  164.0  1148.0  32.0\n",
              "4       166       170   5  168.0   840.0  37.0\n",
              "5       170       174   3  172.0   516.0  40.0"
            ]
          },
          "execution_count": 31,
          "metadata": {},
          "output_type": "execute_result"
        }
      ],
      "source": [
        "#acrescenta a lista acima como uma coluna (\"Fi\") no DataFrame\n",
        "dataset['Fi'] = frequencia_acumulada\n",
        "dataset"
      ]
    },
    {
      "cell_type": "markdown",
      "metadata": {
        "id": "tdRnWXaKs5VH"
      },
      "source": [
        "**Média da Distribuição de Frequência**"
      ]
    },
    {
      "cell_type": "code",
      "execution_count": 32,
      "metadata": {
        "id": "V1FXRYTStA5V"
      },
      "outputs": [
        {
          "data": {
            "text/plain": [
              "(40, 6428.0)"
            ]
          },
          "execution_count": 32,
          "metadata": {},
          "output_type": "execute_result"
        }
      ],
      "source": [
        "#calcula os totais das colunas \"fi\" e \"fi.xi\"\n",
        "dataset['fi'].sum(), dataset['fi.xi'].sum()"
      ]
    },
    {
      "cell_type": "code",
      "execution_count": 33,
      "metadata": {
        "id": "W47Mr5cPtPGr"
      },
      "outputs": [
        {
          "data": {
            "text/plain": [
              "160.7"
            ]
          },
          "execution_count": 33,
          "metadata": {},
          "output_type": "execute_result"
        }
      ],
      "source": [
        "#calcula a média da distribuição de frequência\n",
        "dataset['fi.xi'].sum() / dataset['fi'].sum()"
      ]
    },
    {
      "cell_type": "markdown",
      "metadata": {
        "id": "Qbel3_ais65D"
      },
      "source": [
        "**Moda da Distribuição de Frequência**"
      ]
    },
    {
      "cell_type": "code",
      "execution_count": 34,
      "metadata": {
        "id": "hEVZdbrytUgH"
      },
      "outputs": [
        {
          "data": {
            "text/plain": [
              "11"
            ]
          },
          "execution_count": 34,
          "metadata": {},
          "output_type": "execute_result"
        }
      ],
      "source": [
        "#calcula a moda da DF\n",
        "#é o valor da frequência (\"fi\"\") que mais se repete\n",
        "dataset['fi'].max()"
      ]
    },
    {
      "cell_type": "code",
      "execution_count": 35,
      "metadata": {
        "id": "Yz3s-hsdtf2U"
      },
      "outputs": [
        {
          "data": {
            "text/html": [
              "<div>\n",
              "<style scoped>\n",
              "    .dataframe tbody tr th:only-of-type {\n",
              "        vertical-align: middle;\n",
              "    }\n",
              "\n",
              "    .dataframe tbody tr th {\n",
              "        vertical-align: top;\n",
              "    }\n",
              "\n",
              "    .dataframe thead th {\n",
              "        text-align: right;\n",
              "    }\n",
              "</style>\n",
              "<table border=\"1\" class=\"dataframe\">\n",
              "  <thead>\n",
              "    <tr style=\"text-align: right;\">\n",
              "      <th></th>\n",
              "      <th>inferior</th>\n",
              "      <th>superior</th>\n",
              "      <th>fi</th>\n",
              "      <th>xi</th>\n",
              "      <th>fi.xi</th>\n",
              "      <th>Fi</th>\n",
              "    </tr>\n",
              "  </thead>\n",
              "  <tbody>\n",
              "    <tr>\n",
              "      <th>2</th>\n",
              "      <td>158</td>\n",
              "      <td>162</td>\n",
              "      <td>11</td>\n",
              "      <td>160.0</td>\n",
              "      <td>1760.0</td>\n",
              "      <td>25.0</td>\n",
              "    </tr>\n",
              "  </tbody>\n",
              "</table>\n",
              "</div>"
            ],
            "text/plain": [
              "   inferior  superior  fi     xi   fi.xi    Fi\n",
              "2       158       162  11  160.0  1760.0  25.0"
            ]
          },
          "execution_count": 35,
          "metadata": {},
          "output_type": "execute_result"
        }
      ],
      "source": [
        "#usa um filtro para obter a linha da \"fi\" que mais se repete\n",
        "dataset[dataset['fi'] == dataset['fi'].max()]"
      ]
    },
    {
      "cell_type": "code",
      "execution_count": 36,
      "metadata": {
        "id": "dIvxTcg_tuNc"
      },
      "outputs": [
        {
          "data": {
            "text/plain": [
              "160.0"
            ]
          },
          "execution_count": 36,
          "metadata": {},
          "output_type": "execute_result"
        }
      ],
      "source": [
        "#usa um filtro para obter o valor de \"xi\"\n",
        "dataset[dataset['fi'] == dataset['fi'].max()]['xi'].values[0]"
      ]
    },
    {
      "cell_type": "markdown",
      "metadata": {
        "id": "VVh_EdZVs8A4"
      },
      "source": [
        "**Mediana da Distribuição de Frequência**"
      ]
    },
    {
      "cell_type": "code",
      "execution_count": 37,
      "metadata": {
        "id": "7XAc0k9ft9st"
      },
      "outputs": [
        {
          "data": {
            "text/html": [
              "<div>\n",
              "<style scoped>\n",
              "    .dataframe tbody tr th:only-of-type {\n",
              "        vertical-align: middle;\n",
              "    }\n",
              "\n",
              "    .dataframe tbody tr th {\n",
              "        vertical-align: top;\n",
              "    }\n",
              "\n",
              "    .dataframe thead th {\n",
              "        text-align: right;\n",
              "    }\n",
              "</style>\n",
              "<table border=\"1\" class=\"dataframe\">\n",
              "  <thead>\n",
              "    <tr style=\"text-align: right;\">\n",
              "      <th></th>\n",
              "      <th>inferior</th>\n",
              "      <th>superior</th>\n",
              "      <th>fi</th>\n",
              "      <th>xi</th>\n",
              "      <th>fi.xi</th>\n",
              "      <th>Fi</th>\n",
              "    </tr>\n",
              "  </thead>\n",
              "  <tbody>\n",
              "    <tr>\n",
              "      <th>0</th>\n",
              "      <td>150</td>\n",
              "      <td>154</td>\n",
              "      <td>5</td>\n",
              "      <td>152.0</td>\n",
              "      <td>760.0</td>\n",
              "      <td>5.0</td>\n",
              "    </tr>\n",
              "    <tr>\n",
              "      <th>1</th>\n",
              "      <td>154</td>\n",
              "      <td>158</td>\n",
              "      <td>9</td>\n",
              "      <td>156.0</td>\n",
              "      <td>1404.0</td>\n",
              "      <td>14.0</td>\n",
              "    </tr>\n",
              "    <tr>\n",
              "      <th>2</th>\n",
              "      <td>158</td>\n",
              "      <td>162</td>\n",
              "      <td>11</td>\n",
              "      <td>160.0</td>\n",
              "      <td>1760.0</td>\n",
              "      <td>25.0</td>\n",
              "    </tr>\n",
              "    <tr>\n",
              "      <th>3</th>\n",
              "      <td>162</td>\n",
              "      <td>166</td>\n",
              "      <td>7</td>\n",
              "      <td>164.0</td>\n",
              "      <td>1148.0</td>\n",
              "      <td>32.0</td>\n",
              "    </tr>\n",
              "    <tr>\n",
              "      <th>4</th>\n",
              "      <td>166</td>\n",
              "      <td>170</td>\n",
              "      <td>5</td>\n",
              "      <td>168.0</td>\n",
              "      <td>840.0</td>\n",
              "      <td>37.0</td>\n",
              "    </tr>\n",
              "    <tr>\n",
              "      <th>5</th>\n",
              "      <td>170</td>\n",
              "      <td>174</td>\n",
              "      <td>3</td>\n",
              "      <td>172.0</td>\n",
              "      <td>516.0</td>\n",
              "      <td>40.0</td>\n",
              "    </tr>\n",
              "  </tbody>\n",
              "</table>\n",
              "</div>"
            ],
            "text/plain": [
              "   inferior  superior  fi     xi   fi.xi    Fi\n",
              "0       150       154   5  152.0   760.0   5.0\n",
              "1       154       158   9  156.0  1404.0  14.0\n",
              "2       158       162  11  160.0  1760.0  25.0\n",
              "3       162       166   7  164.0  1148.0  32.0\n",
              "4       166       170   5  168.0   840.0  37.0\n",
              "5       170       174   3  172.0   516.0  40.0"
            ]
          },
          "execution_count": 37,
          "metadata": {},
          "output_type": "execute_result"
        }
      ],
      "source": [
        "dataset"
      ]
    },
    {
      "cell_type": "code",
      "execution_count": 38,
      "metadata": {
        "id": "0wzJiSOBuFtQ"
      },
      "outputs": [
        {
          "data": {
            "text/plain": [
              "20.0"
            ]
          },
          "execution_count": 38,
          "metadata": {},
          "output_type": "execute_result"
        }
      ],
      "source": [
        "fi_2 = dataset['fi'].sum() / 2\n",
        "fi_2"
      ]
    },
    {
      "cell_type": "code",
      "execution_count": 39,
      "metadata": {
        "id": "tMoZdwCwuhGh"
      },
      "outputs": [
        {
          "name": "stderr",
          "output_type": "stream",
          "text": [
            "/tmp/ipykernel_22386/1957191632.py:4: FutureWarning: Series.__getitem__ treating keys as positions is deprecated. In a future version, integer keys will always be treated as labels (consistent with DataFrame behavior). To access a value by position, use `ser.iloc[pos]`\n",
            "  limite_inferior = linha[1][0]\n",
            "/tmp/ipykernel_22386/1957191632.py:5: FutureWarning: Series.__getitem__ treating keys as positions is deprecated. In a future version, integer keys will always be treated as labels (consistent with DataFrame behavior). To access a value by position, use `ser.iloc[pos]`\n",
            "  frequencia_classe = linha[1][2]\n",
            "/tmp/ipykernel_22386/1957191632.py:7: FutureWarning: Series.__getitem__ treating keys as positions is deprecated. In a future version, integer keys will always be treated as labels (consistent with DataFrame behavior). To access a value by position, use `ser.iloc[pos]`\n",
            "  if linha[1][5] >= fi_2:\n"
          ]
        }
      ],
      "source": [
        "limite_inferior, frequencia_classe, id_frequencia_anterior = 0, 0, 0\n",
        "for linha in dataset.iterrows():\n",
        "  #print(linha)\n",
        "  limite_inferior = linha[1][0]\n",
        "  frequencia_classe = linha[1][2]\n",
        "  id_frequencia_anterior = linha[0]\n",
        "  if linha[1][5] >= fi_2:\n",
        "    id_frequencia_anterior -= 1\n",
        "    break"
      ]
    },
    {
      "cell_type": "code",
      "execution_count": 40,
      "metadata": {
        "id": "epjTjW9mvgFB"
      },
      "outputs": [
        {
          "data": {
            "text/plain": [
              "(158.0, 11.0, 1)"
            ]
          },
          "execution_count": 40,
          "metadata": {},
          "output_type": "execute_result"
        }
      ],
      "source": [
        "limite_inferior, frequencia_classe, id_frequencia_anterior"
      ]
    },
    {
      "cell_type": "code",
      "execution_count": 41,
      "metadata": {
        "id": "IVEonk5uvpWJ"
      },
      "outputs": [
        {
          "data": {
            "text/plain": [
              "14.0"
            ]
          },
          "execution_count": 41,
          "metadata": {},
          "output_type": "execute_result"
        }
      ],
      "source": [
        "Fi_anterior = dataset.iloc[[id_frequencia_anterior]]['Fi'].values[0]\n",
        "Fi_anterior"
      ]
    },
    {
      "cell_type": "code",
      "execution_count": 42,
      "metadata": {
        "id": "sHR6I53lv2e1"
      },
      "outputs": [
        {
          "data": {
            "text/plain": [
              "160.1818181818182"
            ]
          },
          "execution_count": 42,
          "metadata": {},
          "output_type": "execute_result"
        }
      ],
      "source": [
        "#md = li + ((∑fi/2 - Fiant) * LC) / fi\n",
        "#md = mediana\n",
        "#li = limite inferior do intervalo\n",
        "#∑fi/2 = ponto médio de uma classe (intervalo)\n",
        "#Fiant = frequência acumulada da classe anterior\n",
        "#LC = largura da classe (no caso = 4)\n",
        "#fi = frequência absoluta da classe\n",
        "mediana = limite_inferior + ((fi_2 - Fi_anterior) * 4) / frequencia_classe\n",
        "mediana"
      ]
    },
    {
      "cell_type": "markdown",
      "metadata": {
        "id": "uh7NCu1iwIPa"
      },
      "source": [
        "**Função completa**"
      ]
    },
    {
      "cell_type": "code",
      "execution_count": 43,
      "metadata": {
        "id": "hNMHtdsXwH5s"
      },
      "outputs": [],
      "source": [
        "#função para calcular todos os passos manuais acima\n",
        "def get_estatisticas(dataframe):\n",
        "  media = dataset['fi.xi'].sum() / dataset['fi'].sum()\n",
        "  moda = dataset[dataset['fi'] == dataset['fi'].max()]['xi'].values[0]\n",
        "\n",
        "  fi_2 = dataset['fi'].sum() / 2\n",
        "  limite_inferior, frequencia_classe, id_frequencia_anterior = 0, 0, 0\n",
        "  for i, linha in enumerate(dataset.iterrows()):\n",
        "    limite_inferior = linha[1][0]\n",
        "    frequencia_classe = linha[1][2]\n",
        "    id_frequencia_anterior = linha[0]\n",
        "    if linha[1][5] >= fi_2:\n",
        "      id_frequencia_anterior -= 1\n",
        "      break\n",
        "  Fi_anterior = dataset.iloc[[id_frequencia_anterior]]['Fi'].values[0]\n",
        "  mediana = limite_inferior + ((fi_2 - Fi_anterior) * 4) / frequencia_classe\n",
        "\n",
        "  #retorna a média, a moda e a mediana\n",
        "  return media, moda, mediana"
      ]
    },
    {
      "cell_type": "code",
      "execution_count": 44,
      "metadata": {
        "id": "A1KzRLFDwMJq"
      },
      "outputs": [
        {
          "name": "stderr",
          "output_type": "stream",
          "text": [
            "/tmp/ipykernel_22386/2571345545.py:9: FutureWarning: Series.__getitem__ treating keys as positions is deprecated. In a future version, integer keys will always be treated as labels (consistent with DataFrame behavior). To access a value by position, use `ser.iloc[pos]`\n",
            "  limite_inferior = linha[1][0]\n",
            "/tmp/ipykernel_22386/2571345545.py:10: FutureWarning: Series.__getitem__ treating keys as positions is deprecated. In a future version, integer keys will always be treated as labels (consistent with DataFrame behavior). To access a value by position, use `ser.iloc[pos]`\n",
            "  frequencia_classe = linha[1][2]\n",
            "/tmp/ipykernel_22386/2571345545.py:12: FutureWarning: Series.__getitem__ treating keys as positions is deprecated. In a future version, integer keys will always be treated as labels (consistent with DataFrame behavior). To access a value by position, use `ser.iloc[pos]`\n",
            "  if linha[1][5] >= fi_2:\n"
          ]
        },
        {
          "data": {
            "text/plain": [
              "(160.7, 160.0, 160.1818181818182)"
            ]
          },
          "execution_count": 44,
          "metadata": {},
          "output_type": "execute_result"
        }
      ],
      "source": [
        "#chama a função passando o dataset para efetuar os cálculos\n",
        "get_estatisticas(dataset)"
      ]
    },
    {
      "cell_type": "markdown",
      "metadata": {
        "id": "-dopP1kEKPLp"
      },
      "source": [
        "# **Medidas de Variação**\n",
        "Indicam o quanto os dados se apresentam dispersos (espalhados) em torno da região central. Elas mostram o grau de variação existente no dataset. Mais usadas: Amplitude Total, Desvio Padrão e Variância"
      ]
    },
    {
      "cell_type": "markdown",
      "metadata": {
        "id": "A0Jb0lxfvX8V"
      },
      "source": [
        "## **Amplitude Total**"
      ]
    },
    {
      "cell_type": "code",
      "execution_count": 45,
      "metadata": {
        "id": "rZaTx4xKvUlb"
      },
      "outputs": [
        {
          "data": {
            "text/plain": [
              "array([150, 151, 152, 152, 153, 154, 155, 155, 155, 155, 156, 156, 156,\n",
              "       157, 158, 158, 160, 160, 160, 160, 160, 161, 161, 161, 161, 162,\n",
              "       163, 163, 164, 164, 164, 165, 166, 167, 168, 168, 169, 170, 172,\n",
              "       173])"
            ]
          },
          "execution_count": 45,
          "metadata": {},
          "output_type": "execute_result"
        }
      ],
      "source": [
        "dados = np.array([150, 151, 152, 152, 153, 154, 155, 155, 155, 155, 156, 156, 156,\n",
        "                  157, 158, 158, 160, 160, 160, 160, 160, 161, 161, 161, 161, 162,\n",
        "                  163, 163, 164, 164, 164, 165, 166, 167, 168, 168, 169, 170, 172,\n",
        "                  173])\n",
        "dados"
      ]
    },
    {
      "cell_type": "code",
      "execution_count": 46,
      "metadata": {
        "id": "hy3fiaAtvUld"
      },
      "outputs": [
        {
          "data": {
            "text/plain": [
              "23"
            ]
          },
          "execution_count": 46,
          "metadata": {},
          "output_type": "execute_result"
        }
      ],
      "source": [
        "#calcula a Amplitude Total\n",
        "dados.max() - dados.min()"
      ]
    },
    {
      "cell_type": "markdown",
      "metadata": {
        "id": "C2TRnsP6PINq"
      },
      "source": [
        "## **Desvio, Variância, Desvio Padrão e Coeficiente de Variação**"
      ]
    },
    {
      "cell_type": "code",
      "execution_count": 47,
      "metadata": {
        "id": "XtvrTH_KPVrj"
      },
      "outputs": [],
      "source": [
        "#vamos usar um dataset menor\n",
        "dados_impar = np.array([150, 151, 152, 152, 153, 154, 155, 155, 155])"
      ]
    },
    {
      "cell_type": "markdown",
      "metadata": {
        "id": "w_PKhpBFPMpe"
      },
      "source": [
        "**Cálculo manual**"
      ]
    },
    {
      "cell_type": "code",
      "execution_count": 48,
      "metadata": {
        "id": "CghU9wNFPgZd"
      },
      "outputs": [
        {
          "data": {
            "text/plain": [
              "153.0"
            ]
          },
          "execution_count": 48,
          "metadata": {},
          "output_type": "execute_result"
        }
      ],
      "source": [
        "#calcula a média da população\n",
        "media = dados_impar.sum() / len(dados_impar)\n",
        "media"
      ]
    },
    {
      "cell_type": "code",
      "execution_count": 49,
      "metadata": {
        "id": "rIEceGDNQERu"
      },
      "outputs": [
        {
          "data": {
            "text/plain": [
              "array([-3., -2., -1., -1.,  0.,  1.,  2.,  2.,  2.])"
            ]
          },
          "execution_count": 49,
          "metadata": {},
          "output_type": "execute_result"
        }
      ],
      "source": [
        "#calcula o desvio (xi - média)\n",
        "#é a diferença entre a entrada (xi) e a média do dataset\n",
        "desvio = dados_impar - media\n",
        "desvio"
      ]
    },
    {
      "cell_type": "code",
      "execution_count": 50,
      "metadata": {
        "id": "zZvtvDIUQWq6"
      },
      "outputs": [
        {
          "data": {
            "text/plain": [
              "array([9., 4., 1., 1., 0., 1., 4., 4., 4.])"
            ]
          },
          "execution_count": 50,
          "metadata": {},
          "output_type": "execute_result"
        }
      ],
      "source": [
        "#calcula os quadrados ((xi - média)**2) ou desvio**2\n",
        "quadrados = desvio ** 2\n",
        "quadrados"
      ]
    },
    {
      "cell_type": "code",
      "execution_count": 51,
      "metadata": {
        "id": "YkfDmtQeQgD1"
      },
      "outputs": [
        {
          "data": {
            "text/plain": [
              "28.0"
            ]
          },
          "execution_count": 51,
          "metadata": {},
          "output_type": "execute_result"
        }
      ],
      "source": [
        "#calcula a soma total dos quadrados (SSx)\n",
        "soma_quadrados = quadrados.sum()\n",
        "soma_quadrados"
      ]
    },
    {
      "cell_type": "code",
      "execution_count": 52,
      "metadata": {
        "id": "kzpWXvrMQk--"
      },
      "outputs": [
        {
          "data": {
            "text/plain": [
              "3.111111111111111"
            ]
          },
          "execution_count": 52,
          "metadata": {},
          "output_type": "execute_result"
        }
      ],
      "source": [
        "#calcula a variância populacional\n",
        "v = soma_quadrados / len(dados_impar)\n",
        "v"
      ]
    },
    {
      "cell_type": "code",
      "execution_count": 53,
      "metadata": {
        "id": "xTVUeK9wTKMs"
      },
      "outputs": [
        {
          "data": {
            "text/plain": [
              "1.7638342073763937"
            ]
          },
          "execution_count": 53,
          "metadata": {},
          "output_type": "execute_result"
        }
      ],
      "source": [
        "#calcula o desvio padrão populacional\n",
        "#em inglês desvio padrão é chamado de \"standard deviation\"\n",
        "dp = math.sqrt(v)\n",
        "dp"
      ]
    },
    {
      "cell_type": "code",
      "execution_count": 54,
      "metadata": {
        "id": "qk1ByuaoVdFs"
      },
      "outputs": [
        {
          "data": {
            "text/plain": [
              "1.1528328152786886"
            ]
          },
          "execution_count": 54,
          "metadata": {},
          "output_type": "execute_result"
        }
      ],
      "source": [
        "#calcula o coeficiente de variação (cv)\n",
        "#CV de um conjunto de dados descreve o desvio padrão como uma porcentagem da média\n",
        "cv = (dp / media) * 100\n",
        "cv"
      ]
    },
    {
      "cell_type": "code",
      "execution_count": 55,
      "metadata": {
        "id": "vdCkODt5QzoD"
      },
      "outputs": [],
      "source": [
        "#função para efetuar todos os cálculos\n",
        "def get_variancia_desvio_padrao_coeficiente(dataset):\n",
        "  media = dataset.sum() / len(dataset)\n",
        "  desvio = dados_impar - media\n",
        "  quadrados = desvio ** 2\n",
        "  soma_quadrados = quadrados.sum()\n",
        "  variancia = soma_quadrados / len(dados_impar)\n",
        "  dp = math.sqrt(variancia)\n",
        "  return variancia, dp, (dp / media) * 100"
      ]
    },
    {
      "cell_type": "code",
      "execution_count": 56,
      "metadata": {
        "id": "Mx8qt1epRDdc"
      },
      "outputs": [
        {
          "data": {
            "text/plain": [
              "(3.111111111111111, 1.7638342073763937, 1.1528328152786886)"
            ]
          },
          "execution_count": 56,
          "metadata": {},
          "output_type": "execute_result"
        }
      ],
      "source": [
        "#chama a função passando o dataset para efetuar os cálcuos\n",
        "get_variancia_desvio_padrao_coeficiente(dados_impar)"
      ]
    },
    {
      "cell_type": "markdown",
      "metadata": {
        "id": "VxDOYNX3POJN"
      },
      "source": [
        "**Usando as Bibliotecas**"
      ]
    },
    {
      "cell_type": "code",
      "execution_count": 57,
      "metadata": {
        "id": "hAe47WyIQwvW"
      },
      "outputs": [
        {
          "data": {
            "text/plain": [
              "3.111111111111111"
            ]
          },
          "execution_count": 57,
          "metadata": {},
          "output_type": "execute_result"
        }
      ],
      "source": [
        "np.var(dados_impar)"
      ]
    },
    {
      "cell_type": "code",
      "execution_count": 58,
      "metadata": {
        "id": "1yYefrfsTfes"
      },
      "outputs": [
        {
          "data": {
            "text/plain": [
              "1.7638342073763937"
            ]
          },
          "execution_count": 58,
          "metadata": {},
          "output_type": "execute_result"
        }
      ],
      "source": [
        "np.std(dados_impar)"
      ]
    },
    {
      "cell_type": "code",
      "execution_count": 59,
      "metadata": {
        "id": "4Ilo1yOlRWjG"
      },
      "outputs": [
        {
          "data": {
            "text/plain": [
              "33.984375"
            ]
          },
          "execution_count": 59,
          "metadata": {},
          "output_type": "execute_result"
        }
      ],
      "source": [
        "np.var(dados)"
      ]
    },
    {
      "cell_type": "code",
      "execution_count": 60,
      "metadata": {
        "id": "3RG-BmxCTjmc"
      },
      "outputs": [
        {
          "data": {
            "text/plain": [
              "5.829611908180509"
            ]
          },
          "execution_count": 60,
          "metadata": {},
          "output_type": "execute_result"
        }
      ],
      "source": [
        "np.std(dados)"
      ]
    },
    {
      "cell_type": "code",
      "execution_count": 61,
      "metadata": {
        "id": "TuJ8ZCHaRiv3"
      },
      "outputs": [
        {
          "data": {
            "text/plain": [
              "34"
            ]
          },
          "execution_count": 61,
          "metadata": {},
          "output_type": "execute_result"
        }
      ],
      "source": [
        "statistics.variance(dados)"
      ]
    },
    {
      "cell_type": "code",
      "execution_count": 62,
      "metadata": {
        "id": "4nJ9mXjET_Ap"
      },
      "outputs": [
        {
          "data": {
            "text/plain": [
              "5.830951894845301"
            ]
          },
          "execution_count": 62,
          "metadata": {},
          "output_type": "execute_result"
        }
      ],
      "source": [
        "statistics.stdev(dados)"
      ]
    },
    {
      "cell_type": "code",
      "execution_count": 63,
      "metadata": {
        "id": "RevDXM8qRm-Q"
      },
      "outputs": [
        {
          "data": {
            "text/plain": [
              "33.984375"
            ]
          },
          "execution_count": 63,
          "metadata": {},
          "output_type": "execute_result"
        }
      ],
      "source": [
        "from scipy import ndimage\n",
        "ndimage.variance(dados)"
      ]
    },
    {
      "cell_type": "code",
      "execution_count": 64,
      "metadata": {
        "id": "q3roW8SmUEG-"
      },
      "outputs": [
        {
          "data": {
            "text/plain": [
              "5.829611908180509"
            ]
          },
          "execution_count": 64,
          "metadata": {},
          "output_type": "execute_result"
        }
      ],
      "source": [
        "stats.tstd(dados, ddof = 0)"
      ]
    },
    {
      "cell_type": "code",
      "execution_count": 65,
      "metadata": {
        "id": "e9pyRHARV5oW"
      },
      "outputs": [
        {
          "data": {
            "text/plain": [
              "1.1528328152786886"
            ]
          },
          "execution_count": 65,
          "metadata": {},
          "output_type": "execute_result"
        }
      ],
      "source": [
        "stats.variation(dados_impar) * 100"
      ]
    },
    {
      "cell_type": "code",
      "execution_count": 66,
      "metadata": {
        "id": "a3ha8ug4WD0r"
      },
      "outputs": [
        {
          "data": {
            "text/plain": [
              "3.634987939629312"
            ]
          },
          "execution_count": 66,
          "metadata": {},
          "output_type": "execute_result"
        }
      ],
      "source": [
        "stats.variation(dados) * 100"
      ]
    },
    {
      "cell_type": "markdown",
      "metadata": {
        "id": "Eeu0nG1TuENl"
      },
      "source": [
        "# **Medidas de Posição**\n",
        "Descrevem a posição que um valor de dados específico possui em relação ao resto dos outros dados. Mais usadas: Quartis, Percentis e Decis\n",
        "\n"
      ]
    },
    {
      "cell_type": "markdown",
      "metadata": {
        "id": "VyF_516h54sn"
      },
      "source": [
        "**Quartis**\n",
        "\n",
        "São números que dividem um conjunto de dados ordenado em 4 partes iguais\n",
        "\n",
        "\n",
        "*   Primeiro Quartil (Q1)\n",
        "*   Segundo Quartil (Q2) (é a mediana do dataset)\n",
        "*   Terceiro Quartil (Q3)\n",
        "\n",
        "\n"
      ]
    },
    {
      "cell_type": "code",
      "execution_count": 67,
      "metadata": {
        "id": "4cYJ4s3856Wg"
      },
      "outputs": [],
      "source": [
        "dados_impar = [150, 151, 152, 152, 153, 154, 155, 155, 155]"
      ]
    },
    {
      "cell_type": "markdown",
      "metadata": {
        "id": "9BZwV9mY5-u1"
      },
      "source": [
        "### Cálculo manual"
      ]
    },
    {
      "cell_type": "code",
      "execution_count": 68,
      "metadata": {
        "id": "RyvlO0Y66cbq"
      },
      "outputs": [
        {
          "data": {
            "text/plain": [
              "153.0"
            ]
          },
          "execution_count": 68,
          "metadata": {},
          "output_type": "execute_result"
        }
      ],
      "source": [
        "#calcula a mediana do dataset que é o Q2\n",
        "#Q2 divide o conjunto de dados em 2 metades\n",
        "#Q1 e Q3 também são as medianas destas 2 metades, respectivamente\n",
        "np.median(dados_impar)"
      ]
    },
    {
      "cell_type": "code",
      "execution_count": 69,
      "metadata": {
        "id": "9onAwzrU6qSL"
      },
      "outputs": [
        {
          "data": {
            "text/plain": [
              "4"
            ]
          },
          "execution_count": 69,
          "metadata": {},
          "output_type": "execute_result"
        }
      ],
      "source": [
        "#calcula a posição da mediana (Q2)\n",
        "#arredonda o valor para baixo (math.floor)\n",
        "posicao_mediana = math.floor(len(dados_impar) / 2)\n",
        "posicao_mediana"
      ]
    },
    {
      "cell_type": "code",
      "execution_count": 70,
      "metadata": {
        "id": "5OXuJgwx62EM"
      },
      "outputs": [
        {
          "data": {
            "text/plain": [
              "[150, 151, 152, 152]"
            ]
          },
          "execution_count": 70,
          "metadata": {},
          "output_type": "execute_result"
        }
      ],
      "source": [
        "esquerda = dados_impar[0:posicao_mediana]\n",
        "esquerda"
      ]
    },
    {
      "cell_type": "code",
      "execution_count": 71,
      "metadata": {
        "id": "8uaADedN7END"
      },
      "outputs": [
        {
          "data": {
            "text/plain": [
              "151.5"
            ]
          },
          "execution_count": 71,
          "metadata": {},
          "output_type": "execute_result"
        }
      ],
      "source": [
        "#calcula o Q1\n",
        "np.median(esquerda)"
      ]
    },
    {
      "cell_type": "code",
      "execution_count": 72,
      "metadata": {
        "id": "rku5WV_v7KJO"
      },
      "outputs": [
        {
          "data": {
            "text/plain": [
              "[154, 155, 155, 155]"
            ]
          },
          "execution_count": 72,
          "metadata": {},
          "output_type": "execute_result"
        }
      ],
      "source": [
        "direita = dados_impar[posicao_mediana + 1:]\n",
        "direita"
      ]
    },
    {
      "cell_type": "code",
      "execution_count": 73,
      "metadata": {
        "id": "FUgD6WvY7Vvk"
      },
      "outputs": [
        {
          "data": {
            "text/plain": [
              "155.0"
            ]
          },
          "execution_count": 73,
          "metadata": {},
          "output_type": "execute_result"
        }
      ],
      "source": [
        "#calcula o Q3\n",
        "np.median(direita)"
      ]
    },
    {
      "cell_type": "markdown",
      "metadata": {
        "id": "13w9k3dl6Bqc"
      },
      "source": [
        "**Calculando Q1, Q2 e Q3 usando as Bibliotecas**"
      ]
    },
    {
      "cell_type": "markdown",
      "metadata": {
        "id": "-Kt4Xxvf6DHv"
      },
      "source": [
        "#### numpy"
      ]
    },
    {
      "cell_type": "code",
      "execution_count": 74,
      "metadata": {
        "id": "e0O7axSm7eHc"
      },
      "outputs": [
        {
          "data": {
            "text/plain": [
              "153.0"
            ]
          },
          "execution_count": 74,
          "metadata": {},
          "output_type": "execute_result"
        }
      ],
      "source": [
        "#calcula Q2\n",
        "np.quantile(dados_impar, 0.5)"
      ]
    },
    {
      "cell_type": "code",
      "execution_count": 75,
      "metadata": {
        "id": "hAdVsrD_7khd"
      },
      "outputs": [
        {
          "data": {
            "text/plain": [
              "155.0"
            ]
          },
          "execution_count": 75,
          "metadata": {},
          "output_type": "execute_result"
        }
      ],
      "source": [
        "#calcula Q3\n",
        "np.quantile(dados_impar, 0.75)"
      ]
    },
    {
      "cell_type": "code",
      "execution_count": 76,
      "metadata": {
        "id": "PsJ_B8na7omh"
      },
      "outputs": [
        {
          "data": {
            "text/plain": [
              "152.0"
            ]
          },
          "execution_count": 76,
          "metadata": {},
          "output_type": "execute_result"
        }
      ],
      "source": [
        "#calcula Q1\n",
        "#esta função inclui o valor 153, infelizmente\n",
        "np.quantile(dados_impar, 0.25)"
      ]
    },
    {
      "cell_type": "code",
      "execution_count": 77,
      "metadata": {
        "id": "1zvFaUQn74EQ"
      },
      "outputs": [
        {
          "data": {
            "text/plain": [
              "[150, 151, 152, 152, 153]"
            ]
          },
          "execution_count": 77,
          "metadata": {},
          "output_type": "execute_result"
        }
      ],
      "source": [
        "#mostrar como o 153 está incluído no cálculo\n",
        "esquerda2 = dados_impar[0:posicao_mediana + 1]\n",
        "esquerda2"
      ]
    },
    {
      "cell_type": "code",
      "execution_count": 78,
      "metadata": {
        "id": "DWUO2FTb7-A6"
      },
      "outputs": [
        {
          "data": {
            "text/plain": [
              "152.0"
            ]
          },
          "execution_count": 78,
          "metadata": {},
          "output_type": "execute_result"
        }
      ],
      "source": [
        "np.median(esquerda2)"
      ]
    },
    {
      "cell_type": "code",
      "execution_count": 79,
      "metadata": {
        "id": "slThBXsj8CA6"
      },
      "outputs": [
        {
          "data": {
            "text/plain": [
              "(155.75, 160.0, 164.0)"
            ]
          },
          "execution_count": 79,
          "metadata": {},
          "output_type": "execute_result"
        }
      ],
      "source": [
        "#cálculando Q1, Q2 e Q3 sobre o dataset original (maior)\n",
        "np.quantile(dados, 0.25), np.quantile(dados, 0.50), np.quantile(dados, 0.75)"
      ]
    },
    {
      "cell_type": "markdown",
      "metadata": {
        "id": "N9sKA2GP6FNy"
      },
      "source": [
        "#### scipy"
      ]
    },
    {
      "cell_type": "code",
      "execution_count": 80,
      "metadata": {
        "id": "nhswmwGL8PQ6"
      },
      "outputs": [
        {
          "data": {
            "text/plain": [
              "(155.75, 160.0, 164.0)"
            ]
          },
          "execution_count": 80,
          "metadata": {},
          "output_type": "execute_result"
        }
      ],
      "source": [
        "stats.scoreatpercentile(dados, 25), stats.scoreatpercentile(dados, 50), stats.scoreatpercentile(dados, 75)"
      ]
    },
    {
      "cell_type": "markdown",
      "metadata": {
        "id": "k3MtyYZl6HBb"
      },
      "source": [
        "#### pandas"
      ]
    },
    {
      "cell_type": "code",
      "execution_count": 81,
      "metadata": {
        "id": "Ti0Zldxh8b8-"
      },
      "outputs": [
        {
          "data": {
            "text/html": [
              "<div>\n",
              "<style scoped>\n",
              "    .dataframe tbody tr th:only-of-type {\n",
              "        vertical-align: middle;\n",
              "    }\n",
              "\n",
              "    .dataframe tbody tr th {\n",
              "        vertical-align: top;\n",
              "    }\n",
              "\n",
              "    .dataframe thead th {\n",
              "        text-align: right;\n",
              "    }\n",
              "</style>\n",
              "<table border=\"1\" class=\"dataframe\">\n",
              "  <thead>\n",
              "    <tr style=\"text-align: right;\">\n",
              "      <th></th>\n",
              "      <th>0</th>\n",
              "    </tr>\n",
              "  </thead>\n",
              "  <tbody>\n",
              "    <tr>\n",
              "      <th>0</th>\n",
              "      <td>150</td>\n",
              "    </tr>\n",
              "    <tr>\n",
              "      <th>1</th>\n",
              "      <td>151</td>\n",
              "    </tr>\n",
              "    <tr>\n",
              "      <th>2</th>\n",
              "      <td>152</td>\n",
              "    </tr>\n",
              "    <tr>\n",
              "      <th>3</th>\n",
              "      <td>152</td>\n",
              "    </tr>\n",
              "    <tr>\n",
              "      <th>4</th>\n",
              "      <td>153</td>\n",
              "    </tr>\n",
              "  </tbody>\n",
              "</table>\n",
              "</div>"
            ],
            "text/plain": [
              "     0\n",
              "0  150\n",
              "1  151\n",
              "2  152\n",
              "3  152\n",
              "4  153"
            ]
          },
          "execution_count": 81,
          "metadata": {},
          "output_type": "execute_result"
        }
      ],
      "source": [
        "import pandas as pd\n",
        "dataset = pd.DataFrame(dados)\n",
        "dataset.head()"
      ]
    },
    {
      "cell_type": "code",
      "execution_count": 82,
      "metadata": {
        "id": "UIqDiuW98lOl"
      },
      "outputs": [
        {
          "data": {
            "text/html": [
              "<div>\n",
              "<style scoped>\n",
              "    .dataframe tbody tr th:only-of-type {\n",
              "        vertical-align: middle;\n",
              "    }\n",
              "\n",
              "    .dataframe tbody tr th {\n",
              "        vertical-align: top;\n",
              "    }\n",
              "\n",
              "    .dataframe thead th {\n",
              "        text-align: right;\n",
              "    }\n",
              "</style>\n",
              "<table border=\"1\" class=\"dataframe\">\n",
              "  <thead>\n",
              "    <tr style=\"text-align: right;\">\n",
              "      <th></th>\n",
              "      <th>0</th>\n",
              "    </tr>\n",
              "  </thead>\n",
              "  <tbody>\n",
              "    <tr>\n",
              "      <th>0.25</th>\n",
              "      <td>155.75</td>\n",
              "    </tr>\n",
              "    <tr>\n",
              "      <th>0.50</th>\n",
              "      <td>160.00</td>\n",
              "    </tr>\n",
              "    <tr>\n",
              "      <th>0.75</th>\n",
              "      <td>164.00</td>\n",
              "    </tr>\n",
              "  </tbody>\n",
              "</table>\n",
              "</div>"
            ],
            "text/plain": [
              "           0\n",
              "0.25  155.75\n",
              "0.50  160.00\n",
              "0.75  164.00"
            ]
          },
          "execution_count": 82,
          "metadata": {},
          "output_type": "execute_result"
        }
      ],
      "source": [
        "#passa os valores em forma de lista\n",
        "dataset.quantile([0.25, 0.5, 0.75])"
      ]
    },
    {
      "cell_type": "code",
      "execution_count": 83,
      "metadata": {
        "id": "R906LS198tyn"
      },
      "outputs": [
        {
          "data": {
            "text/html": [
              "<div>\n",
              "<style scoped>\n",
              "    .dataframe tbody tr th:only-of-type {\n",
              "        vertical-align: middle;\n",
              "    }\n",
              "\n",
              "    .dataframe tbody tr th {\n",
              "        vertical-align: top;\n",
              "    }\n",
              "\n",
              "    .dataframe thead th {\n",
              "        text-align: right;\n",
              "    }\n",
              "</style>\n",
              "<table border=\"1\" class=\"dataframe\">\n",
              "  <thead>\n",
              "    <tr style=\"text-align: right;\">\n",
              "      <th></th>\n",
              "      <th>0</th>\n",
              "    </tr>\n",
              "  </thead>\n",
              "  <tbody>\n",
              "    <tr>\n",
              "      <th>count</th>\n",
              "      <td>40.000000</td>\n",
              "    </tr>\n",
              "    <tr>\n",
              "      <th>mean</th>\n",
              "      <td>160.375000</td>\n",
              "    </tr>\n",
              "    <tr>\n",
              "      <th>std</th>\n",
              "      <td>5.903877</td>\n",
              "    </tr>\n",
              "    <tr>\n",
              "      <th>min</th>\n",
              "      <td>150.000000</td>\n",
              "    </tr>\n",
              "    <tr>\n",
              "      <th>25%</th>\n",
              "      <td>155.750000</td>\n",
              "    </tr>\n",
              "    <tr>\n",
              "      <th>50%</th>\n",
              "      <td>160.000000</td>\n",
              "    </tr>\n",
              "    <tr>\n",
              "      <th>75%</th>\n",
              "      <td>164.000000</td>\n",
              "    </tr>\n",
              "    <tr>\n",
              "      <th>max</th>\n",
              "      <td>173.000000</td>\n",
              "    </tr>\n",
              "  </tbody>\n",
              "</table>\n",
              "</div>"
            ],
            "text/plain": [
              "                0\n",
              "count   40.000000\n",
              "mean   160.375000\n",
              "std      5.903877\n",
              "min    150.000000\n",
              "25%    155.750000\n",
              "50%    160.000000\n",
              "75%    164.000000\n",
              "max    173.000000"
            ]
          },
          "execution_count": 83,
          "metadata": {},
          "output_type": "execute_result"
        }
      ],
      "source": [
        "#função do Pandas que efetua o cálculo de todas as medidas\n",
        "dataset.describe()"
      ]
    },
    {
      "cell_type": "markdown",
      "metadata": {
        "id": "bTJuo1fhKabw"
      },
      "source": [
        "## **Amplitude Interquartil (AIQ)**"
      ]
    },
    {
      "cell_type": "code",
      "execution_count": 84,
      "metadata": {
        "id": "Ev6ZLHJaKfRO"
      },
      "outputs": [
        {
          "data": {
            "text/plain": [
              "array([150, 151, 152, 152, 153, 154, 155, 155, 155, 155, 156, 156, 156,\n",
              "       157, 158, 158, 160, 160, 160, 160, 160, 161, 161, 161, 161, 162,\n",
              "       163, 163, 164, 164, 164, 165, 166, 167, 168, 168, 169, 170, 172,\n",
              "       173])"
            ]
          },
          "execution_count": 84,
          "metadata": {},
          "output_type": "execute_result"
        }
      ],
      "source": [
        "dados"
      ]
    },
    {
      "cell_type": "code",
      "execution_count": 85,
      "metadata": {
        "id": "Wy_4jziLK0LP"
      },
      "outputs": [
        {
          "data": {
            "text/plain": [
              "23"
            ]
          },
          "execution_count": 85,
          "metadata": {},
          "output_type": "execute_result"
        }
      ],
      "source": [
        "#Calcula a Amplitude Total (AT)\n",
        "dados.max() - dados.min()"
      ]
    },
    {
      "cell_type": "code",
      "execution_count": 86,
      "metadata": {
        "id": "exbPoyqzK6bQ"
      },
      "outputs": [
        {
          "data": {
            "text/plain": [
              "(155.75, 164.0)"
            ]
          },
          "execution_count": 86,
          "metadata": {},
          "output_type": "execute_result"
        }
      ],
      "source": [
        "Q1 = np.quantile(dados, 0.25)\n",
        "Q3 = np.quantile(dados, 0.75)\n",
        "Q1, Q3"
      ]
    },
    {
      "cell_type": "code",
      "execution_count": 87,
      "metadata": {
        "id": "NZBb9ENXLGs-"
      },
      "outputs": [
        {
          "data": {
            "text/plain": [
              "8.25"
            ]
          },
          "execution_count": 87,
          "metadata": {},
          "output_type": "execute_result"
        }
      ],
      "source": [
        "#Significa que os valores do dataset na metade dele variam no máximo em 8.25\n",
        "diferenca_interquartil = Q3 - Q1\n",
        "diferenca_interquartil"
      ]
    },
    {
      "cell_type": "markdown",
      "metadata": {
        "id": "40X2rZ6KA0rW"
      },
      "source": [
        "## **Percentis**\n",
        "\n",
        "Divide o conjunto de dados em 100 partes iguais"
      ]
    },
    {
      "cell_type": "code",
      "execution_count": 88,
      "metadata": {
        "id": "BNt-XeoiC4tX"
      },
      "outputs": [
        {
          "data": {
            "text/plain": [
              "160.0"
            ]
          },
          "execution_count": 88,
          "metadata": {},
          "output_type": "execute_result"
        }
      ],
      "source": [
        "np.median(dados)"
      ]
    },
    {
      "cell_type": "code",
      "execution_count": 89,
      "metadata": {
        "id": "ekvq8XaMDJZX"
      },
      "outputs": [
        {
          "data": {
            "text/plain": [
              "160.0"
            ]
          },
          "execution_count": 89,
          "metadata": {},
          "output_type": "execute_result"
        }
      ],
      "source": [
        "np.quantile(dados, 0.5)"
      ]
    },
    {
      "cell_type": "code",
      "execution_count": 90,
      "metadata": {
        "id": "RVZB3gJ8DOhJ"
      },
      "outputs": [
        {
          "data": {
            "text/plain": [
              "160.0"
            ]
          },
          "execution_count": 90,
          "metadata": {},
          "output_type": "execute_result"
        }
      ],
      "source": [
        "np.percentile(dados, 50)"
      ]
    },
    {
      "cell_type": "code",
      "execution_count": 91,
      "metadata": {
        "id": "EGZlSML1DTt6"
      },
      "outputs": [
        {
          "data": {
            "text/plain": [
              "(151.95, 152.9, 168.1)"
            ]
          },
          "execution_count": 91,
          "metadata": {},
          "output_type": "execute_result"
        }
      ],
      "source": [
        "np.percentile(dados, 5), np.percentile(dados, 10), np.percentile(dados, 90)"
      ]
    },
    {
      "cell_type": "code",
      "execution_count": 92,
      "metadata": {
        "id": "FMs5kbKnDqFQ"
      },
      "outputs": [
        {
          "data": {
            "text/plain": [
              "(151.95000000000002, 152.89999999999998, 168.1)"
            ]
          },
          "execution_count": 92,
          "metadata": {},
          "output_type": "execute_result"
        }
      ],
      "source": [
        "stats.scoreatpercentile(dados, 5), stats.scoreatpercentile(dados, 10), stats.scoreatpercentile(dados, 90)"
      ]
    },
    {
      "cell_type": "code",
      "execution_count": 93,
      "metadata": {
        "id": "QEdIDmpaD4uI"
      },
      "outputs": [
        {
          "data": {
            "text/html": [
              "<div>\n",
              "<style scoped>\n",
              "    .dataframe tbody tr th:only-of-type {\n",
              "        vertical-align: middle;\n",
              "    }\n",
              "\n",
              "    .dataframe tbody tr th {\n",
              "        vertical-align: top;\n",
              "    }\n",
              "\n",
              "    .dataframe thead th {\n",
              "        text-align: right;\n",
              "    }\n",
              "</style>\n",
              "<table border=\"1\" class=\"dataframe\">\n",
              "  <thead>\n",
              "    <tr style=\"text-align: right;\">\n",
              "      <th></th>\n",
              "      <th>0</th>\n",
              "    </tr>\n",
              "  </thead>\n",
              "  <tbody>\n",
              "    <tr>\n",
              "      <th>0</th>\n",
              "      <td>150</td>\n",
              "    </tr>\n",
              "    <tr>\n",
              "      <th>1</th>\n",
              "      <td>151</td>\n",
              "    </tr>\n",
              "    <tr>\n",
              "      <th>2</th>\n",
              "      <td>152</td>\n",
              "    </tr>\n",
              "    <tr>\n",
              "      <th>3</th>\n",
              "      <td>152</td>\n",
              "    </tr>\n",
              "    <tr>\n",
              "      <th>4</th>\n",
              "      <td>153</td>\n",
              "    </tr>\n",
              "  </tbody>\n",
              "</table>\n",
              "</div>"
            ],
            "text/plain": [
              "     0\n",
              "0  150\n",
              "1  151\n",
              "2  152\n",
              "3  152\n",
              "4  153"
            ]
          },
          "execution_count": 93,
          "metadata": {},
          "output_type": "execute_result"
        }
      ],
      "source": [
        "import pandas as pd\n",
        "dataset = pd.DataFrame(dados)\n",
        "dataset.head()"
      ]
    },
    {
      "cell_type": "code",
      "execution_count": 94,
      "metadata": {
        "id": "5_JpPm-3EAt9"
      },
      "outputs": [
        {
          "data": {
            "text/html": [
              "<div>\n",
              "<style scoped>\n",
              "    .dataframe tbody tr th:only-of-type {\n",
              "        vertical-align: middle;\n",
              "    }\n",
              "\n",
              "    .dataframe tbody tr th {\n",
              "        vertical-align: top;\n",
              "    }\n",
              "\n",
              "    .dataframe thead th {\n",
              "        text-align: right;\n",
              "    }\n",
              "</style>\n",
              "<table border=\"1\" class=\"dataframe\">\n",
              "  <thead>\n",
              "    <tr style=\"text-align: right;\">\n",
              "      <th></th>\n",
              "      <th>0</th>\n",
              "    </tr>\n",
              "  </thead>\n",
              "  <tbody>\n",
              "    <tr>\n",
              "      <th>0.05</th>\n",
              "      <td>151.95</td>\n",
              "    </tr>\n",
              "    <tr>\n",
              "      <th>0.10</th>\n",
              "      <td>152.90</td>\n",
              "    </tr>\n",
              "    <tr>\n",
              "      <th>0.90</th>\n",
              "      <td>168.10</td>\n",
              "    </tr>\n",
              "  </tbody>\n",
              "</table>\n",
              "</div>"
            ],
            "text/plain": [
              "           0\n",
              "0.05  151.95\n",
              "0.10  152.90\n",
              "0.90  168.10"
            ]
          },
          "execution_count": 94,
          "metadata": {},
          "output_type": "execute_result"
        }
      ],
      "source": [
        "dataset.quantile([0.05, 0.10, 0.90])"
      ]
    },
    {
      "cell_type": "markdown",
      "metadata": {
        "id": "dkvpLKH6EkIF"
      },
      "source": [
        "# **Desafio #1**\n",
        "\n",
        "**Gerar estatísticas para o atributo \"age\" do dataset \"census.csv\"**\n",
        "\n",
        "\n",
        "\n",
        "*   Carregue (\"upload\") o arquivo \"census.csv\"\n",
        "*   Calcule a média, mediana e a moda\n",
        "*   Compare os resultados\n",
        "\n"
      ]
    },
    {
      "cell_type": "code",
      "execution_count": 95,
      "metadata": {},
      "outputs": [
        {
          "name": "stdout",
          "output_type": "stream",
          "text": [
            "média: 38.58\n",
            "mediana: 37.00\n",
            "moda: 36\n"
          ]
        }
      ],
      "source": [
        "dados_csv = pd.read_csv('census.csv')\n",
        "dados_desafio = dados_csv['age']\n",
        "\n",
        "print(f\"média: {dados_desafio.mean():.2f}\")\n",
        "print(f\"mediana: {dados_desafio.median():.2f}\")\n",
        "print(f\"moda: {dados_desafio.mode()[0]}\")\n"
      ]
    },
    {
      "cell_type": "markdown",
      "metadata": {
        "id": "KtQhoAiWGcES"
      },
      "source": [
        "# **Desafio #2**\n",
        "\n",
        "Desenhe o gráfico BoxPlot"
      ]
    },
    {
      "cell_type": "code",
      "execution_count": 96,
      "metadata": {},
      "outputs": [
        {
          "data": {
            "image/png": "[encoded data removed]",
            "text/plain": [
              "<Figure size 640x480 with 1 Axes>"
            ]
          },
          "metadata": {},
          "output_type": "display_data"
        }
      ],
      "source": [
        "import matplotlib.pyplot as plt\n",
        "\n",
        "plt.title('Desafio #2: Age BoxPlot')\n",
        "dados_desafio.plot(kind='box', grid=True)\n",
        "plt.show()\n"
      ]
    }
  ],
  "metadata": {
    "colab": {
      "provenance": []
    },
    "kernelspec": {
      "display_name": "Python 3",
      "name": "python3"
    },
    "language_info": {
      "codemirror_mode": {
        "name": "ipython",
        "version": 3
      },
      "file_extension": ".py",
      "mimetype": "text/x-python",
      "name": "python",
      "nbconvert_exporter": "python",
      "pygments_lexer": "ipython3",
      "version": "3.10.12"
    }
  },
  "nbformat": 4,
  "nbformat_minor": 0
}
