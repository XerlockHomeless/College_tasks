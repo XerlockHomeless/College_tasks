{
  "nbformat": 4,
  "nbformat_minor": 0,
  "metadata": {
    "colab": {
      "provenance": []
    },
    "kernelspec": {
      "name": "python3",
      "display_name": "Python 3"
    }
  },
  "cells": [
    {
      "metadata": {
        "id": "d3z5YRL3_TcO"
      },
      "cell_type": "code",
      "source": [
        "!pip install seaborn"
      ],
      "execution_count": null,
      "outputs": []
    },
    {
      "metadata": {
        "id": "9mjtPqpf90vH"
      },
      "cell_type": "code",
      "source": [
        "import pandas as pd\n",
        "\n",
        "uri = \"https://gist.githubusercontent.com/guilhermesilveira/1b7d5475863c15f484ac495bd70975cf/raw/16aff7a0aee67e7c100a2a48b676a2d2d142f646/projects.csv\"\n",
        "dados = pd.read_csv(uri)\n",
        "dados.head()"
      ],
      "execution_count": null,
      "outputs": []
    },
    {
      "metadata": {
        "id": "aLrZflkd9_Sl"
      },
      "cell_type": "code",
      "source": [
        "a_renomear = {\n",
        "    'expected_hours' : 'horas_esperadas',\n",
        "    'price' : 'preco',\n",
        "    'unfinished' : 'nao_finalizado'\n",
        "}\n",
        "dados = dados.rename(columns = a_renomear)\n",
        "dados.head()\n"
      ],
      "execution_count": null,
      "outputs": []
    },
    {
      "metadata": {
        "id": "PodTBtMU-YV9"
      },
      "cell_type": "code",
      "source": [
        "troca = {\n",
        "    0 : 1,\n",
        "    1 : 0\n",
        "}\n",
        "dados['finalizado'] = dados.nao_finalizado.map(troca)\n",
        "dados.head()"
      ],
      "execution_count": null,
      "outputs": []
    },
    {
      "metadata": {
        "id": "Py9Bd_Tu-y95"
      },
      "cell_type": "code",
      "source": [
        "dados.tail()"
      ],
      "execution_count": null,
      "outputs": []
    },
    {
      "cell_type": "code",
      "source": [
        "dados.shape"
      ],
      "metadata": {
        "id": "7tle0RezHrKF"
      },
      "execution_count": null,
      "outputs": []
    },
    {
      "metadata": {
        "id": "33GzY6HQ-1f9"
      },
      "cell_type": "code",
      "source": [
        "import seaborn as sns\n",
        "\n",
        "sns.scatterplot(x=\"horas_esperadas\", y=\"preco\", data=dados)"
      ],
      "execution_count": null,
      "outputs": []
    },
    {
      "metadata": {
        "id": "_A63fr-D_Mqm"
      },
      "cell_type": "code",
      "source": [
        "sns.scatterplot(x=\"horas_esperadas\", y=\"preco\", hue=\"finalizado\", data=dados)"
      ],
      "execution_count": null,
      "outputs": []
    },
    {
      "metadata": {
        "id": "PeX48W-I_0fH"
      },
      "cell_type": "code",
      "source": [
        "sns.relplot(x=\"horas_esperadas\", y=\"preco\", hue=\"finalizado\", col=\"finalizado\", data=dados)"
      ],
      "execution_count": null,
      "outputs": []
    },
    {
      "metadata": {
        "id": "hYk1PNV6ADW7"
      },
      "cell_type": "code",
      "source": [
        "x = dados[['horas_esperadas', 'preco']]\n",
        "y = dados['finalizado']"
      ],
      "execution_count": null,
      "outputs": []
    },
    {
      "metadata": {
        "id": "6dOSVaxdAWPu"
      },
      "cell_type": "code",
      "source": [
        "from sklearn.model_selection import train_test_split\n",
        "from sklearn.svm import LinearSVC\n",
        "from sklearn.metrics import accuracy_score\n",
        "\n",
        "#SEED = 20\n",
        "# alteramos o valor para termos novos valores\n",
        "SEED = 5\n",
        "\n",
        "\n",
        "treino_x, teste_x, treino_y, teste_y = train_test_split(x, y,\n",
        "                                                         random_state = SEED, test_size = 0.25,\n",
        "                                                         stratify = y)\n",
        "print(f\"Treinaremos com {len(treino_x)} elementos e testaremos com {len(teste_x)} elementos\")\n",
        "\n",
        "modelo = LinearSVC()\n",
        "modelo.fit(treino_x, treino_y)\n",
        "previsoes = modelo.predict(teste_x)\n",
        "\n",
        "acuracia = accuracy_score(teste_y, previsoes) * 100\n",
        "print(f\"A acurácia foi {acuracia:.2f}%\")"
      ],
      "execution_count": null,
      "outputs": []
    },
    {
      "metadata": {
        "id": "wMzL65QUAkYP"
      },
      "cell_type": "code",
      "source": [
        "import numpy as np\n",
        "previsoes_de_base = np.ones(540)\n",
        "acuracia = accuracy_score(teste_y, previsoes_de_base) * 100\n",
        "print(f\"A acurácia do algoritmo de baseline foi {acuracia:.2f}%\")"
      ],
      "execution_count": null,
      "outputs": []
    },
    {
      "metadata": {
        "id": "xuQMaARDBARk"
      },
      "cell_type": "code",
      "source": [
        "sns.scatterplot(x=\"horas_esperadas\", y=\"preco\", hue=teste_y, data=teste_x)"
      ],
      "execution_count": null,
      "outputs": []
    },
    {
      "cell_type": "code",
      "source": [
        "x_min = teste_x.horas_esperadas.min()\n",
        "x_max = teste_x.horas_esperadas.max()\n",
        "y_min = teste_x.preco.min()\n",
        "y_max = teste_x.preco.max()\n",
        "print(x_min, x_max,y_min,y_max)"
      ],
      "metadata": {
        "id": "sA3OMplbLEBR"
      },
      "execution_count": null,
      "outputs": []
    },
    {
      "cell_type": "code",
      "source": [
        "pixels = 100\n",
        "eixo_x = np.arange(x_min, x_max, (x_max - x_min)/ pixels)\n",
        "eixo_y = np.arange(y_min, y_max, (y_max - y_min)/ pixels)\n"
      ],
      "metadata": {
        "id": "fgjIaHGTL_up"
      },
      "execution_count": null,
      "outputs": []
    },
    {
      "cell_type": "code",
      "source": [
        "xx, yy = np.meshgrid(eixo_x, eixo_y)"
      ],
      "metadata": {
        "id": "4kUIT7Y_MJrq"
      },
      "execution_count": null,
      "outputs": []
    },
    {
      "cell_type": "code",
      "source": [
        "xx, yy = np.meshgrid(eixo_x, eixo_y)\n",
        "pontos = np.c_[xx.ravel(), yy.ravel()]\n",
        "pontos"
      ],
      "metadata": {
        "id": "1XfR8QpcMk4t"
      },
      "execution_count": null,
      "outputs": []
    },
    {
      "cell_type": "code",
      "source": [
        "Z = modelo.predict(pontos)\n",
        "Z = Z.reshape(xx.shape)\n",
        "Z"
      ],
      "metadata": {
        "id": "lUZfs64uNF7O"
      },
      "execution_count": null,
      "outputs": []
    },
    {
      "cell_type": "code",
      "source": [
        "import matplotlib.pyplot as plt\n",
        "\n",
        "plt.scatter(teste_x.horas_esperadas, teste_x.preco, c=teste_y)\n"
      ],
      "metadata": {
        "id": "2u8tfSXwONbW"
      },
      "execution_count": null,
      "outputs": []
    },
    {
      "cell_type": "code",
      "source": [
        "# tamanho das bolinhas está muito grande.\n",
        "# vamos diminuir\n",
        "import matplotlib.pyplot as plt\n",
        "\n",
        "plt.scatter(teste_x.horas_esperadas, teste_x.preco, c=teste_y, s=1)\n"
      ],
      "metadata": {
        "id": "2g2gjdhLOX2S"
      },
      "execution_count": null,
      "outputs": []
    },
    {
      "cell_type": "code",
      "source": [
        "# precisamos desenhar um linha de contorno\n",
        "# que separa o x do meu y\n",
        "plt.contourf(xx, yy, Z, alpha=0.3)\n",
        "plt.scatter(teste_x.horas_esperadas, teste_x.preco, c=teste_y, s=1)\n"
      ],
      "metadata": {
        "id": "K9lGXPanOhRw"
      },
      "execution_count": null,
      "outputs": []
    },
    {
      "cell_type": "markdown",
      "source": [
        "Precisamos alterar o valor do SEED para 5 e rodar todas as células novamente."
      ],
      "metadata": {
        "id": "6mio2zoTPzB4"
      }
    }
  ]
}