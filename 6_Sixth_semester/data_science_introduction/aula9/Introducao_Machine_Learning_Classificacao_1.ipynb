{
  "nbformat": 4,
  "nbformat_minor": 0,
  "metadata": {
    "colab": {
      "provenance": []
    },
    "kernelspec": {
      "name": "python3",
      "display_name": "Python 3"
    },
    "language_info": {
      "name": "python"
    }
  },
  "cells": [
    {
      "cell_type": "code",
      "execution_count": null,
      "metadata": {
        "id": "l54Ys_ssENoA"
      },
      "outputs": [],
      "source": [
        "# notebook do curso da alura - MACHINE LEARNING: CLASSIFICAÇÃO COM SCIKIT-LEARN\n",
        "# aprender a classificar um dataset dizendo se os dados representam um porco ou um cachorro\n",
        "\n",
        "# features (1 sim, 0 não)\n",
        "# pelo longo?\n",
        "# perna curta?\n",
        "# faz auau?\n",
        "\n",
        "porco1 = [0, 1, 0]\n",
        "porco2 = [0, 1, 1]\n",
        "porco3 = [1, 1, 0]\n",
        "\n",
        "cachorro1 = [0, 1, 1]\n",
        "cachorro2 = [1, 0, 1]\n",
        "cachorro3 = [1, 1, 1]\n",
        "\n",
        "# 1 => porco, 0 => cachorro\n",
        "#dados = [porco1, porco2,  porco3, cachorro1, cachorro2, cachorro3]\n",
        "#classes = [1,1,1,0,0,0]\n",
        "\n",
        "#padronizando os nomes das variáveis\n",
        "# 1 => porco, 0 => cachorro\n",
        "treino_x = [porco1, porco2,  porco3, cachorro1, cachorro2, cachorro3]\n",
        "treino_y = [1,1,1,0,0,0] # labels / etiquetas"
      ]
    },
    {
      "cell_type": "code",
      "source": [
        "from sklearn.svm import LinearSVC\n",
        "\n",
        "model = LinearSVC()\n",
        "model.fit(treino_x, treino_y)"
      ],
      "metadata": {
        "id": "1WYwnSdRE2Jr"
      },
      "execution_count": null,
      "outputs": []
    },
    {
      "cell_type": "code",
      "source": [
        "misterio1 = [1,1,1]\n",
        "misterio2 = [1,1,0]\n",
        "misterio3 = [0,1,1]\n",
        "\n",
        "#testes = [misterio1, misterio2, misterio3]\n",
        "#previsoes = model.predict(testes)\n",
        "\n",
        "#teste_classes = [0, 1, 1]\n",
        "#padronizando nomes das variáveis\n",
        "misterio1 = [1,1,1]\n",
        "misterio2 = [1,1,0]\n",
        "misterio3 = [0,1,1]\n",
        "\n",
        "teste_x = [misterio1, misterio2, misterio3]\n",
        "teste_y = [0, 1, 1]\n",
        "\n",
        "previsoes = model.predict(teste_x)"
      ],
      "metadata": {
        "id": "TshaNBVzE82y"
      },
      "execution_count": null,
      "outputs": []
    },
    {
      "cell_type": "code",
      "source": [
        "# calcula a taxa de acerto (accuracy - acurácia)\n",
        "corretos = (previsoes == teste_y).sum()\n",
        "total = len(teste_x)\n",
        "taxa_de_acerto = corretos/total\n",
        "print(f\"Taxa de acerto: {(taxa_de_acerto * 100):.2f}%\")"
      ],
      "metadata": {
        "id": "oHTyNKOJFPyq"
      },
      "execution_count": null,
      "outputs": []
    },
    {
      "cell_type": "code",
      "source": [
        "#forma alternativa de calcular a taxa de acerto (accuracy - acurácia)\n",
        "from sklearn.metrics import accuracy_score\n",
        "\n",
        "taxa_de_acerto = accuracy_score(teste_y, previsoes)\n",
        "print(f\"Taxa de acerto: {(taxa_de_acerto * 100):.2f}%\")"
      ],
      "metadata": {
        "id": "dZ46r97RFljj"
      },
      "execution_count": null,
      "outputs": []
    }
  ]
}