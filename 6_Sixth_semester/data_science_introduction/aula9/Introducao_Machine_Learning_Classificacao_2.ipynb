{
  "nbformat": 4,
  "nbformat_minor": 0,
  "metadata": {
    "colab": {
      "provenance": []
    },
    "kernelspec": {
      "name": "python3",
      "display_name": "Python 3"
    }
  },
  "cells": [
    {
      "cell_type": "markdown",
      "source": [
        "Este projeto vai usar um novo dataset que possui **quatro** colunas diferentes.\n",
        "Cada item (ou cada linha) representa um usuário que acessou um determinado site. Neste site, temos três páginas diferentes: a \"**home**\" (\"principal\"); a \"**how it works**\" (\"como_funciona\"), que explica o funcionamento do site; e a \"**contact**\" (\"contato\"), para entrar em contato.\n",
        "Cada uma dessas três columnas são as \"**features**\", que possuem o valor 1 ou 0, indicando se um usuário específico acessou essa página ou não, respectivamente.\n",
        "Existe também uma quarta coluna (\"**bought**\"), indicando se esse usuário comprou o produto (1) ou não (0)."
      ],
      "metadata": {
        "id": "wXC4QUYsSJe9"
      }
    },
    {
      "metadata": {
        "id": "mEIOC06i7QEJ"
      },
      "cell_type": "code",
      "source": [
        "# importa a biblioteca Pandas e lê o dataset\n",
        "import pandas as pd\n",
        "\n",
        "uri = \"https://gist.githubusercontent.com/guilhermesilveira/2d2efa37d66b6c84a722ea627a897ced/raw/10968b997d885cbded1c92938c7a9912ba41c615/tracking.csv\"\n",
        "dados = pd.read_csv(uri)\n",
        "\n",
        "#lista os 5 primeiros registros (linhas) do dataset\n",
        "dados.head()"
      ],
      "execution_count": null,
      "outputs": []
    },
    {
      "metadata": {
        "id": "uDu0eTJn7x0D"
      },
      "cell_type": "code",
      "source": [
        "# os nomes das colunas estão em inglês. Então vamos alterar para português\n",
        "mapa = {\n",
        "    \"home\" : \"principal\",\n",
        "    \"how_it_works\" : \"como_funciona\",\n",
        "    \"contact\" : \"contato\",\n",
        "    \"bought\" : \"comprou\"\n",
        "}\n",
        "dados = dados.rename(columns = mapa)"
      ],
      "execution_count": null,
      "outputs": []
    },
    {
      "metadata": {
        "id": "9En1V0PM7e8V"
      },
      "cell_type": "code",
      "source": [
        "# separa as três primeiras colunas (as features)\n",
        "x = dados[[\"principal\",\"como_funciona\",\"contato\"]]\n",
        "x.head()"
      ],
      "execution_count": null,
      "outputs": []
    },
    {
      "metadata": {
        "id": "qDr2YoWu8O3O"
      },
      "cell_type": "code",
      "source": [
        "# separa a última coluna (que será os \"labels\")\n",
        "y = dados[\"comprou\"]\n",
        "y.head()"
      ],
      "execution_count": null,
      "outputs": []
    },
    {
      "metadata": {
        "id": "X5pZ6xcZ8fYq"
      },
      "cell_type": "code",
      "source": [
        "dados.shape"
      ],
      "execution_count": null,
      "outputs": []
    },
    {
      "metadata": {
        "id": "TLZ9eTvP9U9q",
        "colab": {
          "base_uri": "https://localhost:8080/"
        },
        "outputId": "dc4619d7-cec9-4557-9c4a-4be67258a791",
        "collapsed": true
      },
      "cell_type": "code",
      "source": [
        "# precisamos separar os dados de treinamento dos dados de teste\n",
        "# usaremos a proporção 75 para treinamento e 25 para teste.\n",
        "\n",
        "treino_x = x[:75]\n",
        "treino_y = y[:75]\n",
        "teste_x = x[75:]\n",
        "teste_y = y[75:]\n",
        "\n",
        "print(f\"Treinaremos com {len(treino_x)} elementos (registros) e testaremos com {len(teste_x)} elementos\")"
      ],
      "execution_count": null,
      "outputs": [
        {
          "output_type": "stream",
          "name": "stdout",
          "text": [
            "Treinaremos com 75 elementos (registros) e testaremos com 24 elementos\n"
          ]
        }
      ]
    },
    {
      "metadata": {
        "id": "pZZjbQxh9jn8"
      },
      "cell_type": "code",
      "source": [
        "# vamos treinar o modelo\n",
        "# e depois vamos calcular a taxa de acerto (i.e. acurácia)\n",
        "\n",
        "from sklearn.svm import LinearSVC\n",
        "from sklearn.metrics import accuracy_score\n",
        "\n",
        "modelo = LinearSVC()\n",
        "modelo.fit(treino_x, treino_y)\n",
        "previsoes = modelo.predict(teste_x)\n",
        "\n",
        "acuracia = accuracy_score(teste_y, previsoes) * 100\n",
        "print(f\"A acurácia foi {acuracia:.2f}%\")"
      ],
      "execution_count": null,
      "outputs": []
    },
    {
      "cell_type": "markdown",
      "source": [
        "# **Desafio**"
      ],
      "metadata": {
        "id": "y7Ei08IBXTA1"
      }
    },
    {
      "cell_type": "markdown",
      "source": [
        "Altere o algoritmo de ML para o de \"Árvore de Decisão\" usado na apresentação de Introdução ao ML.\n",
        "\n",
        "Depois imprima a árvore de decisão\n",
        "\n",
        "\n",
        "---\n",
        "\n"
      ],
      "metadata": {
        "id": "s4HS21LhXXEv"
      }
    },
    {
      "metadata": {
        "id": "rA-z0_a6-CM1"
      },
      "cell_type": "code",
      "source": [
        "from sklearn import tree\n",
        "from sklearn.metrics import accuracy_score\n",
        "\n",
        "modelo = tree.DecisionTreeClassifier()\n",
        "modelo.fit(treino_x, treino_y)\n",
        "previsoes = modelo.predict(teste_x)\n",
        "\n",
        "acuracia = accuracy_score(teste_y, previsoes) * 100\n",
        "print(f\"A acurácia foi {acuracia:.2f}%\")"
      ],
      "execution_count": null,
      "outputs": []
    },
    {
      "cell_type": "code",
      "source": [
        "tree.plot_tree(modelo)"
      ],
      "metadata": {
        "id": "fPgJHxO7ZLyK"
      },
      "execution_count": null,
      "outputs": []
    }
  ]
}