{
  "cells": [
    {
      "cell_type": "markdown",
      "metadata": {
        "id": "wXC4QUYsSJe9"
      },
      "source": [
        "Este projeto vai usar um novo dataset que possui **quatro** colunas diferentes.\n",
        "Cada item (ou cada linha) representa um usuário que acessou um determinado site. Neste site, temos três páginas diferentes: a \"**home**\" (\"principal\"); a \"**how it works**\" (\"como_funciona\"), que explica o funcionamento do site; e a \"**contact**\" (\"contato\"), para entrar em contato.\n",
        "Cada uma dessas três columnas são as \"**features**\", que possuem o valor 1 ou 0, indicando se um usuário específico acessou essa página ou não, respectivamente.\n",
        "Existe também uma quarta coluna (\"**bought**\"), indicando se esse usuário comprou o produto (1) ou não (0)."
      ]
    },
    {
      "cell_type": "code",
      "execution_count": null,
      "metadata": {
        "id": "mEIOC06i7QEJ"
      },
      "outputs": [],
      "source": [
        "# importa a biblioteca Pandas e lê o dataset\n",
        "import pandas as pd\n",
        "\n",
        "uri = r\"./csvs/tracking.csv\"\n",
        "dados = pd.read_csv(uri)\n",
        "\n",
        "#lista os 5 primeiros registros (linhas) do dataset\n",
        "dados.head()"
      ]
    },
    {
      "cell_type": "code",
      "execution_count": null,
      "metadata": {
        "id": "uDu0eTJn7x0D"
      },
      "outputs": [],
      "source": [
        "# os nomes das colunas estão em inglês. Então vamos alterar para português\n",
        "mapa = {\n",
        "    \"home\" : \"principal\",\n",
        "    \"how_it_works\" : \"como_funciona\",\n",
        "    \"contact\" : \"contato\",\n",
        "    \"bought\" : \"comprou\"\n",
        "}\n",
        "dados = dados.rename(columns = mapa)"
      ]
    },
    {
      "cell_type": "code",
      "execution_count": null,
      "metadata": {
        "id": "9En1V0PM7e8V"
      },
      "outputs": [],
      "source": [
        "# separa as três primeiras colunas (as features)\n",
        "x = dados[[\"principal\",\"como_funciona\",\"contato\"]]\n",
        "x.head()"
      ]
    },
    {
      "cell_type": "code",
      "execution_count": null,
      "metadata": {
        "id": "qDr2YoWu8O3O"
      },
      "outputs": [],
      "source": [
        "# separa a última coluna (que será os \"labels\")\n",
        "y = dados[\"comprou\"]\n",
        "y.head()"
      ]
    },
    {
      "cell_type": "code",
      "execution_count": null,
      "metadata": {
        "id": "X5pZ6xcZ8fYq"
      },
      "outputs": [],
      "source": [
        "dados.shape"
      ]
    },
    {
      "cell_type": "code",
      "execution_count": null,
      "metadata": {
        "colab": {
          "base_uri": "https://localhost:8080/"
        },
        "collapsed": true,
        "id": "TLZ9eTvP9U9q",
        "outputId": "dc4619d7-cec9-4557-9c4a-4be67258a791"
      },
      "outputs": [],
      "source": [
        "# precisamos separar os dados de treinamento dos dados de teste\n",
        "# usaremos a proporção 75 para treinamento e 25 para teste.\n",
        "\n",
        "treino_x = x[:75]\n",
        "treino_y = y[:75]\n",
        "teste_x = x[75:]\n",
        "teste_y = y[75:]\n",
        "\n",
        "print(f\"Treinaremos com {len(treino_x)} elementos (registros) e testaremos com {len(teste_x)} elementos\")"
      ]
    },
    {
      "cell_type": "code",
      "execution_count": null,
      "metadata": {
        "id": "pZZjbQxh9jn8"
      },
      "outputs": [],
      "source": [
        "# vamos treinar o modelo\n",
        "# e depois vamos calcular a taxa de acerto (i.e. acurácia)\n",
        "\n",
        "from sklearn.svm import LinearSVC\n",
        "from sklearn.metrics import accuracy_score\n",
        "\n",
        "modelo = LinearSVC()\n",
        "modelo.fit(treino_x, treino_y)\n",
        "previsoes = modelo.predict(teste_x)\n",
        "\n",
        "acuracia = accuracy_score(teste_y, previsoes) * 100\n",
        "print(f\"A acurácia foi {acuracia:.2f}%\")"
      ]
    },
    {
      "cell_type": "markdown",
      "metadata": {
        "id": "y7Ei08IBXTA1"
      },
      "source": [
        "# **Desafio**"
      ]
    },
    {
      "cell_type": "markdown",
      "metadata": {
        "id": "s4HS21LhXXEv"
      },
      "source": [
        "Altere o algoritmo de ML para o de \"Árvore de Decisão\" usado na apresentação de Introdução ao ML.\n",
        "\n",
        "Depois imprima a árvore de decisão\n",
        "\n",
        "\n",
        "---\n",
        "\n"
      ]
    },
    {
      "cell_type": "code",
      "execution_count": null,
      "metadata": {
        "id": "rA-z0_a6-CM1"
      },
      "outputs": [],
      "source": [
        "from sklearn import tree\n",
        "from sklearn.metrics import accuracy_score\n",
        "\n",
        "modelo = tree.DecisionTreeClassifier()\n",
        "modelo.fit(treino_x, treino_y)\n",
        "previsoes = modelo.predict(teste_x)\n",
        "\n",
        "acuracia = accuracy_score(teste_y, previsoes) * 100\n",
        "print(f\"A acurácia foi {acuracia:.2f}%\")"
      ]
    },
    {
      "cell_type": "code",
      "execution_count": null,
      "metadata": {
        "id": "fPgJHxO7ZLyK"
      },
      "outputs": [],
      "source": [
        "tree.plot_tree(modelo)"
      ]
    }
  ],
  "metadata": {
    "colab": {
      "provenance": []
    },
    "kernelspec": {
      "display_name": "venv",
      "language": "python",
      "name": "python3"
    },
    "language_info": {
      "codemirror_mode": {
        "name": "ipython",
        "version": 3
      },
      "file_extension": ".py",
      "mimetype": "text/x-python",
      "name": "python",
      "nbconvert_exporter": "python",
      "pygments_lexer": "ipython3",
      "version": "3.11.6"
    },
    "vscode": {
      "interpreter": {
        "hash": "e6cd63dbf4f8b52cfec474863eba38f847d5d4c1020d9e353c9f84619ddcdf73"
      }
    }
  },
  "nbformat": 4,
  "nbformat_minor": 0
}
