{
  "cells": [
    {
      "cell_type": "markdown",
      "id": "Ei2bwttt5w0H",
      "metadata": {
        "id": "Ei2bwttt5w0H"
      },
      "source": [
        "# Atividade Prática - Probabilidade\n",
        "\n",
        "Ao percorrer este *notebook*, você encontrará o símbolo **???** em determinados lugares. Para completar esta atividade, substitua todos os estes **???** por valores, expressões ou instruções apropriadas para garantir que ele (*notebook*) seja executado corretamente de ponta a ponta."
      ]
    },
    {
      "cell_type": "markdown",
      "id": "yZbNuuRw5w0a",
      "metadata": {
        "id": "yZbNuuRw5w0a"
      },
      "source": [
        "## Funções Auxiliares (Helper Functions)\n",
        "\n",
        "Você pode usá-las para responder as perguntas."
      ]
    },
    {
      "cell_type": "code",
      "execution_count": null,
      "id": "NqArAcYd5w0b",
      "metadata": {
        "id": "NqArAcYd5w0b"
      },
      "outputs": [],
      "source": [
        "def probability(matching_outcomes: int, total_outcomes: int) ->  int | float:\n",
        "    \"\"\"Calcule a probabilidade de um evento quando todos os resultados são igualmente prováveis\"\"\"\n",
        "    return matching_outcomes / total_outcomes\n",
        "\n",
        "def union_probability(p_a: int | float, p_b:  int | float, p_intersection: int | float) ->  int | float:\n",
        "    \"\"\"Calcule a probabilidade de P(A ou B) dado P(A), P(B) e P(A e B)\n",
        "    isto é: a regra da adição\"\"\"\n",
        "    return p_a + p_b - p_intersection\n"
      ]
    },
    {
      "cell_type": "code",
      "execution_count": null,
      "id": "V4a4m1ik5w0g",
      "metadata": {
        "id": "V4a4m1ik5w0g"
      },
      "outputs": [],
      "source": [
        "#importa as bibliotecas necessárias\n",
        "import pandas as pd\n",
        "import numpy as np"
      ]
    },
    {
      "cell_type": "markdown",
      "id": "V33HOVKn5w0h",
      "metadata": {
        "id": "V33HOVKn5w0h"
      },
      "source": [
        "# **Desafios**\n",
        "\n",
        "Substitua cada ocorrência **???** por sua resposta. Você pode adicionar novas células de código, se necessário."
      ]
    },
    {
      "cell_type": "markdown",
      "id": "N_Nq44vP5w0i",
      "metadata": {
        "id": "N_Nq44vP5w0i"
      },
      "source": [
        "> **QUESTÃO 1**: Uma moeda é lançada 10.000 vezes e o número de caras resultante foi de 3.490 vezes. Faça uma estimativa da probabilidade de obter uma coroa quando a moeda for lançada. A variável `p_coroa` deve conter sua resposta."
      ]
    },
    {
      "cell_type": "code",
      "execution_count": null,
      "id": "lI4UG80X5w0j",
      "metadata": {
        "id": "lI4UG80X5w0j"
      },
      "outputs": [],
      "source": [
        "p_coroa = ???"
      ]
    },
    {
      "cell_type": "markdown",
      "id": "8NlXahP35w0q",
      "metadata": {
        "id": "8NlXahP35w0q"
      },
      "source": [
        "> **QUESTÃO 2**: Os participantes de um curso online incluem 8 homens da Índia, 9 mulheres da Índia, 5 homens dos EUA e 7 mulheres dos EUA. Se um participante for escolhido aleatoriamente, qual é a probabilidade de que o participante seja americano ou uma mulher? A variável `p_americano_ou_mulher` deve conter sua resposta.\n",
        ">\n",
        "> *Dica*: Identifique os eventos \"$A$\", \"$B$\", \"$A \\textrm{ e } B$\", e então use a função `union_probability`"
      ]
    },
    {
      "cell_type": "code",
      "execution_count": null,
      "id": "AU1txdl05w0q",
      "metadata": {
        "id": "AU1txdl05w0q"
      },
      "outputs": [],
      "source": [
        "p_mulher = probability(16, 29)\n",
        "print(f'Probabilidade = {p_mulher:.5f}')"
      ]
    },
    {
      "cell_type": "code",
      "execution_count": null,
      "id": "vKO54BBa5w0r",
      "metadata": {
        "id": "vKO54BBa5w0r"
      },
      "outputs": [],
      "source": [
        "p_americano = probability(12, 29)\n",
        "print(f'Probabilidade = {p_americano:.5f}')"
      ]
    },
    {
      "cell_type": "code",
      "execution_count": null,
      "id": "DoClMS1k5w0s",
      "metadata": {
        "id": "DoClMS1k5w0s"
      },
      "outputs": [],
      "source": [
        "p_americano_e_mulher = p_mulher * p_americano\n",
        "print(f'Probabilidade = {p_americano_e_mulher:.5f}')"
      ]
    },
    {
      "cell_type": "code",
      "execution_count": null,
      "id": "vqrGin0Z5w0t",
      "metadata": {
        "id": "vqrGin0Z5w0t"
      },
      "outputs": [],
      "source": [
        "p_americano_ou_mulher = union_probability(p_americano, p_mulher, p_americano_e_mulher)\n",
        "print(f'Probabilidade = {p_americano_ou_mulher:.5f}')"
      ]
    },
    {
      "cell_type": "markdown",
      "id": "xs7o5pqC5w0x",
      "metadata": {
        "id": "xs7o5pqC5w0x"
      },
      "source": [
        "> **QUESTÃO 3**: Faça o upload do arquivo (\"**Estudo+de+caso+1.xlsx**\") contendo o resultado de uma pesquisa em uma escola, para saber se as meninas e os meninos gostavam da disciplina de Geografia.\n",
        "\n",
        "> *Dica #1*: O arquivo contém três colunas: `Nome`, `Sexo` e `Gosta de Geografia`.\n",
        "\n",
        "> *Dica #2*: agrupe os valores para formar uma espécie de tabela dinâmica, ou seja, algo como:\n",
        "\n",
        "<pre>\n",
        "        NÃO      SIM      Total\n",
        "F        60      200        260 \n",
        "M       100      140        240\n",
        "Total   160      340        500\n",
        "</pre>\n",
        "\n",
        "Agora calcule:\n",
        "1.   qual a probabilidade de seja um homem?\n",
        "2.   qual a probabilidade que gostou de Geografia?\n",
        "3.   qual a probabilidade que seja uma mulher?\n",
        "4.   qual a probabilidade que não gostou de Geografia?\n",
        "5.   seja uma mulher ou gostou de Geografia?\n",
        "6.   dado que o aluno escolhido gostou da disciplina de Geografia, qual a probabilidade de que o aluno seja um homem?\n",
        "7.   dado que o aluno escolhido é uma mulher, qual a probabilidade de que ela não gostou de Geografia?\n",
        "\n",
        "> *Dica #3*: responda cada pergunta em uma célula diferente.\n",
        "\n",
        "\n",
        "\n",
        "\n",
        "\n",
        "\n"
      ]
    },
    {
      "cell_type": "code",
      "execution_count": null,
      "id": "bd56a434",
      "metadata": {},
      "outputs": [],
      "source": [
        "df = pd.read_excel('.\\estudo_de_caso1.xlsx', sheet_name='Banco_dados')\n",
        "# df['Nome'] = df['Nome'].astype('string')\n",
        "\n",
        "df['Sexo'] = np.where(df['Sexo'] == \" M \", \"M\", \"F\")\n",
        "df['Sexo'] = df['Sexo'].astype('category')\n",
        "df['Gosta de Geografia'] = np.where(df['Gosta de Geografia'] == \"SIM\", True, False)"
      ]
    },
    {
      "cell_type": "code",
      "execution_count": null,
      "id": "afca2913",
      "metadata": {},
      "outputs": [],
      "source": [
        "# Questão 1 - qual a probabilidade de seja um homem?\n",
        "total_pessoas = len(df)\n",
        "quantidades_homens = len(df[df['Sexo'] == 'M'])\n",
        "\n",
        "p_homem = probability(quantidades_homens, total_pessoas)\n",
        "print(f'Probabilidade = {p_homem:.5f}')"
      ]
    },
    {
      "cell_type": "code",
      "execution_count": null,
      "id": "95d3e73b",
      "metadata": {},
      "outputs": [],
      "source": [
        "# Questão 2 - qual a probabilidade que gostou de Geografia?\n",
        "quantidades_gostaram_geografia = len(df[df['Gosta de Geografia'] == True])\n",
        "\n",
        "p_gostou_geografia = probability(quantidades_gostaram_geografia, total_pessoas)\n",
        "print(f'Probabilidade = {p_gostou_geografia:.5f}')"
      ]
    },
    {
      "cell_type": "code",
      "execution_count": null,
      "id": "3c40b5cf",
      "metadata": {},
      "outputs": [],
      "source": [
        "# Questão 3 - qual a probabilidade que seja uma mulher?\n",
        "quantidades_mulheres = len(df[df['Sexo'] == 'F'])\n",
        "\n",
        "p_mulher = probability(quantidades_mulheres, total_pessoas)\n",
        "print(f'Probabilidade = {p_mulher:.5f}')"
      ]
    },
    {
      "cell_type": "code",
      "execution_count": null,
      "id": "2d46ce87",
      "metadata": {},
      "outputs": [],
      "source": [
        "# Questão 4 - qual a probabilidade que não gostou de Geografia?\n",
        "quantidades_nao_gostaram_geografia = len(df[df['Gosta de Geografia'] == False])\n",
        "\n",
        "p_nao_gostou_geografia = probability(quantidades_nao_gostaram_geografia, total_pessoas)\n",
        "print(f'Probabilidade = {p_nao_gostou_geografia:.5f}')"
      ]
    },
    {
      "cell_type": "code",
      "execution_count": null,
      "id": "9f2335b4",
      "metadata": {},
      "outputs": [],
      "source": [
        "# Questão 5 - seja uma mulher ou gostou de Geografia?\n",
        "\n",
        "p_mulher_E_gostou_geografia = p_mulher * p_gostou_geografia\n",
        "p_mulher_OU_gostou_geografia = union_probability(p_mulher, p_gostou_geografia, p_mulher_E_gostou_geografia)\n",
        "\n",
        "print(f'Probabilidade = {p_mulher_OU_gostou_geografia:.5f}')"
      ]
    },
    {
      "cell_type": "code",
      "execution_count": null,
      "id": "f815d204",
      "metadata": {},
      "outputs": [],
      "source": [
        "# Questão 6 - dado que o aluno escolhido gostou da disciplina de Geografia, \n",
        "# qual a probabilidade de que o aluno seja um homem?\n"
      ]
    },
    {
      "cell_type": "code",
      "execution_count": null,
      "id": "ebc0c407",
      "metadata": {},
      "outputs": [],
      "source": [
        "# Questão 7 - dado que o aluno escolhido é uma mulher,\n",
        "# qual a probabilidade de que ela não gostou de Geografia?\n"
      ]
    }
  ],
  "metadata": {
    "colab": {
      "collapsed_sections": [],
      "name": "Probabilidade_Atividade_Pratica.ipynb",
      "provenance": []
    },
    "kernelspec": {
      "display_name": "venv",
      "language": "python",
      "name": "python3"
    },
    "language_info": {
      "codemirror_mode": {
        "name": "ipython",
        "version": 3
      },
      "file_extension": ".py",
      "mimetype": "text/x-python",
      "name": "python",
      "nbconvert_exporter": "python",
      "pygments_lexer": "ipython3",
      "version": "3.11.6"
    },
    "vscode": {
      "interpreter": {
        "hash": "e6cd63dbf4f8b52cfec474863eba38f847d5d4c1020d9e353c9f84619ddcdf73"
      }
    }
  },
  "nbformat": 4,
  "nbformat_minor": 5
}
