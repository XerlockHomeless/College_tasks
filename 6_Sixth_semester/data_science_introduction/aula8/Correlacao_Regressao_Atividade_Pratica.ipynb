{
  "cells": [
    {
      "cell_type": "markdown",
      "metadata": {
        "id": "88NacjOpIvmq"
      },
      "source": [
        "## **Contexto**\n",
        "\n",
        "Suponha que você é um cientista de dados e foi contratado por uma empresa para analisar a relação entre o tempo gasto estudando e as notas obtidas em um exame. A empresa coletou dados de 1000 estudantes para realizar essa análise. O dataset `dados_estudantes.csv`encontra-se junto com a atividade.\n",
        "\n",
        "## **Tarefas**\n",
        "\n",
        "1.   Calcule a correlação entre o tempo de estudo e as notas no exame.\n",
        "2.   Plote um gráfico de dispersão (scatter plot) para visualizar a relação entre as variáveis.\n",
        "3.   Realize a regressão linear simples para prever a nota no exame com base no tempo de estudo.\n",
        "4.   Plote a linha de regressão no gráfico de dispersão.\n",
        "\n",
        "> Observação:\n",
        "> Utilize pandas e matplotlib para visualização e para a regressão use a biblioteca \"scikitlearn\""
      ]
    },
    {
      "cell_type": "markdown",
      "metadata": {
        "id": "AV1UBIjQI4x2"
      },
      "source": [
        "Preencha as células abaixo com o que se pede."
      ]
    },
    {
      "cell_type": "code",
      "execution_count": null,
      "metadata": {
        "id": "0B-qEMhoIruU"
      },
      "outputs": [],
      "source": [
        "# Importando as bibliotecas necessárias"
      ]
    },
    {
      "cell_type": "code",
      "execution_count": null,
      "metadata": {
        "id": "26Qv0ffhI9UN"
      },
      "outputs": [],
      "source": [
        "# Lendo o DataFrame com os dados"
      ]
    },
    {
      "cell_type": "code",
      "execution_count": null,
      "metadata": {
        "id": "hVpW07YyJCS-"
      },
      "outputs": [],
      "source": [
        "# 1. Cálculo da Correlação"
      ]
    },
    {
      "cell_type": "code",
      "execution_count": null,
      "metadata": {
        "id": "zcvUEfwwJFOW"
      },
      "outputs": [],
      "source": [
        "# 2. Plote o Gráfico de Dispersão"
      ]
    },
    {
      "cell_type": "code",
      "execution_count": null,
      "metadata": {
        "id": "re7ssJ3pJPlp"
      },
      "outputs": [],
      "source": [
        "# 3. Calcule a Regressão Linear usando scikit-learn"
      ]
    },
    {
      "cell_type": "code",
      "execution_count": null,
      "metadata": {
        "id": "OGFjzxzfJUq5"
      },
      "outputs": [],
      "source": [
        "# Imprima na tela os coeficientes da regressão (m e b da equação da reta)"
      ]
    },
    {
      "cell_type": "code",
      "execution_count": null,
      "metadata": {
        "id": "hmI0r3XYJlEy"
      },
      "outputs": [],
      "source": [
        "# 4. Plote o Gráfico de Regressão Linear"
      ]
    }
  ],
  "metadata": {
    "colab": {
      "provenance": []
    },
    "kernelspec": {
      "display_name": "dw_venv",
      "language": "python",
      "name": "python3"
    },
    "language_info": {
      "name": "python",
      "version": "3.11.6 (tags/v3.11.6:8b6ee5b, Oct  2 2023, 14:57:12) [MSC v.1935 64 bit (AMD64)]"
    },
    "vscode": {
      "interpreter": {
        "hash": "ffb296bb67cd464c0bd9aa8d1601faebc7ed1887c8353bd0d8eaaedf3848ed39"
      }
    }
  },
  "nbformat": 4,
  "nbformat_minor": 0
}
