{
  "cells": [
    {
      "cell_type": "markdown",
      "metadata": {
        "id": "LJYEQ66tvMdC"
      },
      "source": [
        "# Regressão Linear Simples\n",
        "\n",
        "## Modelando a relação linear entre as colunas (atributos) `Vendas` e `Propaganda` de um `dataset`\n",
        "\n",
        "### **Observações**\n",
        "\n",
        "*   Correlação: relacionamento entre variáveis, ou seja, uma variável afeta a outra. Possui duas vias: correlação de `vendas` x `propaganda` = correlação `propaganda` x `vendas`\n",
        "\n",
        "*   Regressão é uma via: `propaganda` para prever as `vendas` é diferente de utilizar as `vendas` para prever `propaganda`.\n",
        "\n",
        "* Espera-se que a correlação seja de moderada a forte para obter um bom modelo (i.e. positiva ou negativa)\n",
        "\n",
        "* Regressão linear: existir lineariedade"
      ]
    },
    {
      "cell_type": "markdown",
      "metadata": {
        "id": "piWbJ_o4vMdF"
      },
      "source": [
        "## Visão Geral do Projeto\n",
        "\n",
        "Neste projeto, vamos construir um modelo de regressão linear simples para estudar a relação linear entre o conjunto de dados de vendas e publicidade para um produto dietético para controle de peso.\n",
        "\n"
      ]
    },
    {
      "cell_type": "markdown",
      "metadata": {
        "id": "ITJ3EDH_vMdF"
      },
      "source": [
        "###  Regressão linear\n",
        "\n",
        "A regressão linear é uma técnica estatística usada para encontrar a relação linear entre variáveis dependentes e uma ou mais variáveis independentes. Esta técnica é aplicável para problemas de regressão de aprendizagem supervisionada onde tentamos prever uma variável contínua.\n",
        "\n",
        "A regressão linear pode ser classificada em dois tipos – **regressão linear simples e múltipla**. Neste projeto, vamos utilizar a técnica de **Regressão Linear Simples** onde tenho uma variável independente e uma dependente. É a forma mais simples de Regressão Linear onde ajustamos uma linha reta aos dados."
      ]
    },
    {
      "cell_type": "markdown",
      "metadata": {
        "id": "xqdguOtGvMdG"
      },
      "source": [
        "###  Regressão Linear Simples\n",
        "\n",
        "A regressão linear simples (ou RLS) é o modelo mais simples em aprendizado de máquina. Ele modela a relação linear entre as variáveis independentes e dependentes.\n",
        "\n",
        "Neste projeto, existe uma variável independente ou de entrada que representa os dados de Vendas e é denotada por X. Da mesma forma, existe uma variável dependente ou de saída que representa os dados de Publicidade e é denotada por y. Queremos construir uma relação linear entre essas variáveis. Esta relação linear pode ser modelada por uma equação matemática da forma:\n",
        "\n",
        "$$\\hat{y} = mx + b$$\n",
        "\n",
        ">Na equação acima $x$ e $\\hat{y}$ são chamados de variáveis **independente** e **dependente**, respectivamente,\n",
        ">\n",
        "> $m$ é o coeficiente da variável independente $x$ (representa a inclinação (_slope_) da reta)\n",
        ">\n",
        "> $b$ é o termo constante (representa o valor de interseção com o eixo `y`)\n",
        ">\n",
        "> $\\hat{y}$ representa o valor de $y$ previsto para um dado valor $x$.            \n",
        ">\n",
        "> $m$ e $b$ são chamados de parâmetros do modelo.\n",
        "\n",
        "Para simplificar, podemos comparar a equação acima com a equação básica da forma:\n",
        "\n",
        "$$y = ax + b$$     \n",
        "\n",
        "Nós podemos observar que:\n",
        "\n",
        "* a inclinação da reta é dada por, $a = m$, e\n",
        "\n",
        "* a interseção (i.e. interceptação) da reta com o eixo $y$ por $b$.\n",
        "\n",
        "\n",
        "Neste modelo de Regressão Linear Simples, queremos ajustar uma reta que estime a relação linear entre $X$ e $Y$. Assim, a questão do ajuste se reduz a estimar os parâmetros do modelo $m$ e $b$.\n",
        "\n",
        "Agora, nossa tarefa é encontrar uma reta que melhor se ajuste a esse gráfico de dispersão. Esta linha nos ajudará a prever o valor de qualquer variável `Target` para qualquer variável `Feature`. Esta linha é chamada de **Linha de Regressão**.\n",
        "\n",
        "\n",
        "\n"
      ]
    },
    {
      "cell_type": "markdown",
      "metadata": {
        "id": "xjtby9NuvMdH"
      },
      "source": [
        "## Bibliotecas Python\n",
        "\n",
        "Vamos usar neste projeto as seguintes bibliotecas:\n",
        "\n",
        "* **Numpy** – Fornece uma estrutura de _array_ numérica rápida e alguas funções operacionais.\n",
        "\n",
        "* **Pandas** – Fornece ferramentas para tarefas de armazenamento, manipulação e análise de dados.\n",
        "\n",
        "* **Scikit-Learn** – A biblioteca de aprendizado de máquina necessária em Python.\n",
        "\n",
        "* **Matplotlib** – É a biblioteca básica de plotagem em Python. Ela fornece ferramentas para este fim.\n"
      ]
    },
    {
      "cell_type": "code",
      "execution_count": 1,
      "metadata": {
        "id": "nEvvB72yvMdI"
      },
      "outputs": [],
      "source": [
        "# Importa as bibliotecas necessárias\n",
        "\n",
        "import numpy as np\n",
        "import pandas as pd\n",
        "import matplotlib.pyplot as plt\n"
      ]
    },
    {
      "cell_type": "code",
      "execution_count": 2,
      "metadata": {
        "id": "onr6fhcBvMdJ"
      },
      "outputs": [],
      "source": [
        "%matplotlib inline\n",
        "\n",
        "# O comando acima define o backend do matplotlib para o backend 'inline'.\n",
        "# Significa que a saída dos comandos de plotagem é exibida em linha."
      ]
    },
    {
      "cell_type": "markdown",
      "metadata": {
        "id": "6gh5RtvrvMdJ"
      },
      "source": [
        "## Sobre o conjunto de dados (_dataset_)\n",
        "\n",
        "O conjunto de dados foi importado do site de econometria com o seguinte URL:\n",
        "\n",
        "http://www.econometrics.com/intro/sales.htm\n",
        "\n",
        "Este conjunto de dados contém despesas com vendas e publicidade para um produto dietético para controle de peso. Ele contém dados mensais de 36 meses. As variáveis neste conjunto de dados são `Vendas` e `Publicidade` (`Propaganda`).\n",
        "\n"
      ]
    },
    {
      "cell_type": "code",
      "execution_count": 3,
      "metadata": {
        "id": "WSmevPhFvMdJ"
      },
      "outputs": [],
      "source": [
        "# Importa os dados\n",
        "\n",
        "url = \"sales.txt\"\n",
        "df = pd.read_csv(url, sep='\\t',header=None)"
      ]
    },
    {
      "cell_type": "markdown",
      "metadata": {
        "id": "XIF-1VeGvMdK"
      },
      "source": [
        "## Análise Exploratória dos Dados (AED)\n",
        "\n",
        "\n",
        "Primeiro, importo o conjunto de dados para o dataframe com a função `read_csv()` padrão da biblioteca Pandas e atribuo-o à variável `df`. Em seguida, conduziremos uma AED para ter uma ideia dos dados."
      ]
    },
    {
      "cell_type": "code",
      "execution_count": 4,
      "metadata": {
        "colab": {
          "base_uri": "https://localhost:8080/"
        },
        "id": "3a-GaexlvMdK",
        "outputId": "d84cae4d-6e40-4f15-db24-ea68fb8401fe"
      },
      "outputs": [
        {
          "name": "stdout",
          "output_type": "stream",
          "text": [
            "(36, 2)\n"
          ]
        }
      ],
      "source": [
        "# Análise Exploratória dos Dados\n",
        "\n",
        "# Ver as dimensões do df\n",
        "print(df.shape)"
      ]
    },
    {
      "cell_type": "code",
      "execution_count": 5,
      "metadata": {
        "colab": {
          "base_uri": "https://localhost:8080/"
        },
        "id": "RY76mHDIvMdL",
        "outputId": "ecf1fb1a-0b84-42f9-ef08-e4d48ecd17f1"
      },
      "outputs": [
        {
          "name": "stdout",
          "output_type": "stream",
          "text": [
            "      0     1\n",
            "0  12.0  15.0\n",
            "1  20.5  16.0\n",
            "2  21.0  18.0\n",
            "3  15.5  27.0\n",
            "4  15.3  21.0\n"
          ]
        }
      ],
      "source": [
        "# Veja as 5 principais linhas do df\n",
        "print(df.head())"
      ]
    },
    {
      "cell_type": "code",
      "execution_count": 6,
      "metadata": {
        "id": "5q3Lrhu7vMdL"
      },
      "outputs": [],
      "source": [
        "# Renomeia as colunas do dataframe\n",
        "df.columns = ['Sales', 'Advertising']"
      ]
    },
    {
      "cell_type": "code",
      "execution_count": 7,
      "metadata": {
        "colab": {
          "base_uri": "https://localhost:8080/"
        },
        "id": "DwSIV7TsvMdM",
        "outputId": "d431b35c-d073-4971-8ce5-ca7f55f5dcd2"
      },
      "outputs": [
        {
          "name": "stdout",
          "output_type": "stream",
          "text": [
            "   Sales  Advertising\n",
            "0   12.0         15.0\n",
            "1   20.5         16.0\n",
            "2   21.0         18.0\n",
            "3   15.5         27.0\n",
            "4   15.3         21.0\n"
          ]
        }
      ],
      "source": [
        "# Veja as 5 principais linhas do df com os nomes das colunas renomeados\n",
        "print(df.head())"
      ]
    },
    {
      "cell_type": "code",
      "execution_count": 8,
      "metadata": {
        "colab": {
          "base_uri": "https://localhost:8080/"
        },
        "id": "Fvzf5oYtvMdM",
        "outputId": "6f9d0745-4bc9-4910-c397-b808b0dd88b9"
      },
      "outputs": [
        {
          "name": "stdout",
          "output_type": "stream",
          "text": [
            "<class 'pandas.core.frame.DataFrame'>\n",
            "RangeIndex: 36 entries, 0 to 35\n",
            "Data columns (total 2 columns):\n",
            " #   Column       Non-Null Count  Dtype  \n",
            "---  ------       --------------  -----  \n",
            " 0   Sales        36 non-null     float64\n",
            " 1   Advertising  36 non-null     float64\n",
            "dtypes: float64(2)\n",
            "memory usage: 708.0 bytes\n",
            "None\n"
          ]
        }
      ],
      "source": [
        "# Ver resumo do dataframe\n",
        "print(df.info())"
      ]
    },
    {
      "cell_type": "code",
      "execution_count": 9,
      "metadata": {
        "colab": {
          "base_uri": "https://localhost:8080/"
        },
        "id": "b54nXIqovMdN",
        "outputId": "7c114d21-161c-4500-b1ec-41e981b763d5"
      },
      "outputs": [
        {
          "name": "stdout",
          "output_type": "stream",
          "text": [
            "           Sales  Advertising\n",
            "count  36.000000    36.000000\n",
            "mean   24.255556    28.527778\n",
            "std     6.185118    18.777625\n",
            "min    12.000000     1.000000\n",
            "25%    20.300000    15.750000\n",
            "50%    24.250000    23.000000\n",
            "75%    28.600000    41.000000\n",
            "max    36.500000    65.000000\n"
          ]
        }
      ],
      "source": [
        "# Ver a estatística descritiva\n",
        "print(df.describe())"
      ]
    },
    {
      "cell_type": "markdown",
      "metadata": {
        "id": "C4PcNwPVvMdN"
      },
      "source": [
        "## Variáveis Independentes e Dependentes\n",
        "\n",
        "Neste projeto, refiro-me à variável independente como variável `Feature` e à variável dependente como variável `Target`. Essas variáveis também são reconhecidas por nomes diferentes, como segue:\n",
        "\n",
        "### Variável Independente\n",
        "\n",
        "A variável independente também é chamada de variável de entrada e é denotada por $X$. Em aplicações práticas, a variável independente também é chamada de variável `Feature` (de recurso) ou variável `Predictor` (preditora). Podemos denotá-la como:\n",
        "\n",
        "Variável independente ou de entrada ($X$) = Variável `Feature` = Variável `Predictor`= Variável Preditora\n",
        "\n",
        "\n",
        "### Variável Dependente\n",
        "\n",
        "A variável dependente também é chamada de variável de saída e é denotada por $y$.\n",
        "\n",
        "A variável dependente também é chamada de variável `Target` ou variável de `Resposta`. Pode ser denotado da seguinte forma:\n",
        "\n",
        "Variável dependente ou de saída (`y`) = Variável  `Target` = Variável de resposta\n"
      ]
    },
    {
      "cell_type": "code",
      "execution_count": 10,
      "metadata": {
        "id": "55fvLYH-vMdN"
      },
      "outputs": [],
      "source": [
        "# Declarar a variável 'feature' e a variável 'target'\n",
        "\n",
        "X = df['Sales'].values\n",
        "y = df['Advertising'].values\n",
        "\n",
        "# Os valores dos dados de vendas e publicidade são dados por X e y, respectivamente.\n",
        "\n",
        "# O atributo values do dataframe do pandas retorna os arrays numpy."
      ]
    },
    {
      "cell_type": "markdown",
      "metadata": {
        "id": "RjPzoBjLvMdN"
      },
      "source": [
        "## Análise Exploratória dos Dados Visual\n",
        "\n",
        "Visualizar a relação entre X e y traçando um gráfico de dispersão entre X e y."
      ]
    },
    {
      "cell_type": "code",
      "execution_count": 11,
      "metadata": {
        "colab": {
          "base_uri": "https://localhost:8080/",
          "height": 472
        },
        "id": "UrmEx4_BvMdO",
        "outputId": "856ec78f-dca0-4f98-a511-f20c78528bdc"
      },
      "outputs": [
        {
          "data": {
            "image/png": "[encoded data removed]",
            "text/plain": [
              "<Figure size 640x480 with 1 Axes>"
            ]
          },
          "metadata": {},
          "output_type": "display_data"
        }
      ],
      "source": [
        "# Plot scatter plot between X and y\n",
        "plt.scatter(X, y, color = 'blue', label='Scatter Plot')\n",
        "plt.title('Relationship between Sales and Advertising')\n",
        "plt.xlabel('Sales')\n",
        "plt.ylabel('Advertising')\n",
        "plt.legend(loc=4)\n",
        "plt.show()"
      ]
    },
    {
      "cell_type": "markdown",
      "metadata": {
        "id": "MoXxPay2vMdO"
      },
      "source": [
        "## Verificando as dimensões de X e y\n",
        "\n",
        "Precisamos verificar as dimensões de `X` e `y` para ter certeza de que estão no formato correto para a API Scikit-Learn.\n",
        "\n",
        "É um importante precursor da construção de modelos.\n"
      ]
    },
    {
      "cell_type": "code",
      "execution_count": 12,
      "metadata": {
        "colab": {
          "base_uri": "https://localhost:8080/"
        },
        "id": "ZsctPIx3vMdO",
        "outputId": "fa8f0a2f-ccb9-466a-f874-ddf6bd22af9e"
      },
      "outputs": [
        {
          "name": "stdout",
          "output_type": "stream",
          "text": [
            "(36,)\n",
            "(36,)\n"
          ]
        }
      ],
      "source": [
        "# Imprimir as dimensões de X e y\n",
        "print(X.shape)\n",
        "print(y.shape)"
      ]
    },
    {
      "cell_type": "markdown",
      "metadata": {
        "id": "AoDQ4nxBvMdO"
      },
      "source": [
        "## Reshaping X and y\n",
        "\n",
        "Como estamos trabalhando com apenas uma variável `feature`, precisamos remodelá-la usando o método do\n",
        "Numpy chamado `reshape()`.\n",
        "\n",
        "Este método está sendo usado para alterar a forma (i.e. _shape_) dos arrays unidimensionais `X` e `y`. O argumento -1 em uma dimensão do reshape indica que o tamanho dessa dimensão deve ser inferido automaticamente com base no tamanho total do array e nas outras dimensões.\n",
        "\n",
        "O mesmo processo é aplicado a `y`. Ela também era um array unidimensional e, após o reshape, torna-se um array bidimensional com uma coluna.\n",
        "\n",
        "Tanto `X` como `y` inicialmente são arrays unidimensionais, e após o `reshape`, elas se tornam arrays bidimensionais com **uma** coluna. Isso é frequentemente necessário quando você está trabalhando com algoritmos que esperam que os dados de entrada tenham duas dimensões, como é o caso de muitos modelos de **(ML)** que usam bibliotecas como **scikit-learn**.\n",
        "\n",
        "Ou seja, os comandos abaixo estão preparando os dados para serem utilizados em um modelo de **ML** que espera que as `features` (`X`) e os `rótulos/targets` (`y`) tenham uma estrutura bidimensional."
      ]
    },
    {
      "cell_type": "code",
      "execution_count": 13,
      "metadata": {
        "id": "kxrf7DrSvMdO"
      },
      "outputs": [],
      "source": [
        "# Reshape X e y\n",
        "X = X.reshape(-1,1)\n",
        "y = y.reshape(-1,1)\n"
      ]
    },
    {
      "cell_type": "code",
      "execution_count": 14,
      "metadata": {
        "colab": {
          "base_uri": "https://localhost:8080/"
        },
        "id": "OOFVFbb1vMdP",
        "outputId": "28de9b80-cba5-4678-d71c-fb39a4d64871"
      },
      "outputs": [
        {
          "name": "stdout",
          "output_type": "stream",
          "text": [
            "(36, 1)\n",
            "(36, 1)\n"
          ]
        }
      ],
      "source": [
        "# Imprimir as dimensões de X e y após \"reshaping\"\n",
        "print(X.shape)\n",
        "print(y.shape)\n"
      ]
    },
    {
      "cell_type": "code",
      "execution_count": 15,
      "metadata": {
        "colab": {
          "base_uri": "https://localhost:8080/"
        },
        "id": "IjDTgy7M5tBS",
        "outputId": "7695a3cb-561c-4c86-d481-f36270abf1d9"
      },
      "outputs": [
        {
          "name": "stdout",
          "output_type": "stream",
          "text": [
            "[[12. ]\n",
            " [20.5]\n",
            " [21. ]\n",
            " [15.5]\n",
            " [15.3]\n",
            " [23.5]\n",
            " [24.5]\n",
            " [21.3]\n",
            " [23.5]\n",
            " [28. ]\n",
            " [24. ]\n",
            " [15.5]\n",
            " [17.3]\n",
            " [25.3]\n",
            " [25. ]\n",
            " [36.5]\n",
            " [36.5]\n",
            " [29.6]\n",
            " [30.5]\n",
            " [28. ]\n",
            " [26. ]\n",
            " [21.5]\n",
            " [19.7]\n",
            " [19. ]\n",
            " [16. ]\n",
            " [20.7]\n",
            " [26.5]\n",
            " [30.6]\n",
            " [32.3]\n",
            " [29.5]\n",
            " [28.3]\n",
            " [31.3]\n",
            " [32.3]\n",
            " [26.4]\n",
            " [23.4]\n",
            " [16.4]]\n"
          ]
        }
      ],
      "source": [
        "print(X)"
      ]
    },
    {
      "cell_type": "code",
      "execution_count": 16,
      "metadata": {
        "colab": {
          "base_uri": "https://localhost:8080/"
        },
        "id": "ogZ7Iw7i6NuO",
        "outputId": "13c483b3-a0d0-428e-bb4c-26095022e77f"
      },
      "outputs": [
        {
          "name": "stdout",
          "output_type": "stream",
          "text": [
            "[[15.]\n",
            " [16.]\n",
            " [18.]\n",
            " [27.]\n",
            " [21.]\n",
            " [49.]\n",
            " [21.]\n",
            " [22.]\n",
            " [28.]\n",
            " [36.]\n",
            " [40.]\n",
            " [ 3.]\n",
            " [21.]\n",
            " [29.]\n",
            " [62.]\n",
            " [65.]\n",
            " [46.]\n",
            " [44.]\n",
            " [33.]\n",
            " [62.]\n",
            " [22.]\n",
            " [12.]\n",
            " [24.]\n",
            " [ 3.]\n",
            " [ 5.]\n",
            " [14.]\n",
            " [36.]\n",
            " [40.]\n",
            " [49.]\n",
            " [ 7.]\n",
            " [52.]\n",
            " [65.]\n",
            " [17.]\n",
            " [ 5.]\n",
            " [17.]\n",
            " [ 1.]]\n"
          ]
        }
      ],
      "source": [
        "print(y)"
      ]
    },
    {
      "cell_type": "markdown",
      "metadata": {
        "id": "dYgKkTPHvMdP"
      },
      "source": [
        "## Divisão dos dados para teste e treinamento\n",
        "\n",
        "Eu divido o conjunto de dados em dois conjuntos, a saber: conjunto de treinamento (_train set_) e conjunto de teste (_test set_).\n",
        "\n",
        "O modelo aprende os relacionamentos dos dados de treinamento e prevê os dados de teste.\n",
        "\n"
      ]
    },
    {
      "cell_type": "code",
      "execution_count": 17,
      "metadata": {
        "id": "LVQpmvi3vMdP"
      },
      "outputs": [],
      "source": [
        "# Divide X e y em conjuntos de dados de treinamento e teste\n",
        "from sklearn.model_selection import train_test_split\n",
        "X_train,X_test,y_train,y_test = train_test_split(X, y, test_size=0.33, random_state=42)"
      ]
    },
    {
      "cell_type": "code",
      "execution_count": 18,
      "metadata": {
        "colab": {
          "base_uri": "https://localhost:8080/"
        },
        "id": "isdbc4fnvMdP",
        "outputId": "996e5f0a-4522-4c9e-fa7f-e2194f384c45"
      },
      "outputs": [
        {
          "name": "stdout",
          "output_type": "stream",
          "text": [
            "(24, 1)\n",
            "(24, 1)\n",
            "(12, 1)\n",
            "(12, 1)\n"
          ]
        }
      ],
      "source": [
        "# Imprime as dimensões de X_train,X_test,y_train,y_test\n",
        "print(X_train.shape)\n",
        "print(y_train.shape)\n",
        "print(X_test.shape)\n",
        "print(y_test.shape)"
      ]
    },
    {
      "cell_type": "markdown",
      "metadata": {
        "id": "7YEdhi1ivMdQ"
      },
      "source": [
        "## Mecânica do modelo\n",
        "\n",
        "Divido o conjunto de dados em dois conjuntos – o conjunto de treinamento e o conjunto de teste. Em seguida, instanciamos o regressor `lm` e o ajustamos ao conjunto de treinamento com o método `fit`.\n",
        "\n",
        "Nesta etapa, o modelo aprendeu as relações entre os dados de treinamento (`X_train`, `y_train`).\n",
        "\n",
        "Agora o modelo está pronto para fazer previsões nos dados de teste (X_test). Portanto, prevejo os dados de teste usando o método de previsão.\n",
        "\n"
      ]
    },
    {
      "cell_type": "code",
      "execution_count": 19,
      "metadata": {
        "id": "mDi6vxDkvMdQ"
      },
      "outputs": [],
      "source": [
        "# Ajusta (Fit) o modelo linear\n",
        "\n",
        "# Instancie o objeto de regressão linear lm\n",
        "from sklearn.linear_model import LinearRegression\n",
        "lm = LinearRegression()\n",
        "\n",
        "# Treina o modelo usando os conjuentos de treinamento\n",
        "lm.fit(X_train,y_train)\n",
        "\n",
        "\n",
        "# Prevê com base nos dados de teste\n",
        "y_pred=lm.predict(X_test)"
      ]
    },
    {
      "cell_type": "markdown",
      "metadata": {
        "id": "E0kdAFHovMdQ"
      },
      "source": [
        "## Valores da inclinação (_slope_) e interseção do modelo\n",
        "\n",
        "O valor da inclinação é dado por `lm.coef_` ($m$) e o da interseção é dado por `lm.intercept_` ($b$)\n",
        "\n",
        "A equação genérica da reta é:\n",
        "\n",
        "$$\\hat{y} = m * x + b$$\n",
        "\n",
        "Os valores estimados são:\n",
        "\n",
        "* `lm_coef_` = `m` = 1.60509347\n",
        "* `lm.intercept_` = `b`= -11.16003616\n",
        "\n",
        "Então, a equação da linha de regressão ajustada é:\n",
        "\n",
        "$$\\hat{y} = 1.60509347 * x - 11.16003616$$  "
      ]
    },
    {
      "cell_type": "code",
      "execution_count": 20,
      "metadata": {
        "colab": {
          "base_uri": "https://localhost:8080/"
        },
        "id": "Om1XE9gqvMdc",
        "outputId": "b122dae1-5e47-4217-9c72-e43a9fa383e5"
      },
      "outputs": [
        {
          "name": "stdout",
          "output_type": "stream",
          "text": [
            "Estimated model slope, m: [[1.60509347]]\n",
            "Estimated model intercept, b: (array([-11.16003616]),)\n"
          ]
        }
      ],
      "source": [
        "# Calcula o 'slope' e 'intercept' do modelo\n",
        "m = lm.coef_\n",
        "b = lm.intercept_,\n",
        "print(\"Estimated model slope, m:\" , m)\n",
        "print(\"Estimated model intercept, b:\" , b)\n"
      ]
    },
    {
      "cell_type": "markdown",
      "metadata": {
        "id": "P4AcD0F5vMdd"
      },
      "source": [
        "## Fazendo predições\n",
        "\n",
        "Eu previ os valores de publicidade (`Advertising`) nos primeiros cinco conjuntos de dados de vendas (`Sales`) escrevendo código:\n",
        "\n",
        "```\n",
        "lm.predict(X) [0:5]  \n",
        "```        \n",
        "\n",
        "Se eu remover [0:5], obterei os valores de publicidade previstos para todo o conjunto de dados de vendas.\n",
        "\n",
        "Para fazer previsões, sobre um valor de vendas individual, escrevo:\n",
        "\n",
        "```\n",
        "lm.predict(Xi)\n",
        "```        \n",
        "\n",
        "onde `Xi` é o valor dos dados de vendas da i-ésima observação.\n"
      ]
    },
    {
      "cell_type": "code",
      "execution_count": 21,
      "metadata": {
        "colab": {
          "base_uri": "https://localhost:8080/"
        },
        "id": "FhtvjqxMvMdd",
        "outputId": "3b8f6e68-9773-4929-a83c-f00f212e94b8"
      },
      "outputs": [
        {
          "data": {
            "text/plain": [
              "array([[ 8.10108551],\n",
              "       [21.74438002],\n",
              "       [22.54692675],\n",
              "       [13.71891266],\n",
              "       [13.39789396]])"
            ]
          },
          "execution_count": 21,
          "metadata": {},
          "output_type": "execute_result"
        }
      ],
      "source": [
        "# Prevendo os valores de \"Advertising\"\n",
        "# Previsão de valores de publicidade nos primeiros cinco valores de vendas\n",
        "lm.predict(X)[0:5]"
      ]
    },
    {
      "cell_type": "code",
      "execution_count": 22,
      "metadata": {
        "colab": {
          "base_uri": "https://localhost:8080/"
        },
        "id": "rGdDdOjcvMde",
        "outputId": "bb1de706-851f-4c7a-b31c-e353a47844c4"
      },
      "outputs": [
        {
          "name": "stdout",
          "output_type": "stream",
          "text": [
            "[[27.36220717]]\n"
          ]
        }
      ],
      "source": [
        "# Para fazer uma previsão individual usando o modelo de regressão linear.\n",
        "print(lm.predict([[24]]))"
      ]
    },
    {
      "cell_type": "code",
      "execution_count": 23,
      "metadata": {
        "colab": {
          "base_uri": "https://localhost:8080/",
          "height": 472
        },
        "id": "36P3NN0mvMdf",
        "outputId": "6e19df54-7742-4195-b686-b84f2e87ef09"
      },
      "outputs": [
        {
          "data": {
            "image/png": "[encoded data removed]",
            "text/plain": [
              "<Figure size 640x480 with 1 Axes>"
            ]
          },
          "metadata": {},
          "output_type": "display_data"
        }
      ],
      "source": [
        "# Plotar a Linha de Regressão\n",
        "plt.scatter(X, y, color = 'blue', label='Scatter Plot')\n",
        "plt.plot(X_test, y_pred, color = 'black', linewidth=3, label = 'Regression Line')\n",
        "plt.title('Relationship between Sales and Advertising')\n",
        "plt.xlabel('Sales')\n",
        "plt.ylabel('Advertising')\n",
        "plt.legend(loc=4)\n",
        "plt.show()"
      ]
    },
    {
      "cell_type": "markdown",
      "metadata": {
        "id": "tj-zDhxEvMdh"
      },
      "source": [
        "## Referências\n",
        "\n",
        "\n",
        "Os conceitos e ideias deste projeto foram retirados dos seguintes sites e livros:\n",
        "\n",
        "i.\tMachine learning notes by Andrew Ng\n",
        "\n",
        "ii.\thttps://en.wikipedia.org/wiki/Linear_regression\n",
        "\n",
        "iii.https://en.wikipedia.org/wiki/Simple_linear_regression\n",
        "\n",
        "iv.\thttps://en.wikipedia.org/wiki/Ordinary_least_squares\n",
        "\n",
        "v.\thttps://en.wikipedia.org/wiki/Root-mean-square_deviation\n",
        "\n",
        "vi.\thttps://en.wikipedia.org/wiki/Coefficient_of_determination\n",
        "\n",
        "vii.https://www.statisticssolutions.com/assumptions-of-linear-regression/\n",
        "\n",
        "viii.Python Data Science Handbook by Jake VanderPlas\n",
        "\n",
        "ix.\tHands-On Machine Learning with Scikit Learn and Tensorflow by Aurilien Geron\n",
        "\n",
        "x.\tIntroduction to Machine Learning with Python by Andreas C Muller and Sarah Guido\n"
      ]
    }
  ],
  "metadata": {
    "colab": {
      "provenance": []
    },
    "kernelspec": {
      "display_name": "data_science_intro",
      "language": "python",
      "name": "data_science_intro"
    },
    "language_info": {
      "codemirror_mode": {
        "name": "ipython",
        "version": 3
      },
      "file_extension": ".py",
      "mimetype": "text/x-python",
      "name": "python",
      "nbconvert_exporter": "python",
      "pygments_lexer": "ipython3",
      "version": "3.11.6"
    },
    "vscode": {
      "interpreter": {
        "hash": "ffb296bb67cd464c0bd9aa8d1601faebc7ed1887c8353bd0d8eaaedf3848ed39"
      }
    }
  },
  "nbformat": 4,
  "nbformat_minor": 0
}
